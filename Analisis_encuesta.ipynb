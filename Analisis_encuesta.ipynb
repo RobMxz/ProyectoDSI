{
 "cells": [
  {
   "cell_type": "markdown",
   "metadata": {},
   "source": [
    "# Lectura de la base de datos"
   ]
  },
  {
   "cell_type": "code",
   "execution_count": 2,
   "metadata": {},
   "outputs": [],
   "source": [
    "import pandas as pd\n",
    "dataset = pd.read_csv('Encuesta-resultados.csv')"
   ]
  },
  {
   "cell_type": "code",
   "execution_count": 3,
   "metadata": {},
   "outputs": [
    {
     "data": {
      "text/html": [
       "<div>\n",
       "<style scoped>\n",
       "    .dataframe tbody tr th:only-of-type {\n",
       "        vertical-align: middle;\n",
       "    }\n",
       "\n",
       "    .dataframe tbody tr th {\n",
       "        vertical-align: top;\n",
       "    }\n",
       "\n",
       "    .dataframe thead th {\n",
       "        text-align: right;\n",
       "    }\n",
       "</style>\n",
       "<table border=\"1\" class=\"dataframe\">\n",
       "  <thead>\n",
       "    <tr style=\"text-align: right;\">\n",
       "      <th></th>\n",
       "      <th>Marca temporal</th>\n",
       "      <th>¿Considera relevante la inclusión de un método de autentificación de usuario al acceder a SERA?</th>\n",
       "      <th>¿Qué funciones considera relevante en la gestión de usuarios de tipo estudiante?</th>\n",
       "      <th>¿Qué funciones considera relevante en la gestión de usuarios de tipo docente?</th>\n",
       "      <th>¿Qué funciones considera relevante en la gestión de usuarios de tipo psicopedagogo?</th>\n",
       "      <th>¿Considera adecuada la generación de reportes referentes al rendimiento del estudiante?</th>\n",
       "      <th>¿Considera adecuada la generación de resportes referentes al rendimiento del docente?</th>\n",
       "      <th>¿Qué funcionalidades debería incluir el sistema SERA?</th>\n",
       "      <th>¿Cuánto tiempo considera pertinente para la actualización del sistema? Especifique en minutos u horas</th>\n",
       "      <th>¿En qué sistemas operativos debería poder ejecutarse SERA?</th>\n",
       "      <th>¿En qué navegadores debería poder ejecutarse SERA?</th>\n",
       "      <th>¿En qué dispositivos debería poder ejecutarse el sistema SERA?</th>\n",
       "      <th>¿Considera relevante el aspecto seguridad en el software SERA?</th>\n",
       "      <th>¿Con qué frecuencia deberían generarse los reportes?</th>\n",
       "      <th>¿Qué otros aspectos considera importantes en una aplicación o programa?</th>\n",
       "    </tr>\n",
       "  </thead>\n",
       "  <tbody>\n",
       "    <tr>\n",
       "      <th>0</th>\n",
       "      <td>28/05/2023 20:27:04</td>\n",
       "      <td>Sí</td>\n",
       "      <td>Agregar nuevo estudiante, Modificar datos de u...</td>\n",
       "      <td>Agregar nuevo docente, Modificar datos de un d...</td>\n",
       "      <td>Agregar nuevo psicopedagogo, Modificar datos d...</td>\n",
       "      <td>Sí</td>\n",
       "      <td>Sí</td>\n",
       "      <td>Gestionar información del estudiante, Gestiona...</td>\n",
       "      <td>5 min</td>\n",
       "      <td>Windows, iOS</td>\n",
       "      <td>Google Chrome, Microsoft Edge</td>\n",
       "      <td>Computadora, Tablet, Celular</td>\n",
       "      <td>Sí</td>\n",
       "      <td>Semanalmente</td>\n",
       "      <td>Que no ocupe mucho espacio de almacenamiento</td>\n",
       "    </tr>\n",
       "    <tr>\n",
       "      <th>1</th>\n",
       "      <td>28/05/2023 20:27:36</td>\n",
       "      <td>Sí</td>\n",
       "      <td>Agregar nuevo estudiante, Modificar datos de u...</td>\n",
       "      <td>Mostrar datos del docente registrado anteriorm...</td>\n",
       "      <td>Agregar nuevo psicopedagogo, Modificar datos d...</td>\n",
       "      <td>Tal vez</td>\n",
       "      <td>Sí</td>\n",
       "      <td>Gestionar información del docente, Enviar corr...</td>\n",
       "      <td>Una hora aprox</td>\n",
       "      <td>Windows, Android</td>\n",
       "      <td>Opera</td>\n",
       "      <td>Computadora, Celular</td>\n",
       "      <td>Sí</td>\n",
       "      <td>Semanalmente</td>\n",
       "      <td>Consideren el inicio a la aplicación en un dis...</td>\n",
       "    </tr>\n",
       "    <tr>\n",
       "      <th>2</th>\n",
       "      <td>28/05/2023 20:28:05</td>\n",
       "      <td>Sí</td>\n",
       "      <td>Agregar nuevo estudiante, Modificar datos de u...</td>\n",
       "      <td>Agregar nuevo docente, Modificar datos de un d...</td>\n",
       "      <td>Agregar nuevo psicopedagogo, Modificar datos d...</td>\n",
       "      <td>Sí</td>\n",
       "      <td>Sí</td>\n",
       "      <td>Elaborar gráfico historial académico, Enviar c...</td>\n",
       "      <td>100 horas</td>\n",
       "      <td>Windows, macOS, Android, iOS</td>\n",
       "      <td>Google Chrome, Mozilla Firefox, Opera</td>\n",
       "      <td>Computadora, Tablet, Celular</td>\n",
       "      <td>Sí</td>\n",
       "      <td>Semanalmente</td>\n",
       "      <td>Interfaz de fácil manejo y entendible para el ...</td>\n",
       "    </tr>\n",
       "    <tr>\n",
       "      <th>3</th>\n",
       "      <td>28/05/2023 20:29:03</td>\n",
       "      <td>Sí</td>\n",
       "      <td>Agregar nuevo estudiante, Modificar datos de u...</td>\n",
       "      <td>Agregar nuevo docente, Modificar datos de un d...</td>\n",
       "      <td>Agregar nuevo psicopedagogo, Modificar datos d...</td>\n",
       "      <td>Tal vez</td>\n",
       "      <td>Sí</td>\n",
       "      <td>Gestionar información del estudiante, Gestiona...</td>\n",
       "      <td>1 hora</td>\n",
       "      <td>Windows, Linux</td>\n",
       "      <td>Google Chrome, Microsoft Edge</td>\n",
       "      <td>Computadora</td>\n",
       "      <td>Sí</td>\n",
       "      <td>Semanalmente</td>\n",
       "      <td>Que no tenga bugs</td>\n",
       "    </tr>\n",
       "    <tr>\n",
       "      <th>4</th>\n",
       "      <td>28/05/2023 20:31:38</td>\n",
       "      <td>Sí</td>\n",
       "      <td>Modificar datos de un estudiante registrado an...</td>\n",
       "      <td>Modificar datos de un docente registrado anter...</td>\n",
       "      <td>Modificar datos de un psicopedagogo registrado...</td>\n",
       "      <td>Sí</td>\n",
       "      <td>Sí</td>\n",
       "      <td>Gestionar información del estudiante, Gestiona...</td>\n",
       "      <td>1 minuto</td>\n",
       "      <td>Windows</td>\n",
       "      <td>Google Chrome, Microsoft Edge</td>\n",
       "      <td>Computadora</td>\n",
       "      <td>Sí</td>\n",
       "      <td>Diariamente</td>\n",
       "      <td>Adaptacion a diversos sistemas operativos</td>\n",
       "    </tr>\n",
       "  </tbody>\n",
       "</table>\n",
       "</div>"
      ],
      "text/plain": [
       "        Marca temporal  \\\n",
       "0  28/05/2023 20:27:04   \n",
       "1  28/05/2023 20:27:36   \n",
       "2  28/05/2023 20:28:05   \n",
       "3  28/05/2023 20:29:03   \n",
       "4  28/05/2023 20:31:38   \n",
       "\n",
       "  ¿Considera relevante la inclusión de un método de autentificación de usuario al acceder a SERA?  \\\n",
       "0                                                 Sí                                                \n",
       "1                                                 Sí                                                \n",
       "2                                                 Sí                                                \n",
       "3                                                 Sí                                                \n",
       "4                                                 Sí                                                \n",
       "\n",
       "  ¿Qué funciones considera relevante en la gestión de usuarios de tipo estudiante?  \\\n",
       "0  Agregar nuevo estudiante, Modificar datos de u...                                 \n",
       "1  Agregar nuevo estudiante, Modificar datos de u...                                 \n",
       "2  Agregar nuevo estudiante, Modificar datos de u...                                 \n",
       "3  Agregar nuevo estudiante, Modificar datos de u...                                 \n",
       "4  Modificar datos de un estudiante registrado an...                                 \n",
       "\n",
       "  ¿Qué funciones considera relevante en la gestión de usuarios de tipo docente?  \\\n",
       "0  Agregar nuevo docente, Modificar datos de un d...                              \n",
       "1  Mostrar datos del docente registrado anteriorm...                              \n",
       "2  Agregar nuevo docente, Modificar datos de un d...                              \n",
       "3  Agregar nuevo docente, Modificar datos de un d...                              \n",
       "4  Modificar datos de un docente registrado anter...                              \n",
       "\n",
       "  ¿Qué funciones considera relevante en la gestión de usuarios de tipo psicopedagogo?  \\\n",
       "0  Agregar nuevo psicopedagogo, Modificar datos d...                                    \n",
       "1  Agregar nuevo psicopedagogo, Modificar datos d...                                    \n",
       "2  Agregar nuevo psicopedagogo, Modificar datos d...                                    \n",
       "3  Agregar nuevo psicopedagogo, Modificar datos d...                                    \n",
       "4  Modificar datos de un psicopedagogo registrado...                                    \n",
       "\n",
       "  ¿Considera adecuada la generación de reportes referentes al rendimiento del estudiante?  \\\n",
       "0                                                 Sí                                        \n",
       "1                                            Tal vez                                        \n",
       "2                                                 Sí                                        \n",
       "3                                            Tal vez                                        \n",
       "4                                                 Sí                                        \n",
       "\n",
       "  ¿Considera adecuada la generación de resportes referentes al rendimiento del docente?  \\\n",
       "0                                                 Sí                                      \n",
       "1                                                 Sí                                      \n",
       "2                                                 Sí                                      \n",
       "3                                                 Sí                                      \n",
       "4                                                 Sí                                      \n",
       "\n",
       "  ¿Qué funcionalidades debería incluir el sistema SERA?  \\\n",
       "0  Gestionar información del estudiante, Gestiona...      \n",
       "1  Gestionar información del docente, Enviar corr...      \n",
       "2  Elaborar gráfico historial académico, Enviar c...      \n",
       "3  Gestionar información del estudiante, Gestiona...      \n",
       "4  Gestionar información del estudiante, Gestiona...      \n",
       "\n",
       "  ¿Cuánto tiempo considera pertinente para la actualización del sistema? Especifique en minutos u horas  \\\n",
       "0                                              5 min                                                      \n",
       "1                                     Una hora aprox                                                      \n",
       "2                                         100 horas                                                       \n",
       "3                                             1 hora                                                      \n",
       "4                                           1 minuto                                                      \n",
       "\n",
       "  ¿En qué sistemas operativos debería poder ejecutarse SERA?  \\\n",
       "0                                       Windows, iOS           \n",
       "1                                   Windows, Android           \n",
       "2                       Windows, macOS, Android, iOS           \n",
       "3                                     Windows, Linux           \n",
       "4                                            Windows           \n",
       "\n",
       "  ¿En qué navegadores debería poder ejecutarse SERA?  \\\n",
       "0                      Google Chrome, Microsoft Edge   \n",
       "1                                              Opera   \n",
       "2              Google Chrome, Mozilla Firefox, Opera   \n",
       "3                      Google Chrome, Microsoft Edge   \n",
       "4                      Google Chrome, Microsoft Edge   \n",
       "\n",
       "  ¿En qué dispositivos debería poder ejecutarse el sistema SERA?  \\\n",
       "0                       Computadora, Tablet, Celular               \n",
       "1                               Computadora, Celular               \n",
       "2                       Computadora, Tablet, Celular               \n",
       "3                                        Computadora               \n",
       "4                                        Computadora               \n",
       "\n",
       "  ¿Considera relevante el aspecto seguridad en el software SERA?  \\\n",
       "0                                                 Sí               \n",
       "1                                                 Sí               \n",
       "2                                                 Sí               \n",
       "3                                                 Sí               \n",
       "4                                                 Sí               \n",
       "\n",
       "  ¿Con qué frecuencia deberían generarse los reportes?  \\\n",
       "0                                       Semanalmente     \n",
       "1                                       Semanalmente     \n",
       "2                                       Semanalmente     \n",
       "3                                       Semanalmente     \n",
       "4                                        Diariamente     \n",
       "\n",
       "  ¿Qué otros aspectos considera importantes en una aplicación o programa?  \n",
       "0       Que no ocupe mucho espacio de almacenamiento                       \n",
       "1  Consideren el inicio a la aplicación en un dis...                       \n",
       "2  Interfaz de fácil manejo y entendible para el ...                       \n",
       "3                                  Que no tenga bugs                       \n",
       "4          Adaptacion a diversos sistemas operativos                       "
      ]
     },
     "execution_count": 3,
     "metadata": {},
     "output_type": "execute_result"
    }
   ],
   "source": [
    "dataset.head()"
   ]
  },
  {
   "cell_type": "markdown",
   "metadata": {},
   "source": [
    "## Información sobre detalles"
   ]
  },
  {
   "cell_type": "code",
   "execution_count": 4,
   "metadata": {},
   "outputs": [
    {
     "name": "stdout",
     "output_type": "stream",
     "text": [
      "<class 'pandas.core.frame.DataFrame'>\n",
      "RangeIndex: 73 entries, 0 to 72\n",
      "Data columns (total 15 columns):\n",
      " #   Column                                                                                                 Non-Null Count  Dtype \n",
      "---  ------                                                                                                 --------------  ----- \n",
      " 0   Marca temporal                                                                                         73 non-null     object\n",
      " 1   ¿Considera relevante la inclusión de un método de autentificación de usuario al acceder a SERA?        73 non-null     object\n",
      " 2   ¿Qué funciones considera relevante en la gestión de usuarios de tipo estudiante?                       73 non-null     object\n",
      " 3   ¿Qué funciones considera relevante en la gestión de usuarios de tipo docente?                          73 non-null     object\n",
      " 4   ¿Qué funciones considera relevante en la gestión de usuarios de tipo psicopedagogo?                    73 non-null     object\n",
      " 5   ¿Considera adecuada la generación de reportes referentes al rendimiento del estudiante?                73 non-null     object\n",
      " 6   ¿Considera adecuada la generación de resportes referentes al rendimiento del docente?                  73 non-null     object\n",
      " 7   ¿Qué funcionalidades debería incluir el sistema SERA?                                                  73 non-null     object\n",
      " 8   ¿Cuánto tiempo considera pertinente para la actualización del sistema? Especifique en minutos u horas  73 non-null     object\n",
      " 9   ¿En qué sistemas operativos debería poder ejecutarse SERA?                                             73 non-null     object\n",
      " 10  ¿En qué navegadores debería poder ejecutarse SERA?                                                     73 non-null     object\n",
      " 11  ¿En qué dispositivos debería poder ejecutarse el sistema SERA?                                         73 non-null     object\n",
      " 12  ¿Considera relevante el aspecto seguridad en el software SERA?                                         73 non-null     object\n",
      " 13  ¿Con qué frecuencia deberían generarse los reportes?                                                   73 non-null     object\n",
      " 14  ¿Qué otros aspectos considera importantes en una aplicación o programa?                                73 non-null     object\n",
      "dtypes: object(15)\n",
      "memory usage: 8.7+ KB\n"
     ]
    }
   ],
   "source": [
    "dataset.info()"
   ]
  },
  {
   "cell_type": "code",
   "execution_count": 5,
   "metadata": {},
   "outputs": [
    {
     "data": {
      "text/plain": [
       "(73, 15)"
      ]
     },
     "execution_count": 5,
     "metadata": {},
     "output_type": "execute_result"
    }
   ],
   "source": [
    "dataset.shape"
   ]
  },
  {
   "cell_type": "markdown",
   "metadata": {},
   "source": [
    "Existen 73 filas y 15 columnas"
   ]
  },
  {
   "cell_type": "code",
   "execution_count": 6,
   "metadata": {},
   "outputs": [
    {
     "data": {
      "text/plain": [
       "Marca temporal                                                                                           73\n",
       "¿Considera relevante la inclusión de un método de autentificación de usuario al acceder a SERA?          73\n",
       "¿Qué funciones considera relevante en la gestión de usuarios de tipo estudiante?                         73\n",
       "¿Qué funciones considera relevante en la gestión de usuarios de tipo docente?                            73\n",
       "¿Qué funciones considera relevante en la gestión de usuarios de tipo psicopedagogo?                      73\n",
       "¿Considera adecuada la generación de reportes referentes al rendimiento del estudiante?                  73\n",
       "¿Considera adecuada la generación de resportes referentes al rendimiento del docente?                    73\n",
       "¿Qué funcionalidades debería incluir el sistema SERA?                                                    73\n",
       "¿Cuánto tiempo considera pertinente para la actualización del sistema? Especifique en minutos u horas    73\n",
       "¿En qué sistemas operativos debería poder ejecutarse SERA?                                               73\n",
       "¿En qué navegadores debería poder ejecutarse SERA?                                                       73\n",
       "¿En qué dispositivos debería poder ejecutarse el sistema SERA?                                           73\n",
       "¿Considera relevante el aspecto seguridad en el software SERA?                                           73\n",
       "¿Con qué frecuencia deberían generarse los reportes?                                                     73\n",
       "¿Qué otros aspectos considera importantes en una aplicación o programa?                                  73\n",
       "dtype: int64"
      ]
     },
     "execution_count": 6,
     "metadata": {},
     "output_type": "execute_result"
    }
   ],
   "source": [
    "dataset.count()"
   ]
  },
  {
   "cell_type": "markdown",
   "metadata": {},
   "source": [
    "Todas las columnas tienen la misma cantidad de registros"
   ]
  },
  {
   "cell_type": "markdown",
   "metadata": {},
   "source": [
    "# Limpieza del dataset"
   ]
  },
  {
   "cell_type": "markdown",
   "metadata": {},
   "source": [
    "## Eliminación de registros vacíos"
   ]
  },
  {
   "cell_type": "code",
   "execution_count": 7,
   "metadata": {},
   "outputs": [],
   "source": [
    "dataset_na = dataset.dropna()"
   ]
  },
  {
   "cell_type": "code",
   "execution_count": 8,
   "metadata": {},
   "outputs": [
    {
     "data": {
      "text/plain": [
       "(73, 15)"
      ]
     },
     "execution_count": 8,
     "metadata": {},
     "output_type": "execute_result"
    }
   ],
   "source": [
    "dataset_na.shape"
   ]
  },
  {
   "cell_type": "code",
   "execution_count": 9,
   "metadata": {},
   "outputs": [],
   "source": [
    "dataset_nd = dataset_na.drop_duplicates()"
   ]
  },
  {
   "cell_type": "code",
   "execution_count": 10,
   "metadata": {},
   "outputs": [
    {
     "data": {
      "text/plain": [
       "(73, 15)"
      ]
     },
     "execution_count": 10,
     "metadata": {},
     "output_type": "execute_result"
    }
   ],
   "source": [
    "dataset_nd.shape"
   ]
  },
  {
   "cell_type": "code",
   "execution_count": 11,
   "metadata": {},
   "outputs": [
    {
     "name": "stdout",
     "output_type": "stream",
     "text": [
      "<class 'pandas.core.frame.DataFrame'>\n",
      "RangeIndex: 73 entries, 0 to 72\n",
      "Data columns (total 15 columns):\n",
      " #   Column                                                                                                 Non-Null Count  Dtype \n",
      "---  ------                                                                                                 --------------  ----- \n",
      " 0   Marca temporal                                                                                         73 non-null     object\n",
      " 1   ¿Considera relevante la inclusión de un método de autentificación de usuario al acceder a SERA?        73 non-null     object\n",
      " 2   ¿Qué funciones considera relevante en la gestión de usuarios de tipo estudiante?                       73 non-null     object\n",
      " 3   ¿Qué funciones considera relevante en la gestión de usuarios de tipo docente?                          73 non-null     object\n",
      " 4   ¿Qué funciones considera relevante en la gestión de usuarios de tipo psicopedagogo?                    73 non-null     object\n",
      " 5   ¿Considera adecuada la generación de reportes referentes al rendimiento del estudiante?                73 non-null     object\n",
      " 6   ¿Considera adecuada la generación de resportes referentes al rendimiento del docente?                  73 non-null     object\n",
      " 7   ¿Qué funcionalidades debería incluir el sistema SERA?                                                  73 non-null     object\n",
      " 8   ¿Cuánto tiempo considera pertinente para la actualización del sistema? Especifique en minutos u horas  73 non-null     object\n",
      " 9   ¿En qué sistemas operativos debería poder ejecutarse SERA?                                             73 non-null     object\n",
      " 10  ¿En qué navegadores debería poder ejecutarse SERA?                                                     73 non-null     object\n",
      " 11  ¿En qué dispositivos debería poder ejecutarse el sistema SERA?                                         73 non-null     object\n",
      " 12  ¿Considera relevante el aspecto seguridad en el software SERA?                                         73 non-null     object\n",
      " 13  ¿Con qué frecuencia deberían generarse los reportes?                                                   73 non-null     object\n",
      " 14  ¿Qué otros aspectos considera importantes en una aplicación o programa?                                73 non-null     object\n",
      "dtypes: object(15)\n",
      "memory usage: 8.7+ KB\n"
     ]
    }
   ],
   "source": [
    "dataset_nd.info()"
   ]
  },
  {
   "cell_type": "code",
   "execution_count": 12,
   "metadata": {},
   "outputs": [
    {
     "data": {
      "text/plain": [
       "Index(['Marca temporal',\n",
       "       '¿Considera relevante la inclusión de un método de autentificación de usuario al acceder a SERA?',\n",
       "       '¿Qué funciones considera relevante en la gestión de usuarios de tipo estudiante?',\n",
       "       '¿Qué funciones considera relevante en la gestión de usuarios de tipo docente?',\n",
       "       '¿Qué funciones considera relevante en la gestión de usuarios de tipo psicopedagogo?',\n",
       "       '¿Considera adecuada la generación de reportes referentes al rendimiento del estudiante?',\n",
       "       '¿Considera adecuada la generación de resportes referentes al rendimiento del docente?',\n",
       "       '¿Qué funcionalidades debería incluir el sistema SERA?',\n",
       "       '¿Cuánto tiempo considera pertinente para la actualización del sistema? Especifique en minutos u horas',\n",
       "       '¿En qué sistemas operativos debería poder ejecutarse SERA?',\n",
       "       '¿En qué navegadores debería poder ejecutarse SERA?',\n",
       "       '¿En qué dispositivos debería poder ejecutarse el sistema SERA?',\n",
       "       '¿Considera relevante el aspecto seguridad en el software SERA?',\n",
       "       '¿Con qué frecuencia deberían generarse los reportes?',\n",
       "       '¿Qué otros aspectos considera importantes en una aplicación o programa?'],\n",
       "      dtype='object')"
      ]
     },
     "execution_count": 12,
     "metadata": {},
     "output_type": "execute_result"
    }
   ],
   "source": [
    "dataset_nd.columns"
   ]
  },
  {
   "cell_type": "code",
   "execution_count": 13,
   "metadata": {},
   "outputs": [],
   "source": [
    "dataset2 = dataset_nd.rename(columns={'Marca temporal':'Fecha', \n",
    "                           '¿Considera relevante la inclusión de un método de autentificación de usuario al acceder a SERA?':'Inclusion_autentificacion', \n",
    "                           '¿Qué funciones considera relevante en la gestión de usuarios de tipo estudiante?':'Funciones_estudiante', \n",
    "                           '¿Qué funciones considera relevante en la gestión de usuarios de tipo docente?':'Funciones_docente', \n",
    "                           '¿Qué funciones considera relevante en la gestión de usuarios de tipo psicopedagogo?':'Funciones_psicopedagogo', \n",
    "                           '¿Considera adecuada la generación de reportes referentes al rendimiento del estudiante?':'Reporte_estudiante', \n",
    "                           '¿Considera adecuada la generación de resportes referentes al rendimiento del docente?':'Reporte_docente', \n",
    "                           '¿Qué funcionalidades debería incluir el sistema SERA?':'Funcionalidades_generales', \n",
    "                           '¿Cuánto tiempo considera pertinente para la actualización del sistema? Especifique en minutos u horas':'Tiempo_actualizacion',\n",
    "                           '¿En qué sistemas operativos debería poder ejecutarse SERA?':'SO_ejecucion',\n",
    "                           '¿En qué navegadores debería poder ejecutarse SERA?':'Navegadores_ejecucion',\n",
    "                           '¿En qué dispositivos debería poder ejecutarse el sistema SERA?':'Dispositivos_ejecucion',\n",
    "                           '¿Considera relevante el aspecto seguridad en el software SERA?':'Importancia_seguridad',\n",
    "                           '¿Con qué frecuencia deberían generarse los reportes?':'Frecuencia_reportes',\n",
    "                           '¿Qué otros aspectos considera importantes en una aplicación o programa?':'Aspectos_importantes'})"
   ]
  },
  {
   "cell_type": "code",
   "execution_count": 14,
   "metadata": {},
   "outputs": [
    {
     "data": {
      "text/html": [
       "<div>\n",
       "<style scoped>\n",
       "    .dataframe tbody tr th:only-of-type {\n",
       "        vertical-align: middle;\n",
       "    }\n",
       "\n",
       "    .dataframe tbody tr th {\n",
       "        vertical-align: top;\n",
       "    }\n",
       "\n",
       "    .dataframe thead th {\n",
       "        text-align: right;\n",
       "    }\n",
       "</style>\n",
       "<table border=\"1\" class=\"dataframe\">\n",
       "  <thead>\n",
       "    <tr style=\"text-align: right;\">\n",
       "      <th></th>\n",
       "      <th>Fecha</th>\n",
       "      <th>Inclusion_autentificacion</th>\n",
       "      <th>Funciones_estudiante</th>\n",
       "      <th>Funciones_docente</th>\n",
       "      <th>Funciones_psicopedagogo</th>\n",
       "      <th>Reporte_estudiante</th>\n",
       "      <th>Reporte_docente</th>\n",
       "      <th>Funcionalidades_generales</th>\n",
       "      <th>Tiempo_actualizacion</th>\n",
       "      <th>SO_ejecucion</th>\n",
       "      <th>Navegadores_ejecucion</th>\n",
       "      <th>Dispositivos_ejecucion</th>\n",
       "      <th>Importancia_seguridad</th>\n",
       "      <th>Frecuencia_reportes</th>\n",
       "      <th>Aspectos_importantes</th>\n",
       "    </tr>\n",
       "  </thead>\n",
       "  <tbody>\n",
       "    <tr>\n",
       "      <th>0</th>\n",
       "      <td>28/05/2023 20:27:04</td>\n",
       "      <td>Sí</td>\n",
       "      <td>Agregar nuevo estudiante, Modificar datos de u...</td>\n",
       "      <td>Agregar nuevo docente, Modificar datos de un d...</td>\n",
       "      <td>Agregar nuevo psicopedagogo, Modificar datos d...</td>\n",
       "      <td>Sí</td>\n",
       "      <td>Sí</td>\n",
       "      <td>Gestionar información del estudiante, Gestiona...</td>\n",
       "      <td>5 min</td>\n",
       "      <td>Windows, iOS</td>\n",
       "      <td>Google Chrome, Microsoft Edge</td>\n",
       "      <td>Computadora, Tablet, Celular</td>\n",
       "      <td>Sí</td>\n",
       "      <td>Semanalmente</td>\n",
       "      <td>Que no ocupe mucho espacio de almacenamiento</td>\n",
       "    </tr>\n",
       "    <tr>\n",
       "      <th>1</th>\n",
       "      <td>28/05/2023 20:27:36</td>\n",
       "      <td>Sí</td>\n",
       "      <td>Agregar nuevo estudiante, Modificar datos de u...</td>\n",
       "      <td>Mostrar datos del docente registrado anteriorm...</td>\n",
       "      <td>Agregar nuevo psicopedagogo, Modificar datos d...</td>\n",
       "      <td>Tal vez</td>\n",
       "      <td>Sí</td>\n",
       "      <td>Gestionar información del docente, Enviar corr...</td>\n",
       "      <td>Una hora aprox</td>\n",
       "      <td>Windows, Android</td>\n",
       "      <td>Opera</td>\n",
       "      <td>Computadora, Celular</td>\n",
       "      <td>Sí</td>\n",
       "      <td>Semanalmente</td>\n",
       "      <td>Consideren el inicio a la aplicación en un dis...</td>\n",
       "    </tr>\n",
       "    <tr>\n",
       "      <th>2</th>\n",
       "      <td>28/05/2023 20:28:05</td>\n",
       "      <td>Sí</td>\n",
       "      <td>Agregar nuevo estudiante, Modificar datos de u...</td>\n",
       "      <td>Agregar nuevo docente, Modificar datos de un d...</td>\n",
       "      <td>Agregar nuevo psicopedagogo, Modificar datos d...</td>\n",
       "      <td>Sí</td>\n",
       "      <td>Sí</td>\n",
       "      <td>Elaborar gráfico historial académico, Enviar c...</td>\n",
       "      <td>100 horas</td>\n",
       "      <td>Windows, macOS, Android, iOS</td>\n",
       "      <td>Google Chrome, Mozilla Firefox, Opera</td>\n",
       "      <td>Computadora, Tablet, Celular</td>\n",
       "      <td>Sí</td>\n",
       "      <td>Semanalmente</td>\n",
       "      <td>Interfaz de fácil manejo y entendible para el ...</td>\n",
       "    </tr>\n",
       "    <tr>\n",
       "      <th>3</th>\n",
       "      <td>28/05/2023 20:29:03</td>\n",
       "      <td>Sí</td>\n",
       "      <td>Agregar nuevo estudiante, Modificar datos de u...</td>\n",
       "      <td>Agregar nuevo docente, Modificar datos de un d...</td>\n",
       "      <td>Agregar nuevo psicopedagogo, Modificar datos d...</td>\n",
       "      <td>Tal vez</td>\n",
       "      <td>Sí</td>\n",
       "      <td>Gestionar información del estudiante, Gestiona...</td>\n",
       "      <td>1 hora</td>\n",
       "      <td>Windows, Linux</td>\n",
       "      <td>Google Chrome, Microsoft Edge</td>\n",
       "      <td>Computadora</td>\n",
       "      <td>Sí</td>\n",
       "      <td>Semanalmente</td>\n",
       "      <td>Que no tenga bugs</td>\n",
       "    </tr>\n",
       "    <tr>\n",
       "      <th>4</th>\n",
       "      <td>28/05/2023 20:31:38</td>\n",
       "      <td>Sí</td>\n",
       "      <td>Modificar datos de un estudiante registrado an...</td>\n",
       "      <td>Modificar datos de un docente registrado anter...</td>\n",
       "      <td>Modificar datos de un psicopedagogo registrado...</td>\n",
       "      <td>Sí</td>\n",
       "      <td>Sí</td>\n",
       "      <td>Gestionar información del estudiante, Gestiona...</td>\n",
       "      <td>1 minuto</td>\n",
       "      <td>Windows</td>\n",
       "      <td>Google Chrome, Microsoft Edge</td>\n",
       "      <td>Computadora</td>\n",
       "      <td>Sí</td>\n",
       "      <td>Diariamente</td>\n",
       "      <td>Adaptacion a diversos sistemas operativos</td>\n",
       "    </tr>\n",
       "    <tr>\n",
       "      <th>...</th>\n",
       "      <td>...</td>\n",
       "      <td>...</td>\n",
       "      <td>...</td>\n",
       "      <td>...</td>\n",
       "      <td>...</td>\n",
       "      <td>...</td>\n",
       "      <td>...</td>\n",
       "      <td>...</td>\n",
       "      <td>...</td>\n",
       "      <td>...</td>\n",
       "      <td>...</td>\n",
       "      <td>...</td>\n",
       "      <td>...</td>\n",
       "      <td>...</td>\n",
       "      <td>...</td>\n",
       "    </tr>\n",
       "    <tr>\n",
       "      <th>68</th>\n",
       "      <td>29/05/2023 11:38:07</td>\n",
       "      <td>Sí</td>\n",
       "      <td>Modificar datos de un estudiante registrado an...</td>\n",
       "      <td>Mostrar datos del docente registrado anteriorm...</td>\n",
       "      <td>Modificar datos de un psicopedagogo registrado...</td>\n",
       "      <td>Sí</td>\n",
       "      <td>Sí</td>\n",
       "      <td>Gestionar información del estudiante, Gestiona...</td>\n",
       "      <td>60 min</td>\n",
       "      <td>Windows</td>\n",
       "      <td>Google Chrome</td>\n",
       "      <td>Computadora</td>\n",
       "      <td>Sí</td>\n",
       "      <td>Semanalmente</td>\n",
       "      <td>La velocidad con la que se ejecuta</td>\n",
       "    </tr>\n",
       "    <tr>\n",
       "      <th>69</th>\n",
       "      <td>29/05/2023 14:12:48</td>\n",
       "      <td>Sí</td>\n",
       "      <td>Agregar nuevo estudiante, Modificar datos de u...</td>\n",
       "      <td>Agregar nuevo docente, Modificar datos de un d...</td>\n",
       "      <td>Mostrar datos del psicopedagogo registrado ant...</td>\n",
       "      <td>Sí</td>\n",
       "      <td>Sí</td>\n",
       "      <td>Gestionar información del docente, Generar rep...</td>\n",
       "      <td>2 minutos</td>\n",
       "      <td>Windows, Linux</td>\n",
       "      <td>Google Chrome</td>\n",
       "      <td>Computadora, Tablet, Celular</td>\n",
       "      <td>Sí</td>\n",
       "      <td>Diariamente</td>\n",
       "      <td>La interfaz grafica</td>\n",
       "    </tr>\n",
       "    <tr>\n",
       "      <th>70</th>\n",
       "      <td>29/05/2023 18:01:52</td>\n",
       "      <td>Tal vez</td>\n",
       "      <td>Mostrar datos del estudiante registrado anteri...</td>\n",
       "      <td>Modificar datos de un docente registrado anter...</td>\n",
       "      <td>Modificar datos de un psicopedagogo registrado...</td>\n",
       "      <td>Sí</td>\n",
       "      <td>Sí</td>\n",
       "      <td>Registrar notas del estudiante por asignatura,...</td>\n",
       "      <td>30 minutos</td>\n",
       "      <td>Windows, Android</td>\n",
       "      <td>Google Chrome</td>\n",
       "      <td>Computadora, Celular</td>\n",
       "      <td>Tal vez</td>\n",
       "      <td>Semanalmente</td>\n",
       "      <td>La facilidad de uso</td>\n",
       "    </tr>\n",
       "    <tr>\n",
       "      <th>71</th>\n",
       "      <td>29/05/2023 22:45:08</td>\n",
       "      <td>Sí</td>\n",
       "      <td>Agregar nuevo estudiante, Modificar datos de u...</td>\n",
       "      <td>Agregar nuevo docente, Modificar datos de un d...</td>\n",
       "      <td>Agregar nuevo psicopedagogo, Modificar datos d...</td>\n",
       "      <td>Sí</td>\n",
       "      <td>Sí</td>\n",
       "      <td>Gestionar información del estudiante, Gestiona...</td>\n",
       "      <td>Considero una actualización mensual</td>\n",
       "      <td>Windows, macOS, Linux, Android, iOS</td>\n",
       "      <td>Google Chrome, Mozilla Firefox, Microsoft Edge...</td>\n",
       "      <td>Computadora, Tablet, Celular</td>\n",
       "      <td>Sí</td>\n",
       "      <td>Mensualmente</td>\n",
       "      <td>La eficiencia, debido que es necesaria para cu...</td>\n",
       "    </tr>\n",
       "    <tr>\n",
       "      <th>72</th>\n",
       "      <td>29/05/2023 23:16:10</td>\n",
       "      <td>Sí</td>\n",
       "      <td>Modificar datos de un estudiante registrado an...</td>\n",
       "      <td>Modificar datos de un docente registrado anter...</td>\n",
       "      <td>Modificar datos de un psicopedagogo registrado...</td>\n",
       "      <td>Sí</td>\n",
       "      <td>Sí</td>\n",
       "      <td>Gestionar información del estudiante, Gestiona...</td>\n",
       "      <td>25 horas</td>\n",
       "      <td>Windows</td>\n",
       "      <td>Google Chrome, Mozilla Firefox</td>\n",
       "      <td>Computadora, Tablet, Celular</td>\n",
       "      <td>Sí</td>\n",
       "      <td>Diariamente</td>\n",
       "      <td>Técnicos</td>\n",
       "    </tr>\n",
       "  </tbody>\n",
       "</table>\n",
       "<p>73 rows × 15 columns</p>\n",
       "</div>"
      ],
      "text/plain": [
       "                  Fecha Inclusion_autentificacion  \\\n",
       "0   28/05/2023 20:27:04                        Sí   \n",
       "1   28/05/2023 20:27:36                        Sí   \n",
       "2   28/05/2023 20:28:05                        Sí   \n",
       "3   28/05/2023 20:29:03                        Sí   \n",
       "4   28/05/2023 20:31:38                        Sí   \n",
       "..                  ...                       ...   \n",
       "68  29/05/2023 11:38:07                        Sí   \n",
       "69  29/05/2023 14:12:48                        Sí   \n",
       "70  29/05/2023 18:01:52                   Tal vez   \n",
       "71  29/05/2023 22:45:08                        Sí   \n",
       "72  29/05/2023 23:16:10                        Sí   \n",
       "\n",
       "                                 Funciones_estudiante  \\\n",
       "0   Agregar nuevo estudiante, Modificar datos de u...   \n",
       "1   Agregar nuevo estudiante, Modificar datos de u...   \n",
       "2   Agregar nuevo estudiante, Modificar datos de u...   \n",
       "3   Agregar nuevo estudiante, Modificar datos de u...   \n",
       "4   Modificar datos de un estudiante registrado an...   \n",
       "..                                                ...   \n",
       "68  Modificar datos de un estudiante registrado an...   \n",
       "69  Agregar nuevo estudiante, Modificar datos de u...   \n",
       "70  Mostrar datos del estudiante registrado anteri...   \n",
       "71  Agregar nuevo estudiante, Modificar datos de u...   \n",
       "72  Modificar datos de un estudiante registrado an...   \n",
       "\n",
       "                                    Funciones_docente  \\\n",
       "0   Agregar nuevo docente, Modificar datos de un d...   \n",
       "1   Mostrar datos del docente registrado anteriorm...   \n",
       "2   Agregar nuevo docente, Modificar datos de un d...   \n",
       "3   Agregar nuevo docente, Modificar datos de un d...   \n",
       "4   Modificar datos de un docente registrado anter...   \n",
       "..                                                ...   \n",
       "68  Mostrar datos del docente registrado anteriorm...   \n",
       "69  Agregar nuevo docente, Modificar datos de un d...   \n",
       "70  Modificar datos de un docente registrado anter...   \n",
       "71  Agregar nuevo docente, Modificar datos de un d...   \n",
       "72  Modificar datos de un docente registrado anter...   \n",
       "\n",
       "                              Funciones_psicopedagogo Reporte_estudiante  \\\n",
       "0   Agregar nuevo psicopedagogo, Modificar datos d...                 Sí   \n",
       "1   Agregar nuevo psicopedagogo, Modificar datos d...            Tal vez   \n",
       "2   Agregar nuevo psicopedagogo, Modificar datos d...                 Sí   \n",
       "3   Agregar nuevo psicopedagogo, Modificar datos d...            Tal vez   \n",
       "4   Modificar datos de un psicopedagogo registrado...                 Sí   \n",
       "..                                                ...                ...   \n",
       "68  Modificar datos de un psicopedagogo registrado...                 Sí   \n",
       "69  Mostrar datos del psicopedagogo registrado ant...                 Sí   \n",
       "70  Modificar datos de un psicopedagogo registrado...                 Sí   \n",
       "71  Agregar nuevo psicopedagogo, Modificar datos d...                 Sí   \n",
       "72  Modificar datos de un psicopedagogo registrado...                 Sí   \n",
       "\n",
       "   Reporte_docente                          Funcionalidades_generales  \\\n",
       "0               Sí  Gestionar información del estudiante, Gestiona...   \n",
       "1               Sí  Gestionar información del docente, Enviar corr...   \n",
       "2               Sí  Elaborar gráfico historial académico, Enviar c...   \n",
       "3               Sí  Gestionar información del estudiante, Gestiona...   \n",
       "4               Sí  Gestionar información del estudiante, Gestiona...   \n",
       "..             ...                                                ...   \n",
       "68              Sí  Gestionar información del estudiante, Gestiona...   \n",
       "69              Sí  Gestionar información del docente, Generar rep...   \n",
       "70              Sí  Registrar notas del estudiante por asignatura,...   \n",
       "71              Sí  Gestionar información del estudiante, Gestiona...   \n",
       "72              Sí  Gestionar información del estudiante, Gestiona...   \n",
       "\n",
       "                   Tiempo_actualizacion                         SO_ejecucion  \\\n",
       "0                                 5 min                         Windows, iOS   \n",
       "1                        Una hora aprox                     Windows, Android   \n",
       "2                            100 horas          Windows, macOS, Android, iOS   \n",
       "3                                1 hora                       Windows, Linux   \n",
       "4                              1 minuto                              Windows   \n",
       "..                                  ...                                  ...   \n",
       "68                               60 min                              Windows   \n",
       "69                            2 minutos                       Windows, Linux   \n",
       "70                           30 minutos                     Windows, Android   \n",
       "71  Considero una actualización mensual  Windows, macOS, Linux, Android, iOS   \n",
       "72                            25 horas                               Windows   \n",
       "\n",
       "                                Navegadores_ejecucion  \\\n",
       "0                       Google Chrome, Microsoft Edge   \n",
       "1                                               Opera   \n",
       "2               Google Chrome, Mozilla Firefox, Opera   \n",
       "3                       Google Chrome, Microsoft Edge   \n",
       "4                       Google Chrome, Microsoft Edge   \n",
       "..                                                ...   \n",
       "68                                      Google Chrome   \n",
       "69                                      Google Chrome   \n",
       "70                                      Google Chrome   \n",
       "71  Google Chrome, Mozilla Firefox, Microsoft Edge...   \n",
       "72                     Google Chrome, Mozilla Firefox   \n",
       "\n",
       "          Dispositivos_ejecucion Importancia_seguridad Frecuencia_reportes  \\\n",
       "0   Computadora, Tablet, Celular                    Sí        Semanalmente   \n",
       "1           Computadora, Celular                    Sí        Semanalmente   \n",
       "2   Computadora, Tablet, Celular                    Sí        Semanalmente   \n",
       "3                    Computadora                    Sí        Semanalmente   \n",
       "4                    Computadora                    Sí         Diariamente   \n",
       "..                           ...                   ...                 ...   \n",
       "68                   Computadora                    Sí        Semanalmente   \n",
       "69  Computadora, Tablet, Celular                    Sí         Diariamente   \n",
       "70          Computadora, Celular               Tal vez        Semanalmente   \n",
       "71  Computadora, Tablet, Celular                    Sí        Mensualmente   \n",
       "72  Computadora, Tablet, Celular                    Sí         Diariamente   \n",
       "\n",
       "                                 Aspectos_importantes  \n",
       "0        Que no ocupe mucho espacio de almacenamiento  \n",
       "1   Consideren el inicio a la aplicación en un dis...  \n",
       "2   Interfaz de fácil manejo y entendible para el ...  \n",
       "3                                   Que no tenga bugs  \n",
       "4           Adaptacion a diversos sistemas operativos  \n",
       "..                                                ...  \n",
       "68                La velocidad con la que se ejecuta   \n",
       "69                               La interfaz grafica   \n",
       "70                               La facilidad de uso   \n",
       "71  La eficiencia, debido que es necesaria para cu...  \n",
       "72                                           Técnicos  \n",
       "\n",
       "[73 rows x 15 columns]"
      ]
     },
     "execution_count": 14,
     "metadata": {},
     "output_type": "execute_result"
    }
   ],
   "source": [
    "dataset2"
   ]
  },
  {
   "cell_type": "code",
   "execution_count": 15,
   "metadata": {},
   "outputs": [
    {
     "data": {
      "text/plain": [
       "array(['Sí', 'Tal vez', 'No'], dtype=object)"
      ]
     },
     "execution_count": 15,
     "metadata": {},
     "output_type": "execute_result"
    }
   ],
   "source": [
    "dataset2['Inclusion_autentificacion'].unique()"
   ]
  },
  {
   "cell_type": "code",
   "execution_count": 16,
   "metadata": {},
   "outputs": [
    {
     "data": {
      "text/plain": [
       "array(['Agregar nuevo estudiante, Modificar datos de un estudiante registrado anteriormente, Mostrar datos del estudiante registrado anteriormente',\n",
       "       'Agregar nuevo estudiante, Modificar datos de un estudiante registrado anteriormente',\n",
       "       'Agregar nuevo estudiante, Modificar datos de un estudiante registrado anteriormente, Eliminar estudiante del sistema, Mostrar datos del estudiante registrado anteriormente',\n",
       "       'Modificar datos de un estudiante registrado anteriormente, Mostrar datos del estudiante registrado anteriormente',\n",
       "       'Agregar nuevo estudiante, Modificar datos de un estudiante registrado anteriormente, Eliminar estudiante del sistema',\n",
       "       'Modificar datos de un estudiante registrado anteriormente',\n",
       "       'Agregar nuevo estudiante, Eliminar estudiante del sistema, Mostrar datos del estudiante registrado anteriormente',\n",
       "       'Agregar nuevo estudiante, Mostrar datos del estudiante registrado anteriormente',\n",
       "       'Eliminar estudiante del sistema, Mostrar datos del estudiante registrado anteriormente',\n",
       "       'Eliminar estudiante del sistema',\n",
       "       'Mostrar datos del estudiante registrado anteriormente',\n",
       "       'Agregar nuevo estudiante',\n",
       "       'Modificar datos de un estudiante registrado anteriormente, Eliminar estudiante del sistema',\n",
       "       'Mostrar datos del estudiante registrado anteriormente, ',\n",
       "       'Agregar nuevo estudiante, Modificar datos de un estudiante registrado anteriormente, Eliminar estudiante del sistema, Mostrar datos del estudiante registrado anteriormente, Mostrar los promedios de los estudiantes y el nivel de rendimiento de todos en los cursos '],\n",
       "      dtype=object)"
      ]
     },
     "execution_count": 16,
     "metadata": {},
     "output_type": "execute_result"
    }
   ],
   "source": [
    "dataset2['Funciones_estudiante'].unique()"
   ]
  },
  {
   "cell_type": "code",
   "execution_count": 17,
   "metadata": {},
   "outputs": [
    {
     "name": "stdout",
     "output_type": "stream",
     "text": [
      "\n",
      " FECHA \n",
      " ['28/05/2023 20:27:04' '28/05/2023 20:27:36' '28/05/2023 20:28:05'\n",
      " '28/05/2023 20:29:03' '28/05/2023 20:31:38' '28/05/2023 20:32:01'\n",
      " '28/05/2023 20:32:22' '28/05/2023 20:32:24' '28/05/2023 20:32:26'\n",
      " '28/05/2023 20:32:45' '28/05/2023 20:32:50' '28/05/2023 20:33:02'\n",
      " '28/05/2023 20:33:59' '28/05/2023 20:34:17' '28/05/2023 20:34:58'\n",
      " '28/05/2023 20:37:33' '28/05/2023 20:37:52' '28/05/2023 20:42:40'\n",
      " '28/05/2023 20:42:51' '28/05/2023 20:43:22' '28/05/2023 20:43:26'\n",
      " '28/05/2023 20:44:28' '28/05/2023 20:48:38' '28/05/2023 20:51:22'\n",
      " '28/05/2023 20:58:13' '28/05/2023 21:00:33' '28/05/2023 21:08:08'\n",
      " '28/05/2023 21:08:24' '28/05/2023 21:08:55' '28/05/2023 21:13:40'\n",
      " '28/05/2023 21:16:04' '28/05/2023 21:16:43' '28/05/2023 21:17:50'\n",
      " '28/05/2023 21:18:05' '28/05/2023 21:19:49' '28/05/2023 21:21:28'\n",
      " '28/05/2023 21:22:24' '28/05/2023 21:22:41' '28/05/2023 21:36:49'\n",
      " '28/05/2023 21:39:27' '28/05/2023 21:40:55' '28/05/2023 21:44:25'\n",
      " '28/05/2023 21:49:00' '28/05/2023 21:50:58' '28/05/2023 22:06:31'\n",
      " '28/05/2023 22:19:17' '28/05/2023 22:20:00' '28/05/2023 22:29:41'\n",
      " '28/05/2023 22:32:01' '28/05/2023 22:35:06' '28/05/2023 22:44:47'\n",
      " '28/05/2023 22:47:26' '28/05/2023 22:47:50' '28/05/2023 23:27:41'\n",
      " '28/05/2023 23:36:37' '28/05/2023 23:57:48' '29/05/2023 0:00:11'\n",
      " '29/05/2023 0:18:17' '29/05/2023 0:53:40' '29/05/2023 1:08:34'\n",
      " '29/05/2023 1:12:03' '29/05/2023 2:53:39' '29/05/2023 8:10:21'\n",
      " '29/05/2023 8:20:11' '29/05/2023 8:21:25' '29/05/2023 8:42:06'\n",
      " '29/05/2023 10:11:22' '29/05/2023 10:16:23' '29/05/2023 11:38:07'\n",
      " '29/05/2023 14:12:48' '29/05/2023 18:01:52' '29/05/2023 22:45:08'\n",
      " '29/05/2023 23:16:10']\n",
      "\n",
      " INCLUSION_AUTENTIFICACION \n",
      " ['Sí' 'Tal vez' 'No']\n",
      "\n",
      " FUNCIONES_ESTUDIANTE \n",
      " ['Agregar nuevo estudiante, Modificar datos de un estudiante registrado anteriormente, Mostrar datos del estudiante registrado anteriormente'\n",
      " 'Agregar nuevo estudiante, Modificar datos de un estudiante registrado anteriormente'\n",
      " 'Agregar nuevo estudiante, Modificar datos de un estudiante registrado anteriormente, Eliminar estudiante del sistema, Mostrar datos del estudiante registrado anteriormente'\n",
      " 'Modificar datos de un estudiante registrado anteriormente, Mostrar datos del estudiante registrado anteriormente'\n",
      " 'Agregar nuevo estudiante, Modificar datos de un estudiante registrado anteriormente, Eliminar estudiante del sistema'\n",
      " 'Modificar datos de un estudiante registrado anteriormente'\n",
      " 'Agregar nuevo estudiante, Eliminar estudiante del sistema, Mostrar datos del estudiante registrado anteriormente'\n",
      " 'Agregar nuevo estudiante, Mostrar datos del estudiante registrado anteriormente'\n",
      " 'Eliminar estudiante del sistema, Mostrar datos del estudiante registrado anteriormente'\n",
      " 'Eliminar estudiante del sistema'\n",
      " 'Mostrar datos del estudiante registrado anteriormente'\n",
      " 'Agregar nuevo estudiante'\n",
      " 'Modificar datos de un estudiante registrado anteriormente, Eliminar estudiante del sistema'\n",
      " 'Mostrar datos del estudiante registrado anteriormente, '\n",
      " 'Agregar nuevo estudiante, Modificar datos de un estudiante registrado anteriormente, Eliminar estudiante del sistema, Mostrar datos del estudiante registrado anteriormente, Mostrar los promedios de los estudiantes y el nivel de rendimiento de todos en los cursos ']\n",
      "\n",
      " FUNCIONES_DOCENTE \n",
      " ['Agregar nuevo docente, Modificar datos de un docente registrado anteriormente, Mostrar datos del docente registrado anteriormente'\n",
      " 'Mostrar datos del docente registrado anteriormente'\n",
      " 'Agregar nuevo docente, Modificar datos de un docente registrado anteriormente, Eliminar docente del sistema, Mostrar datos del docente registrado anteriormente'\n",
      " 'Modificar datos de un docente registrado anteriormente, Mostrar datos del docente registrado anteriormente'\n",
      " 'Agregar nuevo docente, Modificar datos de un docente registrado anteriormente, Eliminar docente del sistema'\n",
      " 'Agregar nuevo docente, Eliminar docente del sistema, Mostrar datos del docente registrado anteriormente'\n",
      " 'Agregar nuevo docente, Mostrar datos del docente registrado anteriormente'\n",
      " 'Agregar nuevo docente'\n",
      " 'Agregar nuevo docente, Modificar datos de un docente registrado anteriormente'\n",
      " 'Modificar datos de un docente registrado anteriormente'\n",
      " 'Eliminar docente del sistema'\n",
      " 'Modificar datos de un docente registrado anteriormente, Eliminar docente del sistema']\n",
      "\n",
      " FUNCIONES_PSICOPEDAGOGO \n",
      " ['Agregar nuevo psicopedagogo, Modificar datos de un psicopedagogo registrado anteriormente, Mostrar datos del psicopedagogo registrado anteriormente'\n",
      " 'Agregar nuevo psicopedagogo, Modificar datos de un psicopedagogo registrado anteriormente'\n",
      " 'Agregar nuevo psicopedagogo, Modificar datos de un psicopedagogo registrado anteriormente, Eliminar psicopedagogo del sistema, Mostrar datos del psicopedagogo registrado anteriormente'\n",
      " 'Modificar datos de un psicopedagogo registrado anteriormente'\n",
      " 'Agregar nuevo psicopedagogo, Modificar datos de un psicopedagogo registrado anteriormente, Eliminar psicopedagogo del sistema'\n",
      " 'Mostrar datos del psicopedagogo registrado anteriormente'\n",
      " 'Agregar nuevo psicopedagogo, Eliminar psicopedagogo del sistema, Mostrar datos del psicopedagogo registrado anteriormente'\n",
      " 'Agregar nuevo psicopedagogo, Mostrar datos del psicopedagogo registrado anteriormente'\n",
      " 'Agregar nuevo psicopedagogo'\n",
      " 'Modificar datos de un psicopedagogo registrado anteriormente, Eliminar psicopedagogo del sistema'\n",
      " 'Eliminar psicopedagogo del sistema'\n",
      " 'Modificar datos de un psicopedagogo registrado anteriormente, Mostrar datos del psicopedagogo registrado anteriormente'\n",
      " 'Agregar nuevo psicopedagogo, Eliminar psicopedagogo del sistema']\n",
      "\n",
      " REPORTE_ESTUDIANTE \n",
      " ['Sí' 'Tal vez']\n",
      "\n",
      " REPORTE_DOCENTE \n",
      " ['Sí' 'No' 'Tal vez']\n",
      "\n",
      " FUNCIONALIDADES_GENERALES \n",
      " ['Gestionar información del estudiante, Gestionar información del docente, Gestionar información del psicopedagogo, Registrar notas del estudiante por asignatura, Promediar notas por grado, Mostrar historial de calificaciones, Elaborar gráfico historial académico, Enviar correos automáticos con la información de reportes, Detectar problemas que influyen sobre el rendimiento del estudiante en base a la data disponible, Generar sugerencias ante problemas detectados, Generar sugerencias destinadas al docente en base a su rendimiento'\n",
      " 'Gestionar información del docente, Enviar correos automáticos con la información de reportes'\n",
      " 'Elaborar gráfico historial académico, Enviar correos automáticos con la información de reportes, Generar reportes sobre el rendimiento del estudiante, Generar reportes sobre el rendimiento del docente'\n",
      " 'Gestionar información del estudiante, Gestionar información del docente, Gestionar información del psicopedagogo, Registrar notas del estudiante por asignatura, Promediar notas por asignatura, Promediar notas por grado, Mostrar historial de calificaciones'\n",
      " 'Gestionar información del estudiante, Gestionar información del docente, Gestionar información del psicopedagogo'\n",
      " 'Gestionar información del estudiante, Gestionar información del docente, Gestionar información del psicopedagogo, Registrar notas del estudiante por asignatura, Promediar notas por asignatura, Promediar notas por grado, Enviar correos automáticos con la información de reportes, Detectar problemas que influyen sobre el rendimiento del estudiante en base a la data disponible, Generar reportes sobre el rendimiento del estudiante, Generar reportes sobre el rendimiento del docente'\n",
      " 'Gestionar información del estudiante, Gestionar información del docente, Gestionar información del psicopedagogo, Registrar notas del estudiante por asignatura, Promediar notas por asignatura, Promediar notas por grado, Mostrar historial de calificaciones, Elaborar gráfico historial académico, Enviar correos automáticos con la información de reportes, Detectar problemas que influyen sobre el rendimiento del estudiante en base a la data disponible, Generar sugerencias ante problemas detectados, Generar reportes sobre el rendimiento del estudiante, Generar reportes sobre el rendimiento del docente, Generar sugerencias destinadas al docente en base a su rendimiento'\n",
      " 'Gestionar información del estudiante, Gestionar información del docente, Gestionar información del psicopedagogo, Elaborar gráfico historial académico, Enviar correos automáticos con la información de reportes, Detectar problemas que influyen sobre el rendimiento del estudiante en base a la data disponible, Generar reportes sobre el rendimiento del estudiante, Generar reportes sobre el rendimiento del docente'\n",
      " 'Registrar notas del estudiante por asignatura, Promediar notas por asignatura, Mostrar historial de calificaciones, Elaborar gráfico historial académico, Enviar correos automáticos con la información de reportes, Generar reportes sobre el rendimiento del estudiante'\n",
      " 'Gestionar información del estudiante, Gestionar información del docente, Registrar notas del estudiante por asignatura, Promediar notas por asignatura, Promediar notas por grado, Mostrar historial de calificaciones, Elaborar gráfico historial académico, Detectar problemas que influyen sobre el rendimiento del estudiante en base a la data disponible, Generar sugerencias ante problemas detectados, Generar reportes sobre el rendimiento del estudiante, Generar reportes sobre el rendimiento del docente, Generar sugerencias destinadas al docente en base a su rendimiento'\n",
      " 'Gestionar información del estudiante, Mostrar historial de calificaciones, Elaborar gráfico historial académico, Generar reportes sobre el rendimiento del estudiante, Generar reportes sobre el rendimiento del docente'\n",
      " 'Gestionar información del estudiante, Mostrar historial de calificaciones, Elaborar gráfico historial académico, Detectar problemas que influyen sobre el rendimiento del estudiante en base a la data disponible, Generar sugerencias ante problemas detectados, Generar reportes sobre el rendimiento del estudiante, Generar sugerencias destinadas al docente en base a su rendimiento'\n",
      " 'Gestionar información del estudiante, Gestionar información del docente, Gestionar información del psicopedagogo, Registrar notas del estudiante por asignatura, Mostrar historial de calificaciones, Elaborar gráfico historial académico, Enviar correos automáticos con la información de reportes, Detectar problemas que influyen sobre el rendimiento del estudiante en base a la data disponible, Generar sugerencias ante problemas detectados, Generar reportes sobre el rendimiento del estudiante, Generar reportes sobre el rendimiento del docente, Generar sugerencias destinadas al docente en base a su rendimiento'\n",
      " 'Registrar notas del estudiante por asignatura, Promediar notas por asignatura, Promediar notas por grado, Mostrar historial de calificaciones, Elaborar gráfico historial académico, Enviar correos automáticos con la información de reportes, Generar reportes sobre el rendimiento del estudiante, Generar reportes sobre el rendimiento del docente, Generar sugerencias destinadas al docente en base a su rendimiento'\n",
      " 'Gestionar información del estudiante, Gestionar información del docente, Gestionar información del psicopedagogo, Registrar notas del estudiante por asignatura, Mostrar historial de calificaciones, Elaborar gráfico historial académico, Enviar correos automáticos con la información de reportes, Detectar problemas que influyen sobre el rendimiento del estudiante en base a la data disponible, Generar sugerencias ante problemas detectados, Generar reportes sobre el rendimiento del estudiante'\n",
      " 'Gestionar información del docente, Gestionar información del psicopedagogo, Registrar notas del estudiante por asignatura, Promediar notas por asignatura, Elaborar gráfico historial académico, Enviar correos automáticos con la información de reportes, Detectar problemas que influyen sobre el rendimiento del estudiante en base a la data disponible'\n",
      " 'Gestionar información del estudiante, Gestionar información del docente, Gestionar información del psicopedagogo, Promediar notas por asignatura, Promediar notas por grado, Mostrar historial de calificaciones, Enviar correos automáticos con la información de reportes, Generar reportes sobre el rendimiento del estudiante'\n",
      " 'Gestionar información del estudiante, Gestionar información del docente, Gestionar información del psicopedagogo, Promediar notas por asignatura, Promediar notas por grado, Mostrar historial de calificaciones, Generar sugerencias ante problemas detectados, Generar reportes sobre el rendimiento del estudiante, Generar reportes sobre el rendimiento del docente, Generar sugerencias destinadas al docente en base a su rendimiento'\n",
      " 'Gestionar información del estudiante, Gestionar información del docente, Gestionar información del psicopedagogo, Promediar notas por asignatura, Promediar notas por grado, Mostrar historial de calificaciones, Elaborar gráfico historial académico, Generar reportes sobre el rendimiento del estudiante, Generar reportes sobre el rendimiento del docente, Generar sugerencias destinadas al docente en base a su rendimiento'\n",
      " 'Gestionar información del docente, Registrar notas del estudiante por asignatura, Promediar notas por grado, Elaborar gráfico historial académico, Enviar correos automáticos con la información de reportes, Detectar problemas que influyen sobre el rendimiento del estudiante en base a la data disponible'\n",
      " 'Gestionar información del estudiante, Gestionar información del docente, Gestionar información del psicopedagogo, Registrar notas del estudiante por asignatura, Mostrar historial de calificaciones, Detectar problemas que influyen sobre el rendimiento del estudiante en base a la data disponible, Generar sugerencias ante problemas detectados, Generar reportes sobre el rendimiento del estudiante, Generar reportes sobre el rendimiento del docente, Generar sugerencias destinadas al docente en base a su rendimiento'\n",
      " 'Gestionar información del estudiante, Gestionar información del docente, Gestionar información del psicopedagogo, Registrar notas del estudiante por asignatura, Mostrar historial de calificaciones, Elaborar gráfico historial académico, Detectar problemas que influyen sobre el rendimiento del estudiante en base a la data disponible, Generar reportes sobre el rendimiento del estudiante, Generar reportes sobre el rendimiento del docente, Generar sugerencias destinadas al docente en base a su rendimiento'\n",
      " 'Gestionar información del estudiante, Gestionar información del docente, Gestionar información del psicopedagogo, Registrar notas del estudiante por asignatura, Promediar notas por asignatura, Promediar notas por grado, Mostrar historial de calificaciones, Elaborar gráfico historial académico, Enviar correos automáticos con la información de reportes, Generar sugerencias ante problemas detectados, Generar reportes sobre el rendimiento del estudiante, Generar reportes sobre el rendimiento del docente, Generar sugerencias destinadas al docente en base a su rendimiento'\n",
      " 'Detectar problemas que influyen sobre el rendimiento del estudiante en base a la data disponible'\n",
      " 'Gestionar información del estudiante, Gestionar información del docente, Gestionar información del psicopedagogo, Registrar notas del estudiante por asignatura, Promediar notas por asignatura, Promediar notas por grado, Mostrar historial de calificaciones, Elaborar gráfico historial académico, Detectar problemas que influyen sobre el rendimiento del estudiante en base a la data disponible, Generar reportes sobre el rendimiento del estudiante, Generar reportes sobre el rendimiento del docente'\n",
      " 'Gestionar información del estudiante, Gestionar información del docente, Promediar notas por grado, Mostrar historial de calificaciones, Generar sugerencias ante problemas detectados, Generar reportes sobre el rendimiento del estudiante'\n",
      " 'Gestionar información del estudiante, Gestionar información del docente, Gestionar información del psicopedagogo, Promediar notas por asignatura, Elaborar gráfico historial académico, Enviar correos automáticos con la información de reportes, Generar reportes sobre el rendimiento del estudiante'\n",
      " 'Gestionar información del estudiante, Gestionar información del docente, Registrar notas del estudiante por asignatura, Promediar notas por asignatura, Promediar notas por grado, Mostrar historial de calificaciones, Elaborar gráfico historial académico, Enviar correos automáticos con la información de reportes'\n",
      " 'Registrar notas del estudiante por asignatura'\n",
      " 'Gestionar información del docente'\n",
      " 'Elaborar gráfico historial académico'\n",
      " 'Registrar notas del estudiante por asignatura, Promediar notas por asignatura, Elaborar gráfico historial académico'\n",
      " 'Gestionar información del estudiante, Gestionar información del docente, Gestionar información del psicopedagogo, Enviar correos automáticos con la información de reportes, Generar reportes sobre el rendimiento del estudiante, Generar reportes sobre el rendimiento del docente'\n",
      " 'Gestionar información del psicopedagogo, Detectar problemas que influyen sobre el rendimiento del estudiante en base a la data disponible'\n",
      " 'Gestionar información del estudiante, Gestionar información del docente, Gestionar información del psicopedagogo, Registrar notas del estudiante por asignatura, Generar sugerencias ante problemas detectados, Generar reportes sobre el rendimiento del estudiante, Generar reportes sobre el rendimiento del docente'\n",
      " 'Gestionar información del estudiante, Gestionar información del docente, Gestionar información del psicopedagogo, Registrar notas del estudiante por asignatura, Promediar notas por asignatura, Promediar notas por grado, Mostrar historial de calificaciones, Generar reportes sobre el rendimiento del estudiante, Generar reportes sobre el rendimiento del docente, Generar sugerencias destinadas al docente en base a su rendimiento'\n",
      " 'Registrar notas del estudiante por asignatura, Elaborar gráfico historial académico, Generar sugerencias destinadas al docente en base a su rendimiento'\n",
      " 'Registrar notas del estudiante por asignatura, Promediar notas por asignatura, Mostrar historial de calificaciones'\n",
      " 'Gestionar información del estudiante, Gestionar información del docente, Elaborar gráfico historial académico, Enviar correos automáticos con la información de reportes'\n",
      " 'Gestionar información del estudiante, Gestionar información del docente, Gestionar información del psicopedagogo, Registrar notas del estudiante por asignatura, Promediar notas por asignatura, Enviar correos automáticos con la información de reportes, Generar sugerencias ante problemas detectados, Generar reportes sobre el rendimiento del estudiante, Generar reportes sobre el rendimiento del docente'\n",
      " 'Gestionar información del docente, Registrar notas del estudiante por asignatura, Generar sugerencias destinadas al docente en base a su rendimiento'\n",
      " 'Gestionar información del estudiante, Gestionar información del docente, Gestionar información del psicopedagogo, Registrar notas del estudiante por asignatura, Promediar notas por asignatura, Mostrar historial de calificaciones, Elaborar gráfico historial académico, Detectar problemas que influyen sobre el rendimiento del estudiante en base a la data disponible, Generar reportes sobre el rendimiento del docente'\n",
      " 'Gestionar información del psicopedagogo, Promediar notas por grado, Detectar problemas que influyen sobre el rendimiento del estudiante en base a la data disponible, Generar reportes sobre el rendimiento del estudiante'\n",
      " 'Registrar notas del estudiante por asignatura, Mostrar historial de calificaciones, Enviar correos automáticos con la información de reportes, Detectar problemas que influyen sobre el rendimiento del estudiante en base a la data disponible, Generar reportes sobre el rendimiento del docente'\n",
      " 'Gestionar información del psicopedagogo, Registrar notas del estudiante por asignatura'\n",
      " 'Gestionar información del estudiante, Gestionar información del docente, Gestionar información del psicopedagogo, Generar reportes sobre el rendimiento del estudiante, Generar reportes sobre el rendimiento del docente, Generar sugerencias destinadas al docente en base a su rendimiento'\n",
      " 'Gestionar información del estudiante, Mostrar historial de calificaciones, Enviar correos automáticos con la información de reportes, Detectar problemas que influyen sobre el rendimiento del estudiante en base a la data disponible, Generar reportes sobre el rendimiento del docente, Generar sugerencias destinadas al docente en base a su rendimiento'\n",
      " 'Gestionar información del estudiante, Promediar notas por asignatura, Mostrar historial de calificaciones, Enviar correos automáticos con la información de reportes, Generar reportes sobre el rendimiento del estudiante, Generar reportes sobre el rendimiento del docente'\n",
      " 'Elaborar gráfico historial académico, Detectar problemas que influyen sobre el rendimiento del estudiante en base a la data disponible, Generar sugerencias ante problemas detectados, Generar reportes sobre el rendimiento del estudiante, Generar reportes sobre el rendimiento del docente'\n",
      " 'Gestionar información del psicopedagogo, Registrar notas del estudiante por asignatura, Promediar notas por grado, Enviar correos automáticos con la información de reportes, Generar sugerencias ante problemas detectados, Generar reportes sobre el rendimiento del docente'\n",
      " 'Gestionar información del estudiante, Gestionar información del docente, Gestionar información del psicopedagogo, Registrar notas del estudiante por asignatura, Promediar notas por asignatura, Promediar notas por grado, Elaborar gráfico historial académico, Generar sugerencias ante problemas detectados, Generar reportes sobre el rendimiento del estudiante, Generar reportes sobre el rendimiento del docente'\n",
      " 'Registrar notas del estudiante por asignatura, Mostrar historial de calificaciones, Elaborar gráfico historial académico'\n",
      " 'Gestionar información del estudiante, Gestionar información del docente, Gestionar información del psicopedagogo, Registrar notas del estudiante por asignatura, Promediar notas por asignatura, Promediar notas por grado, Mostrar historial de calificaciones, Elaborar gráfico historial académico, Detectar problemas que influyen sobre el rendimiento del estudiante en base a la data disponible, Generar sugerencias ante problemas detectados, Generar reportes sobre el rendimiento del estudiante, Generar reportes sobre el rendimiento del docente, Generar sugerencias destinadas al docente en base a su rendimiento'\n",
      " 'Gestionar información del estudiante, Gestionar información del docente, Registrar notas del estudiante por asignatura, Promediar notas por asignatura, Promediar notas por grado, Mostrar historial de calificaciones, Elaborar gráfico historial académico, Generar sugerencias ante problemas detectados, Generar reportes sobre el rendimiento del estudiante, Generar reportes sobre el rendimiento del docente'\n",
      " 'Gestionar información del estudiante, Gestionar información del docente, Gestionar información del psicopedagogo, Registrar notas del estudiante por asignatura, Promediar notas por asignatura, Promediar notas por grado, Mostrar historial de calificaciones, Enviar correos automáticos con la información de reportes, Generar sugerencias ante problemas detectados'\n",
      " 'Gestionar información del estudiante, Gestionar información del docente, Mostrar historial de calificaciones, Generar reportes sobre el rendimiento del estudiante, Generar reportes sobre el rendimiento del docente'\n",
      " 'Gestionar información del docente, Generar reportes sobre el rendimiento del estudiante, Generar sugerencias destinadas al docente en base a su rendimiento'\n",
      " 'Registrar notas del estudiante por asignatura, Promediar notas por asignatura, Promediar notas por grado, Elaborar gráfico historial académico, Detectar problemas que influyen sobre el rendimiento del estudiante en base a la data disponible'\n",
      " 'Gestionar información del estudiante, Gestionar información del psicopedagogo, Detectar problemas que influyen sobre el rendimiento del estudiante en base a la data disponible, Generar reportes sobre el rendimiento del estudiante, Generar sugerencias destinadas al docente en base a su rendimiento']\n",
      "\n",
      " TIEMPO_ACTUALIZACION \n",
      " ['5 min' 'Una hora aprox' '100 horas ' '1 hora' '1 minuto' '10' '5 min.'\n",
      " '10 min' '10 minutos ' '4 horas' '6 horas' '5 minutos'\n",
      " '30 minutos, dependería de la cantidad de alumnos y evaluaciones a ingresar.'\n",
      " '6 horas, en la noche (madrugada)preferentemente ' '5 minutos '\n",
      " 'cada día' '24 horas' '30 minutos ' 'Cada hora' '20 minutos'\n",
      " '15 minutos ' 'Cada 24 horas' '30 min' '30 minutos' '1 minuto '\n",
      " 'cada 12 horas' '60 minutos ' '20 minutos ' '120 min.' 'Ninguna'\n",
      " '3minutos' '3min' 'Cada minuto' '2 horas' '30minutos' '24 h' '1' ' '\n",
      " '48 horas' '20 min' '2 minutos ' '3 horas ' '15 min' '60 min' '2 minutos'\n",
      " 'Considero una actualización mensual' '25 horas ']\n",
      "\n",
      " SO_EJECUCION \n",
      " ['Windows, iOS' 'Windows, Android' 'Windows, macOS, Android, iOS'\n",
      " 'Windows, Linux' 'Windows' 'Windows, macOS'\n",
      " 'Windows, macOS, Linux, Android, iOS' 'Windows, Android, iOS' 'Android'\n",
      " 'Windows, macOS, Linux, Android' 'Windows, Linux, Android, iOS'\n",
      " 'Windows, macOS, Android' 'iOS'\n",
      " 'Windows, macOS, Linux, Android, iOS, HarmonyOS 2'\n",
      " 'Windows, macOS, Linux']\n",
      "\n",
      " NAVEGADORES_EJECUCION \n",
      " ['Google Chrome, Microsoft Edge' 'Opera'\n",
      " 'Google Chrome, Mozilla Firefox, Opera' 'Google Chrome, Opera'\n",
      " 'Google Chrome' 'Google Chrome, Microsoft Edge, Brave'\n",
      " 'Google Chrome, Mozilla Firefox, Microsoft Edge, Safari'\n",
      " 'Google Chrome, Microsoft Edge, Opera'\n",
      " 'Google Chrome, Mozilla Firefox, Microsoft Edge, Safari, Opera'\n",
      " 'Google Chrome, Mozilla Firefox, Microsoft Edge, Opera' 'Microsoft Edge'\n",
      " 'Google Chrome, Brave' 'Google Chrome, Mozilla Firefox, Safari'\n",
      " 'Google Chrome, Mozilla Firefox, Safari, Opera'\n",
      " 'Google Chrome, Mozilla Firefox' 'Brave' 'Google Chrome, Safari'\n",
      " 'Microsoft Edge, Opera'\n",
      " 'Google Chrome, Mozilla Firefox, Microsoft Edge, Safari, Opera, Duck Duck Go'\n",
      " 'Google Chrome, Microsoft Edge, Safari']\n",
      "\n",
      " DISPOSITIVOS_EJECUCION \n",
      " ['Computadora, Tablet, Celular' 'Computadora, Celular' 'Computadora'\n",
      " 'Celular' 'Computadora, Tablet' 'Tablet']\n",
      "\n",
      " IMPORTANCIA_SEGURIDAD \n",
      " ['Sí' 'Tal vez']\n",
      "\n",
      " FRECUENCIA_REPORTES \n",
      " ['Semanalmente' 'Diariamente' 'Mensualmente'\n",
      " 'En el momento en que se solicite']\n",
      "\n",
      " ASPECTOS_IMPORTANTES \n",
      " ['Que no ocupe mucho espacio de almacenamiento'\n",
      " 'Consideren el inicio a la aplicación en un dispositivo a la vez, como la hace el SUM '\n",
      " 'Interfaz de fácil manejo y entendible para el usuario'\n",
      " 'Que no tenga bugs' 'Adaptacion a diversos sistemas operativos'\n",
      " 'Su interfaz' 'Actualizaciones constantes ' 'Interfaz llamativa '\n",
      " 'Que pueda haber interacción entre usuarios'\n",
      " 'Considero que con los propuestos está completa '\n",
      " 'Interfaz fácil y amigable. Menos funciones. Restricciones de usuario'\n",
      " 'Se puede tomar en cuenta que el usuario puede tener un chat de consulta , en el cual puede establecer sus dudas directamente al docente\\n'\n",
      " 'Agregar recordatorios de actividades del estudiante '\n",
      " 'El acceso por parte de los tutores, para supervizar el rendimiento de los estudiantes'\n",
      " 'la optimizacion, que no se demore mucho en cargar la pagina o aplicación.'\n",
      " 'la gestión '\n",
      " 'estar anexado a una base de datos que mantenga un respaldo de los datos ingresados '\n",
      " 'que haya una estabilidad en la conexion' 'Corrección de datos '\n",
      " 'Que tenga seguridad' 'Una interfaz bonita' 'la Interfaz uwu'\n",
      " 'Que maneje una sencilla terminología '\n",
      " 'Optimización, rendimiento dependiendo el tipo de dispositivo.'\n",
      " 'Facilidad de uso para cualquier tipo de usuario'\n",
      " 'El reporte de rendimiento del estudiante puede ser enviado al correo de este.'\n",
      " 'Los niveles de seguridad ' '.'\n",
      " 'La velocidad del procesamiento de información.'\n",
      " 'Que se pueda fácilmente acceder a todas sus opciones ' 'La rapides'\n",
      " 'Sus contenidos ' 'Windows '\n",
      " 'Que sean entendible para el usuario para que así no presente complicaciones al momento de ejecutar o visualizar los datos o información'\n",
      " 'Recordatorios y notificaciones de lo progresado, algo así como el progreso en Duolingo.'\n",
      " 'El diseño, son muy llamativos en el ojo del usuario'\n",
      " 'Funcionamiento offline de la APP' 'No se por el momento'\n",
      " 'Proporcionarle una buena experiencia al usuario, con una buena funcionalidad y rendimiento, que ofrezca una seguridad de con la información brindada y que reciba constantes mantenimientos y actualizaciones\\n'\n",
      " 'Ninguna' 'La seguridad confidencialudad\\n\\n'\n",
      " 'Fluidez y rapidez del programa'\n",
      " 'Creo que ya mencionaron los más importantes '\n",
      " 'Que automáticamente se guarden algunos cambios q se realizan.'\n",
      " 'Promediar notas'\n",
      " 'Que pueda ser sencillo instalarlo en los dispositivos.'\n",
      " 'Pasos a seguir correctamente ' 'Rendimiento en el sistema '\n",
      " 'Actualizaciones periódicas que puedan corregir posibles errores' 'Otros'\n",
      " 'Adaptabilidad' 'Rapidez ' '.. ' 'Facilidad de uso del usuario' ' '\n",
      " 'Generación de reportes interactivos por el usuario'\n",
      " 'La interfaz grafica, el modo y la facilidad de acceso.'\n",
      " 'Optimización del sistema.'\n",
      " 'Que la información sea clara y precisa acerca de los diferentes reportes que genere; a su vez que independientemente de la opción escogida en la frecuencia de reportes, estos también deberían generarse cuando se les solicite.'\n",
      " 'Ninguno'\n",
      " 'Que posea una interfaz interactiva, multifuncional, sistema de búsqueda versátil (evitar lo complejo).'\n",
      " 'Tal vez' 'Facilidad de uso' 'La actualización que no demore mucho '\n",
      " 'Que los análisis hechos para los estudiantes y profesores tambien vaya para el director. '\n",
      " 'Xd' 'Eficiencia, accesible, entre otros'\n",
      " 'La velocidad con la que se ejecuta ' 'La interfaz grafica '\n",
      " 'La facilidad de uso '\n",
      " 'La eficiencia, debido que es necesaria para cumplir los objetivos que se plantea '\n",
      " 'Técnicos']\n"
     ]
    }
   ],
   "source": [
    "colum = dataset2.columns\n",
    "for col in colum:\n",
    "    a = dataset2[col].unique()\n",
    "    print('\\n', col.upper(), '\\n', a)"
   ]
  },
  {
   "cell_type": "code",
   "execution_count": 18,
   "metadata": {},
   "outputs": [],
   "source": [
    "import seaborn as sb"
   ]
  },
  {
   "cell_type": "markdown",
   "metadata": {},
   "source": [
    "## Identificación de usuario"
   ]
  },
  {
   "cell_type": "code",
   "execution_count": 19,
   "metadata": {},
   "outputs": [
    {
     "data": {
      "text/plain": [
       "Inclusion_autentificacion\n",
       "No          2\n",
       "Sí         62\n",
       "Tal vez     9\n",
       "Name: Inclusion_autentificacion, dtype: int64"
      ]
     },
     "execution_count": 19,
     "metadata": {},
     "output_type": "execute_result"
    }
   ],
   "source": [
    "dataset2.groupby('Inclusion_autentificacion')['Inclusion_autentificacion'].count()"
   ]
  },
  {
   "cell_type": "code",
   "execution_count": 20,
   "metadata": {},
   "outputs": [
    {
     "data": {
      "text/plain": [
       "<Axes: xlabel='Inclusion_autentificacion', ylabel='count'>"
      ]
     },
     "execution_count": 20,
     "metadata": {},
     "output_type": "execute_result"
    },
    {
     "data": {
      "image/png": "[encoded data removed]",
      "text/plain": [
       "<Figure size 640x480 with 1 Axes>"
      ]
     },
     "metadata": {},
     "output_type": "display_data"
    }
   ],
   "source": [
    "sb.countplot(x=dataset2['Inclusion_autentificacion'])"
   ]
  },
  {
   "cell_type": "markdown",
   "metadata": {},
   "source": [
    "Los usuarios consideran importante que el sistema cuente con un metodo de autentificación de sesión para el acceso a la plataforma."
   ]
  },
  {
   "cell_type": "code",
   "execution_count": 21,
   "metadata": {},
   "outputs": [
    {
     "data": {
      "text/plain": [
       "Index(['Fecha', 'Inclusion_autentificacion', 'Funciones_estudiante',\n",
       "       'Funciones_docente', 'Funciones_psicopedagogo', 'Reporte_estudiante',\n",
       "       'Reporte_docente', 'Funcionalidades_generales', 'Tiempo_actualizacion',\n",
       "       'SO_ejecucion', 'Navegadores_ejecucion', 'Dispositivos_ejecucion',\n",
       "       'Importancia_seguridad', 'Frecuencia_reportes', 'Aspectos_importantes'],\n",
       "      dtype='object')"
      ]
     },
     "execution_count": 21,
     "metadata": {},
     "output_type": "execute_result"
    }
   ],
   "source": [
    "dataset2.columns"
   ]
  },
  {
   "cell_type": "markdown",
   "metadata": {},
   "source": [
    "## Funciones estudiante"
   ]
  },
  {
   "cell_type": "code",
   "execution_count": 22,
   "metadata": {},
   "outputs": [
    {
     "data": {
      "text/plain": [
       "Funciones_estudiante\n",
       "Agregar nuevo estudiante                                                                                                                                                                                                                                                    6\n",
       "Agregar nuevo estudiante, Eliminar estudiante del sistema, Mostrar datos del estudiante registrado anteriormente                                                                                                                                                            1\n",
       "Agregar nuevo estudiante, Modificar datos de un estudiante registrado anteriormente                                                                                                                                                                                         6\n",
       "Agregar nuevo estudiante, Modificar datos de un estudiante registrado anteriormente, Eliminar estudiante del sistema                                                                                                                                                       10\n",
       "Agregar nuevo estudiante, Modificar datos de un estudiante registrado anteriormente, Eliminar estudiante del sistema, Mostrar datos del estudiante registrado anteriormente                                                                                                17\n",
       "Agregar nuevo estudiante, Modificar datos de un estudiante registrado anteriormente, Eliminar estudiante del sistema, Mostrar datos del estudiante registrado anteriormente, Mostrar los promedios de los estudiantes y el nivel de rendimiento de todos en los cursos      1\n",
       "Agregar nuevo estudiante, Modificar datos de un estudiante registrado anteriormente, Mostrar datos del estudiante registrado anteriormente                                                                                                                                  5\n",
       "Agregar nuevo estudiante, Mostrar datos del estudiante registrado anteriormente                                                                                                                                                                                             3\n",
       "Eliminar estudiante del sistema                                                                                                                                                                                                                                             1\n",
       "Eliminar estudiante del sistema, Mostrar datos del estudiante registrado anteriormente                                                                                                                                                                                      1\n",
       "Modificar datos de un estudiante registrado anteriormente                                                                                                                                                                                                                   8\n",
       "Modificar datos de un estudiante registrado anteriormente, Eliminar estudiante del sistema                                                                                                                                                                                  1\n",
       "Modificar datos de un estudiante registrado anteriormente, Mostrar datos del estudiante registrado anteriormente                                                                                                                                                            4\n",
       "Mostrar datos del estudiante registrado anteriormente                                                                                                                                                                                                                       8\n",
       "Mostrar datos del estudiante registrado anteriormente,                                                                                                                                                                                                                      1\n",
       "Name: Funciones_estudiante, dtype: int64"
      ]
     },
     "execution_count": 22,
     "metadata": {},
     "output_type": "execute_result"
    }
   ],
   "source": [
    "dataset2.groupby('Funciones_estudiante')['Funciones_estudiante'].count()"
   ]
  },
  {
   "cell_type": "code",
   "execution_count": 23,
   "metadata": {},
   "outputs": [],
   "source": [
    "dataset3 = dataset2[['Funciones_estudiante']]"
   ]
  },
  {
   "cell_type": "code",
   "execution_count": 24,
   "metadata": {},
   "outputs": [
    {
     "data": {
      "text/html": [
       "<div>\n",
       "<style scoped>\n",
       "    .dataframe tbody tr th:only-of-type {\n",
       "        vertical-align: middle;\n",
       "    }\n",
       "\n",
       "    .dataframe tbody tr th {\n",
       "        vertical-align: top;\n",
       "    }\n",
       "\n",
       "    .dataframe thead th {\n",
       "        text-align: right;\n",
       "    }\n",
       "</style>\n",
       "<table border=\"1\" class=\"dataframe\">\n",
       "  <thead>\n",
       "    <tr style=\"text-align: right;\">\n",
       "      <th></th>\n",
       "      <th>Funciones_estudiante</th>\n",
       "    </tr>\n",
       "  </thead>\n",
       "  <tbody>\n",
       "    <tr>\n",
       "      <th>0</th>\n",
       "      <td>Agregar nuevo estudiante, Modificar datos de u...</td>\n",
       "    </tr>\n",
       "    <tr>\n",
       "      <th>1</th>\n",
       "      <td>Agregar nuevo estudiante, Modificar datos de u...</td>\n",
       "    </tr>\n",
       "    <tr>\n",
       "      <th>2</th>\n",
       "      <td>Agregar nuevo estudiante, Modificar datos de u...</td>\n",
       "    </tr>\n",
       "    <tr>\n",
       "      <th>3</th>\n",
       "      <td>Agregar nuevo estudiante, Modificar datos de u...</td>\n",
       "    </tr>\n",
       "    <tr>\n",
       "      <th>4</th>\n",
       "      <td>Modificar datos de un estudiante registrado an...</td>\n",
       "    </tr>\n",
       "  </tbody>\n",
       "</table>\n",
       "</div>"
      ],
      "text/plain": [
       "                                Funciones_estudiante\n",
       "0  Agregar nuevo estudiante, Modificar datos de u...\n",
       "1  Agregar nuevo estudiante, Modificar datos de u...\n",
       "2  Agregar nuevo estudiante, Modificar datos de u...\n",
       "3  Agregar nuevo estudiante, Modificar datos de u...\n",
       "4  Modificar datos de un estudiante registrado an..."
      ]
     },
     "execution_count": 24,
     "metadata": {},
     "output_type": "execute_result"
    }
   ],
   "source": [
    "dataset3.head()"
   ]
  },
  {
   "cell_type": "code",
   "execution_count": 25,
   "metadata": {},
   "outputs": [
    {
     "name": "stdout",
     "output_type": "stream",
     "text": [
      "<class 'pandas.core.frame.DataFrame'>\n",
      "RangeIndex: 73 entries, 0 to 72\n",
      "Data columns (total 1 columns):\n",
      " #   Column                Non-Null Count  Dtype \n",
      "---  ------                --------------  ----- \n",
      " 0   Funciones_estudiante  73 non-null     object\n",
      "dtypes: object(1)\n",
      "memory usage: 716.0+ bytes\n"
     ]
    }
   ],
   "source": [
    "dataset3.info()"
   ]
  },
  {
   "cell_type": "code",
   "execution_count": 26,
   "metadata": {},
   "outputs": [],
   "source": [
    "dataset3 = dataset3['Funciones_estudiante'].str.split(',', expand=True)"
   ]
  },
  {
   "cell_type": "code",
   "execution_count": 27,
   "metadata": {},
   "outputs": [
    {
     "name": "stdout",
     "output_type": "stream",
     "text": [
      "0\n",
      "Agregar nuevo estudiante                                     49\n",
      "Eliminar estudiante del sistema                               2\n",
      "Modificar datos de un estudiante registrado anteriormente    13\n",
      "Mostrar datos del estudiante registrado anteriormente         9\n",
      "Name: 0, dtype: int64\n",
      "1\n",
      "                                                               1\n",
      " Eliminar estudiante del sistema                               2\n",
      " Modificar datos de un estudiante registrado anteriormente    39\n",
      " Mostrar datos del estudiante registrado anteriormente         8\n",
      "Name: 1, dtype: int64\n",
      "2\n",
      " Eliminar estudiante del sistema                          28\n",
      " Mostrar datos del estudiante registrado anteriormente     6\n",
      "Name: 2, dtype: int64\n",
      "3\n",
      " Mostrar datos del estudiante registrado anteriormente    18\n",
      "Name: 3, dtype: int64\n",
      "4\n",
      " Mostrar los promedios de los estudiantes y el nivel de rendimiento de todos en los cursos     1\n",
      "Name: 4, dtype: int64\n"
     ]
    }
   ],
   "source": [
    "colum = dataset3.columns\n",
    "\n",
    "for col in colum:\n",
    "    a = dataset3.groupby(col)[col].count()\n",
    "    print(a)\n"
   ]
  },
  {
   "cell_type": "code",
   "execution_count": 28,
   "metadata": {},
   "outputs": [
    {
     "data": {
      "text/html": [
       "<div>\n",
       "<style scoped>\n",
       "    .dataframe tbody tr th:only-of-type {\n",
       "        vertical-align: middle;\n",
       "    }\n",
       "\n",
       "    .dataframe tbody tr th {\n",
       "        vertical-align: top;\n",
       "    }\n",
       "\n",
       "    .dataframe thead th {\n",
       "        text-align: right;\n",
       "    }\n",
       "</style>\n",
       "<table border=\"1\" class=\"dataframe\">\n",
       "  <thead>\n",
       "    <tr style=\"text-align: right;\">\n",
       "      <th></th>\n",
       "      <th>Funcion</th>\n",
       "      <th>Voto</th>\n",
       "    </tr>\n",
       "  </thead>\n",
       "  <tbody>\n",
       "    <tr>\n",
       "      <th>0</th>\n",
       "      <td>Agregar_expediente</td>\n",
       "      <td>49</td>\n",
       "    </tr>\n",
       "    <tr>\n",
       "      <th>1</th>\n",
       "      <td>Eliminar_expediente</td>\n",
       "      <td>32</td>\n",
       "    </tr>\n",
       "    <tr>\n",
       "      <th>2</th>\n",
       "      <td>Modificar_expediente</td>\n",
       "      <td>52</td>\n",
       "    </tr>\n",
       "    <tr>\n",
       "      <th>3</th>\n",
       "      <td>Mostrar_expediente</td>\n",
       "      <td>41</td>\n",
       "    </tr>\n",
       "    <tr>\n",
       "      <th>4</th>\n",
       "      <td>Mostrar_promedio_y_nivel_rendimiento</td>\n",
       "      <td>1</td>\n",
       "    </tr>\n",
       "  </tbody>\n",
       "</table>\n",
       "</div>"
      ],
      "text/plain": [
       "                                Funcion  Voto\n",
       "0                    Agregar_expediente    49\n",
       "1                   Eliminar_expediente    32\n",
       "2                  Modificar_expediente    52\n",
       "3                    Mostrar_expediente    41\n",
       "4  Mostrar_promedio_y_nivel_rendimiento     1"
      ]
     },
     "execution_count": 28,
     "metadata": {},
     "output_type": "execute_result"
    }
   ],
   "source": [
    "est = pd.DataFrame({\n",
    "    'Funcion': ['Agregar_expediente', 'Eliminar_expediente', 'Modificar_expediente', 'Mostrar_expediente', 'Mostrar_promedio_y_nivel_rendimiento'],\n",
    "    'Voto': [49, 32, 52, 41, 1]\n",
    "})\n",
    "\n",
    "est"
   ]
  },
  {
   "cell_type": "code",
   "execution_count": 29,
   "metadata": {},
   "outputs": [
    {
     "data": {
      "text/plain": [
       "<Axes: xlabel='Voto', ylabel='Funcion'>"
      ]
     },
     "execution_count": 29,
     "metadata": {},
     "output_type": "execute_result"
    },
    {
     "data": {
      "image/png": "[encoded data removed]",
      "text/plain": [
       "<Figure size 640x480 with 1 Axes>"
      ]
     },
     "metadata": {},
     "output_type": "display_data"
    }
   ],
   "source": [
    "sb.barplot(data=est, y='Funcion', x='Voto')"
   ]
  },
  {
   "cell_type": "markdown",
   "metadata": {},
   "source": [
    "### Funciones para administrar el perfil del estudiante\n",
    "- Agregar expediente\n",
    "- Modificar expediente\n",
    "- Mostrar expediente"
   ]
  },
  {
   "cell_type": "markdown",
   "metadata": {},
   "source": [
    "## Funciones docente"
   ]
  },
  {
   "cell_type": "code",
   "execution_count": 30,
   "metadata": {},
   "outputs": [
    {
     "data": {
      "text/plain": [
       "Funciones_docente\n",
       "Agregar nuevo docente                                                                                                                                               5\n",
       "Agregar nuevo docente, Eliminar docente del sistema, Mostrar datos del docente registrado anteriormente                                                             2\n",
       "Agregar nuevo docente, Modificar datos de un docente registrado anteriormente                                                                                       3\n",
       "Agregar nuevo docente, Modificar datos de un docente registrado anteriormente, Eliminar docente del sistema                                                         7\n",
       "Agregar nuevo docente, Modificar datos de un docente registrado anteriormente, Eliminar docente del sistema, Mostrar datos del docente registrado anteriormente    23\n",
       "Agregar nuevo docente, Modificar datos de un docente registrado anteriormente, Mostrar datos del docente registrado anteriormente                                   5\n",
       "Agregar nuevo docente, Mostrar datos del docente registrado anteriormente                                                                                           3\n",
       "Eliminar docente del sistema                                                                                                                                        1\n",
       "Modificar datos de un docente registrado anteriormente                                                                                                              5\n",
       "Modificar datos de un docente registrado anteriormente, Eliminar docente del sistema                                                                                1\n",
       "Modificar datos de un docente registrado anteriormente, Mostrar datos del docente registrado anteriormente                                                          3\n",
       "Mostrar datos del docente registrado anteriormente                                                                                                                 15\n",
       "Name: Funciones_docente, dtype: int64"
      ]
     },
     "execution_count": 30,
     "metadata": {},
     "output_type": "execute_result"
    }
   ],
   "source": [
    "dataset2.groupby('Funciones_docente')['Funciones_docente'].count()"
   ]
  },
  {
   "cell_type": "code",
   "execution_count": 31,
   "metadata": {},
   "outputs": [],
   "source": [
    "docente = dataset2[['Funciones_docente']]"
   ]
  },
  {
   "cell_type": "code",
   "execution_count": 32,
   "metadata": {},
   "outputs": [
    {
     "data": {
      "text/html": [
       "<div>\n",
       "<style scoped>\n",
       "    .dataframe tbody tr th:only-of-type {\n",
       "        vertical-align: middle;\n",
       "    }\n",
       "\n",
       "    .dataframe tbody tr th {\n",
       "        vertical-align: top;\n",
       "    }\n",
       "\n",
       "    .dataframe thead th {\n",
       "        text-align: right;\n",
       "    }\n",
       "</style>\n",
       "<table border=\"1\" class=\"dataframe\">\n",
       "  <thead>\n",
       "    <tr style=\"text-align: right;\">\n",
       "      <th></th>\n",
       "      <th>Funciones_docente</th>\n",
       "    </tr>\n",
       "  </thead>\n",
       "  <tbody>\n",
       "    <tr>\n",
       "      <th>0</th>\n",
       "      <td>Agregar nuevo docente, Modificar datos de un d...</td>\n",
       "    </tr>\n",
       "    <tr>\n",
       "      <th>1</th>\n",
       "      <td>Mostrar datos del docente registrado anteriorm...</td>\n",
       "    </tr>\n",
       "    <tr>\n",
       "      <th>2</th>\n",
       "      <td>Agregar nuevo docente, Modificar datos de un d...</td>\n",
       "    </tr>\n",
       "    <tr>\n",
       "      <th>3</th>\n",
       "      <td>Agregar nuevo docente, Modificar datos de un d...</td>\n",
       "    </tr>\n",
       "    <tr>\n",
       "      <th>4</th>\n",
       "      <td>Modificar datos de un docente registrado anter...</td>\n",
       "    </tr>\n",
       "  </tbody>\n",
       "</table>\n",
       "</div>"
      ],
      "text/plain": [
       "                                   Funciones_docente\n",
       "0  Agregar nuevo docente, Modificar datos de un d...\n",
       "1  Mostrar datos del docente registrado anteriorm...\n",
       "2  Agregar nuevo docente, Modificar datos de un d...\n",
       "3  Agregar nuevo docente, Modificar datos de un d...\n",
       "4  Modificar datos de un docente registrado anter..."
      ]
     },
     "execution_count": 32,
     "metadata": {},
     "output_type": "execute_result"
    }
   ],
   "source": [
    "docente.head()"
   ]
  },
  {
   "cell_type": "code",
   "execution_count": 33,
   "metadata": {},
   "outputs": [],
   "source": [
    "docente = docente['Funciones_docente'].str.split(',', expand=True)"
   ]
  },
  {
   "cell_type": "code",
   "execution_count": 34,
   "metadata": {},
   "outputs": [
    {
     "name": "stdout",
     "output_type": "stream",
     "text": [
      "0\n",
      "Agregar nuevo docente                                     48\n",
      "Eliminar docente del sistema                               1\n",
      "Modificar datos de un docente registrado anteriormente     9\n",
      "Mostrar datos del docente registrado anteriormente        15\n",
      "Name: 0, dtype: int64\n",
      "1\n",
      " Eliminar docente del sistema                               3\n",
      " Modificar datos de un docente registrado anteriormente    38\n",
      " Mostrar datos del docente registrado anteriormente         6\n",
      "Name: 1, dtype: int64\n",
      "2\n",
      " Eliminar docente del sistema                          30\n",
      " Mostrar datos del docente registrado anteriormente     7\n",
      "Name: 2, dtype: int64\n",
      "3\n",
      " Mostrar datos del docente registrado anteriormente    23\n",
      "Name: 3, dtype: int64\n"
     ]
    }
   ],
   "source": [
    "colum = docente.columns\n",
    "\n",
    "for col in colum:\n",
    "    a = docente.groupby(col)[col].count()\n",
    "    print(a)"
   ]
  },
  {
   "cell_type": "code",
   "execution_count": 35,
   "metadata": {},
   "outputs": [
    {
     "data": {
      "text/html": [
       "<div>\n",
       "<style scoped>\n",
       "    .dataframe tbody tr th:only-of-type {\n",
       "        vertical-align: middle;\n",
       "    }\n",
       "\n",
       "    .dataframe tbody tr th {\n",
       "        vertical-align: top;\n",
       "    }\n",
       "\n",
       "    .dataframe thead th {\n",
       "        text-align: right;\n",
       "    }\n",
       "</style>\n",
       "<table border=\"1\" class=\"dataframe\">\n",
       "  <thead>\n",
       "    <tr style=\"text-align: right;\">\n",
       "      <th></th>\n",
       "      <th>Funcion</th>\n",
       "      <th>Voto</th>\n",
       "    </tr>\n",
       "  </thead>\n",
       "  <tbody>\n",
       "    <tr>\n",
       "      <th>0</th>\n",
       "      <td>Agregar_expediente</td>\n",
       "      <td>48</td>\n",
       "    </tr>\n",
       "    <tr>\n",
       "      <th>1</th>\n",
       "      <td>Eliminar_expediente</td>\n",
       "      <td>32</td>\n",
       "    </tr>\n",
       "    <tr>\n",
       "      <th>2</th>\n",
       "      <td>Modificar_expediente</td>\n",
       "      <td>34</td>\n",
       "    </tr>\n",
       "    <tr>\n",
       "      <th>3</th>\n",
       "      <td>Mostrar_expediente</td>\n",
       "      <td>51</td>\n",
       "    </tr>\n",
       "  </tbody>\n",
       "</table>\n",
       "</div>"
      ],
      "text/plain": [
       "                Funcion  Voto\n",
       "0    Agregar_expediente    48\n",
       "1   Eliminar_expediente    32\n",
       "2  Modificar_expediente    34\n",
       "3    Mostrar_expediente    51"
      ]
     },
     "execution_count": 35,
     "metadata": {},
     "output_type": "execute_result"
    }
   ],
   "source": [
    "docente2 = pd.DataFrame({\n",
    "    'Funcion': ['Agregar_expediente', 'Eliminar_expediente', 'Modificar_expediente', 'Mostrar_expediente'],\n",
    "    'Voto': [48, 32, 34, 51]\n",
    "})\n",
    "\n",
    "docente2"
   ]
  },
  {
   "cell_type": "code",
   "execution_count": 36,
   "metadata": {},
   "outputs": [
    {
     "data": {
      "text/plain": [
       "<Axes: xlabel='Voto', ylabel='Funcion'>"
      ]
     },
     "execution_count": 36,
     "metadata": {},
     "output_type": "execute_result"
    },
    {
     "data": {
      "image/png": "[encoded data removed]",
      "text/plain": [
       "<Figure size 640x480 with 1 Axes>"
      ]
     },
     "metadata": {},
     "output_type": "display_data"
    }
   ],
   "source": [
    "sb.barplot(data=docente2, y='Funcion', x='Voto')"
   ]
  },
  {
   "cell_type": "markdown",
   "metadata": {},
   "source": [
    "### Funciones para administrar el perfil del docente\n",
    "- Agregar expediente\n",
    "- Mostrar expediente"
   ]
  },
  {
   "cell_type": "markdown",
   "metadata": {},
   "source": [
    "## Funciones psicopedagogo"
   ]
  },
  {
   "cell_type": "code",
   "execution_count": 37,
   "metadata": {},
   "outputs": [
    {
     "data": {
      "text/plain": [
       "Funciones_docente\n",
       "Agregar nuevo docente                                                                                                                                               5\n",
       "Agregar nuevo docente, Eliminar docente del sistema, Mostrar datos del docente registrado anteriormente                                                             2\n",
       "Agregar nuevo docente, Modificar datos de un docente registrado anteriormente                                                                                       3\n",
       "Agregar nuevo docente, Modificar datos de un docente registrado anteriormente, Eliminar docente del sistema                                                         7\n",
       "Agregar nuevo docente, Modificar datos de un docente registrado anteriormente, Eliminar docente del sistema, Mostrar datos del docente registrado anteriormente    23\n",
       "Agregar nuevo docente, Modificar datos de un docente registrado anteriormente, Mostrar datos del docente registrado anteriormente                                   5\n",
       "Agregar nuevo docente, Mostrar datos del docente registrado anteriormente                                                                                           3\n",
       "Eliminar docente del sistema                                                                                                                                        1\n",
       "Modificar datos de un docente registrado anteriormente                                                                                                              5\n",
       "Modificar datos de un docente registrado anteriormente, Eliminar docente del sistema                                                                                1\n",
       "Modificar datos de un docente registrado anteriormente, Mostrar datos del docente registrado anteriormente                                                          3\n",
       "Mostrar datos del docente registrado anteriormente                                                                                                                 15\n",
       "Name: Funciones_psicopedagogo, dtype: int64"
      ]
     },
     "execution_count": 37,
     "metadata": {},
     "output_type": "execute_result"
    }
   ],
   "source": [
    "dataset2.groupby('Funciones_docente')['Funciones_psicopedagogo'].count()"
   ]
  },
  {
   "cell_type": "code",
   "execution_count": 38,
   "metadata": {},
   "outputs": [],
   "source": [
    "psico = dataset2[['Funciones_psicopedagogo']]"
   ]
  },
  {
   "cell_type": "code",
   "execution_count": 39,
   "metadata": {},
   "outputs": [
    {
     "data": {
      "text/html": [
       "<div>\n",
       "<style scoped>\n",
       "    .dataframe tbody tr th:only-of-type {\n",
       "        vertical-align: middle;\n",
       "    }\n",
       "\n",
       "    .dataframe tbody tr th {\n",
       "        vertical-align: top;\n",
       "    }\n",
       "\n",
       "    .dataframe thead th {\n",
       "        text-align: right;\n",
       "    }\n",
       "</style>\n",
       "<table border=\"1\" class=\"dataframe\">\n",
       "  <thead>\n",
       "    <tr style=\"text-align: right;\">\n",
       "      <th></th>\n",
       "      <th>Funciones_psicopedagogo</th>\n",
       "    </tr>\n",
       "  </thead>\n",
       "  <tbody>\n",
       "    <tr>\n",
       "      <th>0</th>\n",
       "      <td>Agregar nuevo psicopedagogo, Modificar datos d...</td>\n",
       "    </tr>\n",
       "    <tr>\n",
       "      <th>1</th>\n",
       "      <td>Agregar nuevo psicopedagogo, Modificar datos d...</td>\n",
       "    </tr>\n",
       "    <tr>\n",
       "      <th>2</th>\n",
       "      <td>Agregar nuevo psicopedagogo, Modificar datos d...</td>\n",
       "    </tr>\n",
       "    <tr>\n",
       "      <th>3</th>\n",
       "      <td>Agregar nuevo psicopedagogo, Modificar datos d...</td>\n",
       "    </tr>\n",
       "    <tr>\n",
       "      <th>4</th>\n",
       "      <td>Modificar datos de un psicopedagogo registrado...</td>\n",
       "    </tr>\n",
       "  </tbody>\n",
       "</table>\n",
       "</div>"
      ],
      "text/plain": [
       "                             Funciones_psicopedagogo\n",
       "0  Agregar nuevo psicopedagogo, Modificar datos d...\n",
       "1  Agregar nuevo psicopedagogo, Modificar datos d...\n",
       "2  Agregar nuevo psicopedagogo, Modificar datos d...\n",
       "3  Agregar nuevo psicopedagogo, Modificar datos d...\n",
       "4  Modificar datos de un psicopedagogo registrado..."
      ]
     },
     "execution_count": 39,
     "metadata": {},
     "output_type": "execute_result"
    }
   ],
   "source": [
    "psico.head()"
   ]
  },
  {
   "cell_type": "code",
   "execution_count": 40,
   "metadata": {},
   "outputs": [],
   "source": [
    "psico = psico['Funciones_psicopedagogo'].str.split(',', expand=True)"
   ]
  },
  {
   "cell_type": "code",
   "execution_count": 41,
   "metadata": {},
   "outputs": [
    {
     "name": "stdout",
     "output_type": "stream",
     "text": [
      "0\n",
      "Agregar nuevo psicopedagogo                                     52\n",
      "Eliminar psicopedagogo del sistema                               1\n",
      "Modificar datos de un psicopedagogo registrado anteriormente    10\n",
      "Mostrar datos del psicopedagogo registrado anteriormente        10\n",
      "Name: 0, dtype: int64\n",
      "1\n",
      " Eliminar psicopedagogo del sistema                               3\n",
      " Modificar datos de un psicopedagogo registrado anteriormente    39\n",
      " Mostrar datos del psicopedagogo registrado anteriormente         6\n",
      "Name: 1, dtype: int64\n",
      "2\n",
      " Eliminar psicopedagogo del sistema                          27\n",
      " Mostrar datos del psicopedagogo registrado anteriormente     7\n",
      "Name: 2, dtype: int64\n",
      "3\n",
      " Mostrar datos del psicopedagogo registrado anteriormente    19\n",
      "Name: 3, dtype: int64\n"
     ]
    }
   ],
   "source": [
    "colum = psico.columns\n",
    "\n",
    "for col in colum:\n",
    "    a = psico.groupby(col)[col].count()\n",
    "    print(a)"
   ]
  },
  {
   "cell_type": "code",
   "execution_count": 42,
   "metadata": {},
   "outputs": [
    {
     "data": {
      "text/html": [
       "<div>\n",
       "<style scoped>\n",
       "    .dataframe tbody tr th:only-of-type {\n",
       "        vertical-align: middle;\n",
       "    }\n",
       "\n",
       "    .dataframe tbody tr th {\n",
       "        vertical-align: top;\n",
       "    }\n",
       "\n",
       "    .dataframe thead th {\n",
       "        text-align: right;\n",
       "    }\n",
       "</style>\n",
       "<table border=\"1\" class=\"dataframe\">\n",
       "  <thead>\n",
       "    <tr style=\"text-align: right;\">\n",
       "      <th></th>\n",
       "      <th>Funcion</th>\n",
       "      <th>Voto</th>\n",
       "    </tr>\n",
       "  </thead>\n",
       "  <tbody>\n",
       "    <tr>\n",
       "      <th>0</th>\n",
       "      <td>Agregar_expediente</td>\n",
       "      <td>52</td>\n",
       "    </tr>\n",
       "    <tr>\n",
       "      <th>1</th>\n",
       "      <td>Eliminar_expediente</td>\n",
       "      <td>31</td>\n",
       "    </tr>\n",
       "    <tr>\n",
       "      <th>2</th>\n",
       "      <td>Modificar_expediente</td>\n",
       "      <td>49</td>\n",
       "    </tr>\n",
       "    <tr>\n",
       "      <th>3</th>\n",
       "      <td>Mostrar_expediente</td>\n",
       "      <td>42</td>\n",
       "    </tr>\n",
       "  </tbody>\n",
       "</table>\n",
       "</div>"
      ],
      "text/plain": [
       "                Funcion  Voto\n",
       "0    Agregar_expediente    52\n",
       "1   Eliminar_expediente    31\n",
       "2  Modificar_expediente    49\n",
       "3    Mostrar_expediente    42"
      ]
     },
     "execution_count": 42,
     "metadata": {},
     "output_type": "execute_result"
    }
   ],
   "source": [
    "psico2 = pd.DataFrame({\n",
    "    'Funcion': ['Agregar_expediente', 'Eliminar_expediente', 'Modificar_expediente', 'Mostrar_expediente'],\n",
    "    'Voto': [52, 31, 49, 42]\n",
    "})\n",
    "\n",
    "psico2"
   ]
  },
  {
   "cell_type": "code",
   "execution_count": 43,
   "metadata": {},
   "outputs": [
    {
     "data": {
      "text/plain": [
       "<Axes: xlabel='Voto', ylabel='Funcion'>"
      ]
     },
     "execution_count": 43,
     "metadata": {},
     "output_type": "execute_result"
    },
    {
     "data": {
      "image/png": "[encoded data removed]",
      "text/plain": [
       "<Figure size 640x480 with 1 Axes>"
      ]
     },
     "metadata": {},
     "output_type": "display_data"
    }
   ],
   "source": [
    "sb.barplot(data=psico2, y='Funcion', x='Voto')"
   ]
  },
  {
   "cell_type": "markdown",
   "metadata": {},
   "source": [
    "### Funciones para administrar el perfil del psicopedagogo\n",
    "- Agregar expediente\n",
    "- Modificar expediente\n",
    "- Mostrar expediente"
   ]
  },
  {
   "cell_type": "markdown",
   "metadata": {},
   "source": [
    "# Generación de reporte para estudiante"
   ]
  },
  {
   "cell_type": "code",
   "execution_count": 44,
   "metadata": {},
   "outputs": [
    {
     "data": {
      "text/plain": [
       "Reporte_estudiante\n",
       "Sí         68\n",
       "Tal vez     5\n",
       "Name: Reporte_estudiante, dtype: int64"
      ]
     },
     "execution_count": 44,
     "metadata": {},
     "output_type": "execute_result"
    }
   ],
   "source": [
    "dataset2.groupby('Reporte_estudiante')['Reporte_estudiante'].count()"
   ]
  },
  {
   "cell_type": "code",
   "execution_count": 45,
   "metadata": {},
   "outputs": [
    {
     "data": {
      "text/plain": [
       "<Axes: xlabel='Reporte_estudiante', ylabel='count'>"
      ]
     },
     "execution_count": 45,
     "metadata": {},
     "output_type": "execute_result"
    },
    {
     "data": {
      "image/png": "[encoded data removed]",
      "text/plain": [
       "<Figure size 640x480 with 1 Axes>"
      ]
     },
     "metadata": {},
     "output_type": "display_data"
    }
   ],
   "source": [
    "sb.countplot(x=dataset2['Reporte_estudiante'])"
   ]
  },
  {
   "cell_type": "markdown",
   "metadata": {},
   "source": [
    "La mayoría de encuestados sugieren la generación de reportes para los estudiantes."
   ]
  },
  {
   "cell_type": "markdown",
   "metadata": {},
   "source": [
    "# Generación de reporte para docente"
   ]
  },
  {
   "cell_type": "code",
   "execution_count": 46,
   "metadata": {},
   "outputs": [
    {
     "data": {
      "text/plain": [
       "Index(['Fecha', 'Inclusion_autentificacion', 'Funciones_estudiante',\n",
       "       'Funciones_docente', 'Funciones_psicopedagogo', 'Reporte_estudiante',\n",
       "       'Reporte_docente', 'Funcionalidades_generales', 'Tiempo_actualizacion',\n",
       "       'SO_ejecucion', 'Navegadores_ejecucion', 'Dispositivos_ejecucion',\n",
       "       'Importancia_seguridad', 'Frecuencia_reportes', 'Aspectos_importantes'],\n",
       "      dtype='object')"
      ]
     },
     "execution_count": 46,
     "metadata": {},
     "output_type": "execute_result"
    }
   ],
   "source": [
    "dataset2.columns"
   ]
  },
  {
   "cell_type": "code",
   "execution_count": 47,
   "metadata": {},
   "outputs": [
    {
     "data": {
      "text/plain": [
       "Reporte_docente\n",
       "No          3\n",
       "Sí         68\n",
       "Tal vez     2\n",
       "Name: Reporte_docente, dtype: int64"
      ]
     },
     "execution_count": 47,
     "metadata": {},
     "output_type": "execute_result"
    }
   ],
   "source": [
    "dataset2.groupby('Reporte_docente')['Reporte_docente'].count()"
   ]
  },
  {
   "cell_type": "code",
   "execution_count": 48,
   "metadata": {},
   "outputs": [
    {
     "data": {
      "text/plain": [
       "<Axes: xlabel='Reporte_docente', ylabel='count'>"
      ]
     },
     "execution_count": 48,
     "metadata": {},
     "output_type": "execute_result"
    },
    {
     "data": {
      "image/png": "[encoded data removed]",
      "text/plain": [
       "<Figure size 640x480 with 1 Axes>"
      ]
     },
     "metadata": {},
     "output_type": "display_data"
    }
   ],
   "source": [
    "sb.countplot(x=dataset2['Reporte_docente'])"
   ]
  },
  {
   "cell_type": "markdown",
   "metadata": {},
   "source": [
    "La mayoría de encuentados sugiere la generación de reportes para los docentes (sobre su desempeño)."
   ]
  },
  {
   "cell_type": "markdown",
   "metadata": {},
   "source": [
    "# Funciones generales"
   ]
  },
  {
   "cell_type": "code",
   "execution_count": 49,
   "metadata": {},
   "outputs": [
    {
     "data": {
      "text/plain": [
       "Funcionalidades_generales\n",
       "Detectar problemas que influyen sobre el rendimiento del estudiante en base a la data disponible                                                                                                                                                                                                                                                                                                                                                                                                                                                                                                                                                                                                   3\n",
       "Elaborar gráfico historial académico                                                                                                                                                                                                                                                                                                                                                                                                                                                                                                                                                                                                                                                               1\n",
       "Elaborar gráfico historial académico, Detectar problemas que influyen sobre el rendimiento del estudiante en base a la data disponible, Generar sugerencias ante problemas detectados, Generar reportes sobre el rendimiento del estudiante, Generar reportes sobre el rendimiento del docente                                                                                                                                                                                                                                                                                                                                                                                                     1\n",
       "Elaborar gráfico historial académico, Enviar correos automáticos con la información de reportes, Generar reportes sobre el rendimiento del estudiante, Generar reportes sobre el rendimiento del docente                                                                                                                                                                                                                                                                                                                                                                                                                                                                                           1\n",
       "Gestionar información del docente                                                                                                                                                                                                                                                                                                                                                                                                                                                                                                                                                                                                                                                                  1\n",
       "Gestionar información del docente, Enviar correos automáticos con la información de reportes                                                                                                                                                                                                                                                                                                                                                                                                                                                                                                                                                                                                       1\n",
       "Gestionar información del docente, Generar reportes sobre el rendimiento del estudiante, Generar sugerencias destinadas al docente en base a su rendimiento                                                                                                                                                                                                                                                                                                                                                                                                                                                                                                                                        1\n",
       "Gestionar información del docente, Gestionar información del psicopedagogo, Registrar notas del estudiante por asignatura, Promediar notas por asignatura, Elaborar gráfico historial académico, Enviar correos automáticos con la información de reportes, Detectar problemas que influyen sobre el rendimiento del estudiante en base a la data disponible                                                                                                                                                                                                                                                                                                                                       1\n",
       "Gestionar información del docente, Registrar notas del estudiante por asignatura, Generar sugerencias destinadas al docente en base a su rendimiento                                                                                                                                                                                                                                                                                                                                                                                                                                                                                                                                               1\n",
       "Gestionar información del docente, Registrar notas del estudiante por asignatura, Promediar notas por grado, Elaborar gráfico historial académico, Enviar correos automáticos con la información de reportes, Detectar problemas que influyen sobre el rendimiento del estudiante en base a la data disponible                                                                                                                                                                                                                                                                                                                                                                                     1\n",
       "Gestionar información del estudiante, Gestionar información del docente, Elaborar gráfico historial académico, Enviar correos automáticos con la información de reportes                                                                                                                                                                                                                                                                                                                                                                                                                                                                                                                           1\n",
       "Gestionar información del estudiante, Gestionar información del docente, Gestionar información del psicopedagogo                                                                                                                                                                                                                                                                                                                                                                                                                                                                                                                                                                                   2\n",
       "Gestionar información del estudiante, Gestionar información del docente, Gestionar información del psicopedagogo, Elaborar gráfico historial académico, Enviar correos automáticos con la información de reportes, Detectar problemas que influyen sobre el rendimiento del estudiante en base a la data disponible, Generar reportes sobre el rendimiento del estudiante, Generar reportes sobre el rendimiento del docente                                                                                                                                                                                                                                                                       1\n",
       "Gestionar información del estudiante, Gestionar información del docente, Gestionar información del psicopedagogo, Enviar correos automáticos con la información de reportes, Generar reportes sobre el rendimiento del estudiante, Generar reportes sobre el rendimiento del docente                                                                                                                                                                                                                                                                                                                                                                                                               1\n",
       "Gestionar información del estudiante, Gestionar información del docente, Gestionar información del psicopedagogo, Generar reportes sobre el rendimiento del estudiante, Generar reportes sobre el rendimiento del docente, Generar sugerencias destinadas al docente en base a su rendimiento                                                                                                                                                                                                                                                                                                                                                                                                      1\n",
       "Gestionar información del estudiante, Gestionar información del docente, Gestionar información del psicopedagogo, Promediar notas por asignatura, Elaborar gráfico historial académico, Enviar correos automáticos con la información de reportes, Generar reportes sobre el rendimiento del estudiante                                                                                                                                                                                                                                                                                                                                                                                            1\n",
       "Gestionar información del estudiante, Gestionar información del docente, Gestionar información del psicopedagogo, Promediar notas por asignatura, Promediar notas por grado, Mostrar historial de calificaciones, Elaborar gráfico historial académico, Generar reportes sobre el rendimiento del estudiante, Generar reportes sobre el rendimiento del docente, Generar sugerencias destinadas al docente en base a su rendimiento                                                                                                                                                                                                                                                                1\n",
       "Gestionar información del estudiante, Gestionar información del docente, Gestionar información del psicopedagogo, Promediar notas por asignatura, Promediar notas por grado, Mostrar historial de calificaciones, Enviar correos automáticos con la información de reportes, Generar reportes sobre el rendimiento del estudiante                                                                                                                                                                                                                                                                                                                                                                  1\n",
       "Gestionar información del estudiante, Gestionar información del docente, Gestionar información del psicopedagogo, Promediar notas por asignatura, Promediar notas por grado, Mostrar historial de calificaciones, Generar sugerencias ante problemas detectados, Generar reportes sobre el rendimiento del estudiante, Generar reportes sobre el rendimiento del docente, Generar sugerencias destinadas al docente en base a su rendimiento                                                                                                                                                                                                                                                       1\n",
       "Gestionar información del estudiante, Gestionar información del docente, Gestionar información del psicopedagogo, Registrar notas del estudiante por asignatura, Generar sugerencias ante problemas detectados, Generar reportes sobre el rendimiento del estudiante, Generar reportes sobre el rendimiento del docente                                                                                                                                                                                                                                                                                                                                                                            1\n",
       "Gestionar información del estudiante, Gestionar información del docente, Gestionar información del psicopedagogo, Registrar notas del estudiante por asignatura, Mostrar historial de calificaciones, Detectar problemas que influyen sobre el rendimiento del estudiante en base a la data disponible, Generar sugerencias ante problemas detectados, Generar reportes sobre el rendimiento del estudiante, Generar reportes sobre el rendimiento del docente, Generar sugerencias destinadas al docente en base a su rendimiento                                                                                                                                                                 1\n",
       "Gestionar información del estudiante, Gestionar información del docente, Gestionar información del psicopedagogo, Registrar notas del estudiante por asignatura, Mostrar historial de calificaciones, Elaborar gráfico historial académico, Detectar problemas que influyen sobre el rendimiento del estudiante en base a la data disponible, Generar reportes sobre el rendimiento del estudiante, Generar reportes sobre el rendimiento del docente, Generar sugerencias destinadas al docente en base a su rendimiento                                                                                                                                                                          1\n",
       "Gestionar información del estudiante, Gestionar información del docente, Gestionar información del psicopedagogo, Registrar notas del estudiante por asignatura, Mostrar historial de calificaciones, Elaborar gráfico historial académico, Enviar correos automáticos con la información de reportes, Detectar problemas que influyen sobre el rendimiento del estudiante en base a la data disponible, Generar sugerencias ante problemas detectados, Generar reportes sobre el rendimiento del estudiante                                                                                                                                                                                       1\n",
       "Gestionar información del estudiante, Gestionar información del docente, Gestionar información del psicopedagogo, Registrar notas del estudiante por asignatura, Mostrar historial de calificaciones, Elaborar gráfico historial académico, Enviar correos automáticos con la información de reportes, Detectar problemas que influyen sobre el rendimiento del estudiante en base a la data disponible, Generar sugerencias ante problemas detectados, Generar reportes sobre el rendimiento del estudiante, Generar reportes sobre el rendimiento del docente, Generar sugerencias destinadas al docente en base a su rendimiento                                                                1\n",
       "Gestionar información del estudiante, Gestionar información del docente, Gestionar información del psicopedagogo, Registrar notas del estudiante por asignatura, Promediar notas por asignatura, Enviar correos automáticos con la información de reportes, Generar sugerencias ante problemas detectados, Generar reportes sobre el rendimiento del estudiante, Generar reportes sobre el rendimiento del docente                                                                                                                                                                                                                                                                                 1\n",
       "Gestionar información del estudiante, Gestionar información del docente, Gestionar información del psicopedagogo, Registrar notas del estudiante por asignatura, Promediar notas por asignatura, Mostrar historial de calificaciones, Elaborar gráfico historial académico, Detectar problemas que influyen sobre el rendimiento del estudiante en base a la data disponible, Generar reportes sobre el rendimiento del docente                                                                                                                                                                                                                                                                    1\n",
       "Gestionar información del estudiante, Gestionar información del docente, Gestionar información del psicopedagogo, Registrar notas del estudiante por asignatura, Promediar notas por asignatura, Promediar notas por grado, Elaborar gráfico historial académico, Generar sugerencias ante problemas detectados, Generar reportes sobre el rendimiento del estudiante, Generar reportes sobre el rendimiento del docente                                                                                                                                                                                                                                                                           1\n",
       "Gestionar información del estudiante, Gestionar información del docente, Gestionar información del psicopedagogo, Registrar notas del estudiante por asignatura, Promediar notas por asignatura, Promediar notas por grado, Enviar correos automáticos con la información de reportes, Detectar problemas que influyen sobre el rendimiento del estudiante en base a la data disponible, Generar reportes sobre el rendimiento del estudiante, Generar reportes sobre el rendimiento del docente                                                                                                                                                                                                   1\n",
       "Gestionar información del estudiante, Gestionar información del docente, Gestionar información del psicopedagogo, Registrar notas del estudiante por asignatura, Promediar notas por asignatura, Promediar notas por grado, Mostrar historial de calificaciones                                                                                                                                                                                                                                                                                                                                                                                                                                    1\n",
       "Gestionar información del estudiante, Gestionar información del docente, Gestionar información del psicopedagogo, Registrar notas del estudiante por asignatura, Promediar notas por asignatura, Promediar notas por grado, Mostrar historial de calificaciones, Elaborar gráfico historial académico, Detectar problemas que influyen sobre el rendimiento del estudiante en base a la data disponible, Generar reportes sobre el rendimiento del estudiante, Generar reportes sobre el rendimiento del docente                                                                                                                                                                                   2\n",
       "Gestionar información del estudiante, Gestionar información del docente, Gestionar información del psicopedagogo, Registrar notas del estudiante por asignatura, Promediar notas por asignatura, Promediar notas por grado, Mostrar historial de calificaciones, Elaborar gráfico historial académico, Detectar problemas que influyen sobre el rendimiento del estudiante en base a la data disponible, Generar sugerencias ante problemas detectados, Generar reportes sobre el rendimiento del estudiante, Generar reportes sobre el rendimiento del docente, Generar sugerencias destinadas al docente en base a su rendimiento                                                                1\n",
       "Gestionar información del estudiante, Gestionar información del docente, Gestionar información del psicopedagogo, Registrar notas del estudiante por asignatura, Promediar notas por asignatura, Promediar notas por grado, Mostrar historial de calificaciones, Elaborar gráfico historial académico, Enviar correos automáticos con la información de reportes, Detectar problemas que influyen sobre el rendimiento del estudiante en base a la data disponible, Generar sugerencias ante problemas detectados, Generar reportes sobre el rendimiento del estudiante, Generar reportes sobre el rendimiento del docente, Generar sugerencias destinadas al docente en base a su rendimiento    11\n",
       "Gestionar información del estudiante, Gestionar información del docente, Gestionar información del psicopedagogo, Registrar notas del estudiante por asignatura, Promediar notas por asignatura, Promediar notas por grado, Mostrar historial de calificaciones, Elaborar gráfico historial académico, Enviar correos automáticos con la información de reportes, Generar sugerencias ante problemas detectados, Generar reportes sobre el rendimiento del estudiante, Generar reportes sobre el rendimiento del docente, Generar sugerencias destinadas al docente en base a su rendimiento                                                                                                       1\n",
       "Gestionar información del estudiante, Gestionar información del docente, Gestionar información del psicopedagogo, Registrar notas del estudiante por asignatura, Promediar notas por asignatura, Promediar notas por grado, Mostrar historial de calificaciones, Enviar correos automáticos con la información de reportes, Generar sugerencias ante problemas detectados                                                                                                                                                                                                                                                                                                                          1\n",
       "Gestionar información del estudiante, Gestionar información del docente, Gestionar información del psicopedagogo, Registrar notas del estudiante por asignatura, Promediar notas por asignatura, Promediar notas por grado, Mostrar historial de calificaciones, Generar reportes sobre el rendimiento del estudiante, Generar reportes sobre el rendimiento del docente, Generar sugerencias destinadas al docente en base a su rendimiento                                                                                                                                                                                                                                                       1\n",
       "Gestionar información del estudiante, Gestionar información del docente, Gestionar información del psicopedagogo, Registrar notas del estudiante por asignatura, Promediar notas por grado, Mostrar historial de calificaciones, Elaborar gráfico historial académico, Enviar correos automáticos con la información de reportes, Detectar problemas que influyen sobre el rendimiento del estudiante en base a la data disponible, Generar sugerencias ante problemas detectados, Generar sugerencias destinadas al docente en base a su rendimiento                                                                                                                                              1\n",
       "Gestionar información del estudiante, Gestionar información del docente, Mostrar historial de calificaciones, Generar reportes sobre el rendimiento del estudiante, Generar reportes sobre el rendimiento del docente                                                                                                                                                                                                                                                                                                                                                                                                                                                                              1\n",
       "Gestionar información del estudiante, Gestionar información del docente, Promediar notas por grado, Mostrar historial de calificaciones, Generar sugerencias ante problemas detectados, Generar reportes sobre el rendimiento del estudiante                                                                                                                                                                                                                                                                                                                                                                                                                                                       1\n",
       "Gestionar información del estudiante, Gestionar información del docente, Registrar notas del estudiante por asignatura, Promediar notas por asignatura, Promediar notas por grado, Mostrar historial de calificaciones, Elaborar gráfico historial académico, Detectar problemas que influyen sobre el rendimiento del estudiante en base a la data disponible, Generar sugerencias ante problemas detectados, Generar reportes sobre el rendimiento del estudiante, Generar reportes sobre el rendimiento del docente, Generar sugerencias destinadas al docente en base a su rendimiento                                                                                                         1\n",
       "Gestionar información del estudiante, Gestionar información del docente, Registrar notas del estudiante por asignatura, Promediar notas por asignatura, Promediar notas por grado, Mostrar historial de calificaciones, Elaborar gráfico historial académico, Enviar correos automáticos con la información de reportes                                                                                                                                                                                                                                                                                                                                                                            1\n",
       "Gestionar información del estudiante, Gestionar información del docente, Registrar notas del estudiante por asignatura, Promediar notas por asignatura, Promediar notas por grado, Mostrar historial de calificaciones, Elaborar gráfico historial académico, Generar sugerencias ante problemas detectados, Generar reportes sobre el rendimiento del estudiante, Generar reportes sobre el rendimiento del docente                                                                                                                                                                                                                                                                               1\n",
       "Gestionar información del estudiante, Gestionar información del psicopedagogo, Detectar problemas que influyen sobre el rendimiento del estudiante en base a la data disponible, Generar reportes sobre el rendimiento del estudiante, Generar sugerencias destinadas al docente en base a su rendimiento                                                                                                                                                                                                                                                                                                                                                                                          1\n",
       "Gestionar información del estudiante, Mostrar historial de calificaciones, Elaborar gráfico historial académico, Detectar problemas que influyen sobre el rendimiento del estudiante en base a la data disponible, Generar sugerencias ante problemas detectados, Generar reportes sobre el rendimiento del estudiante, Generar sugerencias destinadas al docente en base a su rendimiento                                                                                                                                                                                                                                                                                                         1\n",
       "Gestionar información del estudiante, Mostrar historial de calificaciones, Elaborar gráfico historial académico, Generar reportes sobre el rendimiento del estudiante, Generar reportes sobre el rendimiento del docente                                                                                                                                                                                                                                                                                                                                                                                                                                                                           1\n",
       "Gestionar información del estudiante, Mostrar historial de calificaciones, Enviar correos automáticos con la información de reportes, Detectar problemas que influyen sobre el rendimiento del estudiante en base a la data disponible, Generar reportes sobre el rendimiento del docente, Generar sugerencias destinadas al docente en base a su rendimiento                                                                                                                                                                                                                                                                                                                                      1\n",
       "Gestionar información del estudiante, Promediar notas por asignatura, Mostrar historial de calificaciones, Enviar correos automáticos con la información de reportes, Generar reportes sobre el rendimiento del estudiante, Generar reportes sobre el rendimiento del docente                                                                                                                                                                                                                                                                                                                                                                                                                      1\n",
       "Gestionar información del psicopedagogo, Detectar problemas que influyen sobre el rendimiento del estudiante en base a la data disponible                                                                                                                                                                                                                                                                                                                                                                                                                                                                                                                                                          1\n",
       "Gestionar información del psicopedagogo, Promediar notas por grado, Detectar problemas que influyen sobre el rendimiento del estudiante en base a la data disponible, Generar reportes sobre el rendimiento del estudiante                                                                                                                                                                                                                                                                                                                                                                                                                                                                         1\n",
       "Gestionar información del psicopedagogo, Registrar notas del estudiante por asignatura                                                                                                                                                                                                                                                                                                                                                                                                                                                                                                                                                                                                             1\n",
       "Gestionar información del psicopedagogo, Registrar notas del estudiante por asignatura, Promediar notas por grado, Enviar correos automáticos con la información de reportes, Generar sugerencias ante problemas detectados, Generar reportes sobre el rendimiento del docente                                                                                                                                                                                                                                                                                                                                                                                                                     1\n",
       "Registrar notas del estudiante por asignatura                                                                                                                                                                                                                                                                                                                                                                                                                                                                                                                                                                                                                                                      1\n",
       "Registrar notas del estudiante por asignatura, Elaborar gráfico historial académico, Generar sugerencias destinadas al docente en base a su rendimiento                                                                                                                                                                                                                                                                                                                                                                                                                                                                                                                                            1\n",
       "Registrar notas del estudiante por asignatura, Mostrar historial de calificaciones, Elaborar gráfico historial académico                                                                                                                                                                                                                                                                                                                                                                                                                                                                                                                                                                           1\n",
       "Registrar notas del estudiante por asignatura, Mostrar historial de calificaciones, Enviar correos automáticos con la información de reportes, Detectar problemas que influyen sobre el rendimiento del estudiante en base a la data disponible, Generar reportes sobre el rendimiento del docente                                                                                                                                                                                                                                                                                                                                                                                                 1\n",
       "Registrar notas del estudiante por asignatura, Promediar notas por asignatura, Elaborar gráfico historial académico                                                                                                                                                                                                                                                                                                                                                                                                                                                                                                                                                                                1\n",
       "Registrar notas del estudiante por asignatura, Promediar notas por asignatura, Mostrar historial de calificaciones                                                                                                                                                                                                                                                                                                                                                                                                                                                                                                                                                                                 1\n",
       "Registrar notas del estudiante por asignatura, Promediar notas por asignatura, Mostrar historial de calificaciones, Elaborar gráfico historial académico, Enviar correos automáticos con la información de reportes, Generar reportes sobre el rendimiento del estudiante                                                                                                                                                                                                                                                                                                                                                                                                                          1\n",
       "Registrar notas del estudiante por asignatura, Promediar notas por asignatura, Promediar notas por grado, Elaborar gráfico historial académico, Detectar problemas que influyen sobre el rendimiento del estudiante en base a la data disponible                                                                                                                                                                                                                                                                                                                                                                                                                                                   1\n",
       "Registrar notas del estudiante por asignatura, Promediar notas por asignatura, Promediar notas por grado, Mostrar historial de calificaciones, Elaborar gráfico historial académico, Enviar correos automáticos con la información de reportes, Generar reportes sobre el rendimiento del estudiante, Generar reportes sobre el rendimiento del docente, Generar sugerencias destinadas al docente en base a su rendimiento                                                                                                                                                                                                                                                                        1\n",
       "Name: Funcionalidades_generales, dtype: int64"
      ]
     },
     "execution_count": 49,
     "metadata": {},
     "output_type": "execute_result"
    }
   ],
   "source": [
    "dataset2.groupby('Funcionalidades_generales')['Funcionalidades_generales'].count()"
   ]
  },
  {
   "cell_type": "code",
   "execution_count": 50,
   "metadata": {},
   "outputs": [],
   "source": [
    "general = dataset2[['Funcionalidades_generales']]"
   ]
  },
  {
   "cell_type": "code",
   "execution_count": 51,
   "metadata": {},
   "outputs": [
    {
     "data": {
      "text/html": [
       "<div>\n",
       "<style scoped>\n",
       "    .dataframe tbody tr th:only-of-type {\n",
       "        vertical-align: middle;\n",
       "    }\n",
       "\n",
       "    .dataframe tbody tr th {\n",
       "        vertical-align: top;\n",
       "    }\n",
       "\n",
       "    .dataframe thead th {\n",
       "        text-align: right;\n",
       "    }\n",
       "</style>\n",
       "<table border=\"1\" class=\"dataframe\">\n",
       "  <thead>\n",
       "    <tr style=\"text-align: right;\">\n",
       "      <th></th>\n",
       "      <th>Funcionalidades_generales</th>\n",
       "    </tr>\n",
       "  </thead>\n",
       "  <tbody>\n",
       "    <tr>\n",
       "      <th>0</th>\n",
       "      <td>Gestionar información del estudiante, Gestiona...</td>\n",
       "    </tr>\n",
       "    <tr>\n",
       "      <th>1</th>\n",
       "      <td>Gestionar información del docente, Enviar corr...</td>\n",
       "    </tr>\n",
       "    <tr>\n",
       "      <th>2</th>\n",
       "      <td>Elaborar gráfico historial académico, Enviar c...</td>\n",
       "    </tr>\n",
       "    <tr>\n",
       "      <th>3</th>\n",
       "      <td>Gestionar información del estudiante, Gestiona...</td>\n",
       "    </tr>\n",
       "    <tr>\n",
       "      <th>4</th>\n",
       "      <td>Gestionar información del estudiante, Gestiona...</td>\n",
       "    </tr>\n",
       "  </tbody>\n",
       "</table>\n",
       "</div>"
      ],
      "text/plain": [
       "                           Funcionalidades_generales\n",
       "0  Gestionar información del estudiante, Gestiona...\n",
       "1  Gestionar información del docente, Enviar corr...\n",
       "2  Elaborar gráfico historial académico, Enviar c...\n",
       "3  Gestionar información del estudiante, Gestiona...\n",
       "4  Gestionar información del estudiante, Gestiona..."
      ]
     },
     "execution_count": 51,
     "metadata": {},
     "output_type": "execute_result"
    }
   ],
   "source": [
    "general.head()"
   ]
  },
  {
   "cell_type": "code",
   "execution_count": 52,
   "metadata": {},
   "outputs": [],
   "source": [
    "general = general['Funcionalidades_generales'].str.split(',', expand=True)"
   ]
  },
  {
   "cell_type": "code",
   "execution_count": 53,
   "metadata": {},
   "outputs": [
    {
     "name": "stdout",
     "output_type": "stream",
     "text": [
      "0\n",
      "Detectar problemas que influyen sobre el rendimiento del estudiante en base a la data disponible     3\n",
      "Elaborar gráfico historial académico                                                                 3\n",
      "Gestionar información del docente                                                                    6\n",
      "Gestionar información del estudiante                                                                48\n",
      "Gestionar información del psicopedagogo                                                              4\n",
      "Registrar notas del estudiante por asignatura                                                        9\n",
      "Name: 0, dtype: int64\n",
      "1\n",
      " Detectar problemas que influyen sobre el rendimiento del estudiante en base a la data disponible     2\n",
      " Elaborar gráfico historial académico                                                                 1\n",
      " Enviar correos automáticos con la información de reportes                                            2\n",
      " Generar reportes sobre el rendimiento del estudiante                                                 1\n",
      " Gestionar información del docente                                                                   43\n",
      " Gestionar información del psicopedagogo                                                              2\n",
      " Mostrar historial de calificaciones                                                                  5\n",
      " Promediar notas por asignatura                                                                       6\n",
      " Promediar notas por grado                                                                            1\n",
      " Registrar notas del estudiante por asignatura                                                        4\n",
      "Name: 1, dtype: int64\n",
      "2\n",
      " Detectar problemas que influyen sobre el rendimiento del estudiante en base a la data disponible     2\n",
      " Elaborar gráfico historial académico                                                                 5\n",
      " Enviar correos automáticos con la información de reportes                                            2\n",
      " Generar reportes sobre el rendimiento del estudiante                                                 1\n",
      " Generar sugerencias ante problemas detectados                                                        1\n",
      " Generar sugerencias destinadas al docente en base a su rendimiento                                   3\n",
      " Gestionar información del psicopedagogo                                                             37\n",
      " Mostrar historial de calificaciones                                                                  4\n",
      " Promediar notas por grado                                                                            5\n",
      " Registrar notas del estudiante por asignatura                                                        4\n",
      "Name: 2, dtype: int64\n",
      "3\n",
      " Detectar problemas que influyen sobre el rendimiento del estudiante en base a la data disponible     3\n",
      " Elaborar gráfico historial académico                                                                 4\n",
      " Enviar correos automáticos con la información de reportes                                            4\n",
      " Generar reportes sobre el rendimiento del docente                                                    1\n",
      " Generar reportes sobre el rendimiento del estudiante                                                 6\n",
      " Mostrar historial de calificaciones                                                                  2\n",
      " Promediar notas por asignatura                                                                       8\n",
      " Registrar notas del estudiante por asignatura                                                       28\n",
      "Name: 3, dtype: int64\n",
      "4\n",
      " Detectar problemas que influyen sobre el rendimiento del estudiante en base a la data disponible     1\n",
      " Elaborar gráfico historial académico                                                                 3\n",
      " Enviar correos automáticos con la información de reportes                                            3\n",
      " Generar reportes sobre el rendimiento del docente                                                    6\n",
      " Generar reportes sobre el rendimiento del estudiante                                                 2\n",
      " Generar sugerencias ante problemas detectados                                                        4\n",
      " Generar sugerencias destinadas al docente en base a su rendimiento                                   1\n",
      " Mostrar historial de calificaciones                                                                  4\n",
      " Promediar notas por asignatura                                                                      22\n",
      " Promediar notas por grado                                                                            7\n",
      "Name: 4, dtype: int64\n",
      "5\n",
      " Detectar problemas que influyen sobre el rendimiento del estudiante en base a la data disponible     3\n",
      " Elaborar gráfico historial académico                                                                 3\n",
      " Enviar correos automáticos con la información de reportes                                            4\n",
      " Generar reportes sobre el rendimiento del docente                                                    3\n",
      " Generar reportes sobre el rendimiento del estudiante                                                 4\n",
      " Generar sugerencias destinadas al docente en base a su rendimiento                                   2\n",
      " Mostrar historial de calificaciones                                                                  8\n",
      " Promediar notas por grado                                                                           20\n",
      "Name: 5, dtype: int64\n",
      "6\n",
      " Detectar problemas que influyen sobre el rendimiento del estudiante en base a la data disponible     2\n",
      " Elaborar gráfico historial académico                                                                 7\n",
      " Enviar correos automáticos con la información de reportes                                            4\n",
      " Generar reportes sobre el rendimiento del docente                                                    1\n",
      " Generar reportes sobre el rendimiento del estudiante                                                 3\n",
      " Generar sugerencias ante problemas detectados                                                        3\n",
      " Generar sugerencias destinadas al docente en base a su rendimiento                                   1\n",
      " Mostrar historial de calificaciones                                                                 18\n",
      "Name: 6, dtype: int64\n",
      "7\n",
      " Detectar problemas que influyen sobre el rendimiento del estudiante en base a la data disponible     5\n",
      " Elaborar gráfico historial académico                                                                15\n",
      " Enviar correos automáticos con la información de reportes                                            3\n",
      " Generar reportes sobre el rendimiento del docente                                                    2\n",
      " Generar reportes sobre el rendimiento del estudiante                                                 7\n",
      " Generar sugerencias ante problemas detectados                                                        2\n",
      "Name: 7, dtype: int64\n",
      "8\n",
      " Detectar problemas que influyen sobre el rendimiento del estudiante en base a la data disponible     4\n",
      " Enviar correos automáticos con la información de reportes                                           12\n",
      " Generar reportes sobre el rendimiento del docente                                                    7\n",
      " Generar reportes sobre el rendimiento del estudiante                                                 3\n",
      " Generar sugerencias ante problemas detectados                                                        4\n",
      " Generar sugerencias destinadas al docente en base a su rendimiento                                   1\n",
      "Name: 8, dtype: int64\n",
      "9\n",
      " Detectar problemas que influyen sobre el rendimiento del estudiante en base a la data disponible    11\n",
      " Generar reportes sobre el rendimiento del docente                                                    3\n",
      " Generar reportes sobre el rendimiento del estudiante                                                 5\n",
      " Generar sugerencias ante problemas detectados                                                        3\n",
      " Generar sugerencias destinadas al docente en base a su rendimiento                                   5\n",
      "Name: 9, dtype: int64\n",
      "10\n",
      " Generar reportes sobre el rendimiento del docente                      4\n",
      " Generar reportes sobre el rendimiento del estudiante                   2\n",
      " Generar sugerencias ante problemas detectados                         11\n",
      " Generar sugerencias destinadas al docente en base a su rendimiento     1\n",
      "Name: 10, dtype: int64\n",
      "11\n",
      " Generar reportes sobre el rendimiento del docente                      2\n",
      " Generar reportes sobre el rendimiento del estudiante                  11\n",
      " Generar sugerencias destinadas al docente en base a su rendimiento     2\n",
      "Name: 11, dtype: int64\n",
      "12\n",
      " Generar reportes sobre el rendimiento del docente                     11\n",
      " Generar sugerencias destinadas al docente en base a su rendimiento     2\n",
      "Name: 12, dtype: int64\n",
      "13\n",
      " Generar sugerencias destinadas al docente en base a su rendimiento    11\n",
      "Name: 13, dtype: int64\n"
     ]
    }
   ],
   "source": [
    "colum = general.columns\n",
    "\n",
    "for col in colum:\n",
    "    a = general.groupby(col)[col].count()\n",
    "    print(a)"
   ]
  },
  {
   "cell_type": "code",
   "execution_count": 54,
   "metadata": {},
   "outputs": [
    {
     "data": {
      "text/html": [
       "<div>\n",
       "<style scoped>\n",
       "    .dataframe tbody tr th:only-of-type {\n",
       "        vertical-align: middle;\n",
       "    }\n",
       "\n",
       "    .dataframe tbody tr th {\n",
       "        vertical-align: top;\n",
       "    }\n",
       "\n",
       "    .dataframe thead th {\n",
       "        text-align: right;\n",
       "    }\n",
       "</style>\n",
       "<table border=\"1\" class=\"dataframe\">\n",
       "  <thead>\n",
       "    <tr style=\"text-align: right;\">\n",
       "      <th></th>\n",
       "      <th>Funcion</th>\n",
       "      <th>Voto</th>\n",
       "    </tr>\n",
       "  </thead>\n",
       "  <tbody>\n",
       "    <tr>\n",
       "      <th>0</th>\n",
       "      <td>Detectar_problemas</td>\n",
       "      <td>36</td>\n",
       "    </tr>\n",
       "    <tr>\n",
       "      <th>1</th>\n",
       "      <td>Elaborar_grafico</td>\n",
       "      <td>41</td>\n",
       "    </tr>\n",
       "    <tr>\n",
       "      <th>2</th>\n",
       "      <td>Gestionar_informacion_docente</td>\n",
       "      <td>49</td>\n",
       "    </tr>\n",
       "    <tr>\n",
       "      <th>3</th>\n",
       "      <td>Gestionar_informacion_estudiante</td>\n",
       "      <td>48</td>\n",
       "    </tr>\n",
       "    <tr>\n",
       "      <th>4</th>\n",
       "      <td>Gestionar_informacion_psicpedagogo</td>\n",
       "      <td>43</td>\n",
       "    </tr>\n",
       "    <tr>\n",
       "      <th>5</th>\n",
       "      <td>Registrar_notas_asignatura</td>\n",
       "      <td>45</td>\n",
       "    </tr>\n",
       "    <tr>\n",
       "      <th>6</th>\n",
       "      <td>Enviar_correos</td>\n",
       "      <td>34</td>\n",
       "    </tr>\n",
       "    <tr>\n",
       "      <th>7</th>\n",
       "      <td>Generar_reporte_estudiante</td>\n",
       "      <td>45</td>\n",
       "    </tr>\n",
       "    <tr>\n",
       "      <th>8</th>\n",
       "      <td>Mostrar_historial_calificaciones</td>\n",
       "      <td>41</td>\n",
       "    </tr>\n",
       "    <tr>\n",
       "      <th>9</th>\n",
       "      <td>Promediar_notas_asignatura</td>\n",
       "      <td>36</td>\n",
       "    </tr>\n",
       "    <tr>\n",
       "      <th>10</th>\n",
       "      <td>Promediar_notas_grado</td>\n",
       "      <td>33</td>\n",
       "    </tr>\n",
       "    <tr>\n",
       "      <th>11</th>\n",
       "      <td>Generar_sugerencias_estudiante</td>\n",
       "      <td>28</td>\n",
       "    </tr>\n",
       "    <tr>\n",
       "      <th>12</th>\n",
       "      <td>Generar_sugerencias_docente</td>\n",
       "      <td>29</td>\n",
       "    </tr>\n",
       "    <tr>\n",
       "      <th>13</th>\n",
       "      <td>Generar_reporte_docente</td>\n",
       "      <td>40</td>\n",
       "    </tr>\n",
       "  </tbody>\n",
       "</table>\n",
       "</div>"
      ],
      "text/plain": [
       "                               Funcion  Voto\n",
       "0                   Detectar_problemas    36\n",
       "1                     Elaborar_grafico    41\n",
       "2        Gestionar_informacion_docente    49\n",
       "3     Gestionar_informacion_estudiante    48\n",
       "4   Gestionar_informacion_psicpedagogo    43\n",
       "5           Registrar_notas_asignatura    45\n",
       "6                       Enviar_correos    34\n",
       "7           Generar_reporte_estudiante    45\n",
       "8     Mostrar_historial_calificaciones    41\n",
       "9           Promediar_notas_asignatura    36\n",
       "10               Promediar_notas_grado    33\n",
       "11      Generar_sugerencias_estudiante    28\n",
       "12         Generar_sugerencias_docente    29\n",
       "13             Generar_reporte_docente    40"
      ]
     },
     "execution_count": 54,
     "metadata": {},
     "output_type": "execute_result"
    }
   ],
   "source": [
    "general2 = pd.DataFrame({\n",
    "    'Funcion': ['Detectar_problemas', 'Elaborar_grafico', 'Gestionar_informacion_docente', 'Gestionar_informacion_estudiante', \n",
    "                'Gestionar_informacion_psicpedagogo', 'Registrar_notas_asignatura', 'Enviar_correos', 'Generar_reporte_estudiante', \n",
    "                'Mostrar_historial_calificaciones', 'Promediar_notas_asignatura', 'Promediar_notas_grado', 'Generar_sugerencias_estudiante', \n",
    "                'Generar_sugerencias_docente', 'Generar_reporte_docente'],\n",
    "    'Voto': [36, 41, 49, 48, 43, 45, 34, 45, 41, 36, 33, 28, 29, 40]\n",
    "})\n",
    "\n",
    "general2"
   ]
  },
  {
   "cell_type": "code",
   "execution_count": 55,
   "metadata": {},
   "outputs": [
    {
     "data": {
      "text/plain": [
       "<Axes: xlabel='Voto', ylabel='Funcion'>"
      ]
     },
     "execution_count": 55,
     "metadata": {},
     "output_type": "execute_result"
    },
    {
     "data": {
      "image/png": "[encoded data removed]",
      "text/plain": [
       "<Figure size 640x480 with 1 Axes>"
      ]
     },
     "metadata": {},
     "output_type": "display_data"
    }
   ],
   "source": [
    "sb.barplot(data=general2, y='Funcion', x='Voto')"
   ]
  },
  {
   "cell_type": "markdown",
   "metadata": {},
   "source": [
    "# Tiempo de actualización"
   ]
  },
  {
   "cell_type": "code",
   "execution_count": 56,
   "metadata": {},
   "outputs": [
    {
     "data": {
      "text/plain": [
       "Tiempo_actualizacion\n",
       "                                                                               1\n",
       "1                                                                              1\n",
       "1 hora                                                                         6\n",
       "1 minuto                                                                       3\n",
       "1 minuto                                                                       2\n",
       "10                                                                             1\n",
       "10 min                                                                         2\n",
       "10 minutos                                                                     2\n",
       "100 horas                                                                      1\n",
       "120 min.                                                                       1\n",
       "15 min                                                                         1\n",
       "15 minutos                                                                     1\n",
       "2 horas                                                                        1\n",
       "2 minutos                                                                      1\n",
       "2 minutos                                                                      1\n",
       "20 min                                                                         1\n",
       "20 minutos                                                                     3\n",
       "20 minutos                                                                     1\n",
       "24 h                                                                           1\n",
       "24 horas                                                                       2\n",
       "25 horas                                                                       1\n",
       "3 horas                                                                        1\n",
       "30 min                                                                         3\n",
       "30 minutos                                                                     7\n",
       "30 minutos                                                                     1\n",
       "30 minutos, dependería de la cantidad de alumnos y evaluaciones a ingresar.    1\n",
       "30minutos                                                                      1\n",
       "3min                                                                           1\n",
       "3minutos                                                                       1\n",
       "4 horas                                                                        1\n",
       "48 horas                                                                       1\n",
       "5 min                                                                          2\n",
       "5 min.                                                                         1\n",
       "5 minutos                                                                      3\n",
       "5 minutos                                                                      2\n",
       "6 horas                                                                        1\n",
       "6 horas, en la noche (madrugada)preferentemente                                1\n",
       "60 min                                                                         1\n",
       "60 minutos                                                                     1\n",
       "Cada 24 horas                                                                  1\n",
       "Cada hora                                                                      2\n",
       "Cada minuto                                                                    1\n",
       "Considero una actualización mensual                                            1\n",
       "Ninguna                                                                        1\n",
       "Una hora aprox                                                                 1\n",
       "cada 12 horas                                                                  1\n",
       "cada día                                                                       1\n",
       "Name: Tiempo_actualizacion, dtype: int64"
      ]
     },
     "execution_count": 56,
     "metadata": {},
     "output_type": "execute_result"
    }
   ],
   "source": [
    "dataset2.groupby('Tiempo_actualizacion')['Tiempo_actualizacion'].count()"
   ]
  },
  {
   "cell_type": "code",
   "execution_count": 57,
   "metadata": {},
   "outputs": [],
   "source": [
    "tiempo = dataset2[['Tiempo_actualizacion']]"
   ]
  },
  {
   "cell_type": "code",
   "execution_count": 58,
   "metadata": {},
   "outputs": [
    {
     "data": {
      "text/html": [
       "<div>\n",
       "<style scoped>\n",
       "    .dataframe tbody tr th:only-of-type {\n",
       "        vertical-align: middle;\n",
       "    }\n",
       "\n",
       "    .dataframe tbody tr th {\n",
       "        vertical-align: top;\n",
       "    }\n",
       "\n",
       "    .dataframe thead th {\n",
       "        text-align: right;\n",
       "    }\n",
       "</style>\n",
       "<table border=\"1\" class=\"dataframe\">\n",
       "  <thead>\n",
       "    <tr style=\"text-align: right;\">\n",
       "      <th></th>\n",
       "      <th>Tiempo_actualizacion</th>\n",
       "    </tr>\n",
       "  </thead>\n",
       "  <tbody>\n",
       "    <tr>\n",
       "      <th>0</th>\n",
       "      <td>5 min</td>\n",
       "    </tr>\n",
       "    <tr>\n",
       "      <th>1</th>\n",
       "      <td>Una hora aprox</td>\n",
       "    </tr>\n",
       "    <tr>\n",
       "      <th>2</th>\n",
       "      <td>100 horas</td>\n",
       "    </tr>\n",
       "    <tr>\n",
       "      <th>3</th>\n",
       "      <td>1 hora</td>\n",
       "    </tr>\n",
       "    <tr>\n",
       "      <th>4</th>\n",
       "      <td>1 minuto</td>\n",
       "    </tr>\n",
       "    <tr>\n",
       "      <th>...</th>\n",
       "      <td>...</td>\n",
       "    </tr>\n",
       "    <tr>\n",
       "      <th>68</th>\n",
       "      <td>60 min</td>\n",
       "    </tr>\n",
       "    <tr>\n",
       "      <th>69</th>\n",
       "      <td>2 minutos</td>\n",
       "    </tr>\n",
       "    <tr>\n",
       "      <th>70</th>\n",
       "      <td>30 minutos</td>\n",
       "    </tr>\n",
       "    <tr>\n",
       "      <th>71</th>\n",
       "      <td>Considero una actualización mensual</td>\n",
       "    </tr>\n",
       "    <tr>\n",
       "      <th>72</th>\n",
       "      <td>25 horas</td>\n",
       "    </tr>\n",
       "  </tbody>\n",
       "</table>\n",
       "<p>73 rows × 1 columns</p>\n",
       "</div>"
      ],
      "text/plain": [
       "                   Tiempo_actualizacion\n",
       "0                                 5 min\n",
       "1                        Una hora aprox\n",
       "2                            100 horas \n",
       "3                                1 hora\n",
       "4                              1 minuto\n",
       "..                                  ...\n",
       "68                               60 min\n",
       "69                            2 minutos\n",
       "70                           30 minutos\n",
       "71  Considero una actualización mensual\n",
       "72                            25 horas \n",
       "\n",
       "[73 rows x 1 columns]"
      ]
     },
     "execution_count": 58,
     "metadata": {},
     "output_type": "execute_result"
    }
   ],
   "source": [
    "tiempo"
   ]
  },
  {
   "cell_type": "code",
   "execution_count": 59,
   "metadata": {},
   "outputs": [
    {
     "data": {
      "text/html": [
       "<div>\n",
       "<style scoped>\n",
       "    .dataframe tbody tr th:only-of-type {\n",
       "        vertical-align: middle;\n",
       "    }\n",
       "\n",
       "    .dataframe tbody tr th {\n",
       "        vertical-align: top;\n",
       "    }\n",
       "\n",
       "    .dataframe thead th {\n",
       "        text-align: right;\n",
       "    }\n",
       "</style>\n",
       "<table border=\"1\" class=\"dataframe\">\n",
       "  <thead>\n",
       "    <tr style=\"text-align: right;\">\n",
       "      <th></th>\n",
       "      <th>Tiempo_actualizacion</th>\n",
       "    </tr>\n",
       "  </thead>\n",
       "  <tbody>\n",
       "    <tr>\n",
       "      <th>0</th>\n",
       "      <td>5 min</td>\n",
       "    </tr>\n",
       "    <tr>\n",
       "      <th>6</th>\n",
       "      <td>5 min.</td>\n",
       "    </tr>\n",
       "    <tr>\n",
       "      <th>12</th>\n",
       "      <td>5 minutos</td>\n",
       "    </tr>\n",
       "    <tr>\n",
       "      <th>15</th>\n",
       "      <td>5 minutos</td>\n",
       "    </tr>\n",
       "    <tr>\n",
       "      <th>22</th>\n",
       "      <td>15 minutos</td>\n",
       "    </tr>\n",
       "    <tr>\n",
       "      <th>28</th>\n",
       "      <td>5 minutos</td>\n",
       "    </tr>\n",
       "    <tr>\n",
       "      <th>56</th>\n",
       "      <td>5 minutos</td>\n",
       "    </tr>\n",
       "    <tr>\n",
       "      <th>61</th>\n",
       "      <td>5 minutos</td>\n",
       "    </tr>\n",
       "    <tr>\n",
       "      <th>63</th>\n",
       "      <td>5 min</td>\n",
       "    </tr>\n",
       "    <tr>\n",
       "      <th>66</th>\n",
       "      <td>15 min</td>\n",
       "    </tr>\n",
       "  </tbody>\n",
       "</table>\n",
       "</div>"
      ],
      "text/plain": [
       "   Tiempo_actualizacion\n",
       "0                 5 min\n",
       "6                5 min.\n",
       "12            5 minutos\n",
       "15           5 minutos \n",
       "22          15 minutos \n",
       "28           5 minutos \n",
       "56            5 minutos\n",
       "61            5 minutos\n",
       "63                5 min\n",
       "66               15 min"
      ]
     },
     "execution_count": 59,
     "metadata": {},
     "output_type": "execute_result"
    }
   ],
   "source": [
    "tiempo[tiempo['Tiempo_actualizacion'].str.contains('5 min')]"
   ]
  },
  {
   "cell_type": "code",
   "execution_count": 60,
   "metadata": {},
   "outputs": [
    {
     "data": {
      "text/plain": [
       "<bound method DataFrame.value_counts of                    Tiempo_actualizacion\n",
       "0                                 5 min\n",
       "1                        Una hora aprox\n",
       "2                            100 horas \n",
       "3                                1 hora\n",
       "4                              1 minuto\n",
       "..                                  ...\n",
       "68                               60 min\n",
       "69                            2 minutos\n",
       "70                           30 minutos\n",
       "71  Considero una actualización mensual\n",
       "72                            25 horas \n",
       "\n",
       "[73 rows x 1 columns]>"
      ]
     },
     "execution_count": 60,
     "metadata": {},
     "output_type": "execute_result"
    }
   ],
   "source": [
    "tiempo.value_counts"
   ]
  },
  {
   "cell_type": "code",
   "execution_count": 61,
   "metadata": {},
   "outputs": [
    {
     "data": {
      "text/html": [
       "<div>\n",
       "<style scoped>\n",
       "    .dataframe tbody tr th:only-of-type {\n",
       "        vertical-align: middle;\n",
       "    }\n",
       "\n",
       "    .dataframe tbody tr th {\n",
       "        vertical-align: top;\n",
       "    }\n",
       "\n",
       "    .dataframe thead th {\n",
       "        text-align: right;\n",
       "    }\n",
       "</style>\n",
       "<table border=\"1\" class=\"dataframe\">\n",
       "  <thead>\n",
       "    <tr style=\"text-align: right;\">\n",
       "      <th></th>\n",
       "      <th>Tiempo_actualizacion</th>\n",
       "    </tr>\n",
       "  </thead>\n",
       "  <tbody>\n",
       "    <tr>\n",
       "      <th>62</th>\n",
       "      <td>2 minutos</td>\n",
       "    </tr>\n",
       "    <tr>\n",
       "      <th>69</th>\n",
       "      <td>2 minutos</td>\n",
       "    </tr>\n",
       "  </tbody>\n",
       "</table>\n",
       "</div>"
      ],
      "text/plain": [
       "   Tiempo_actualizacion\n",
       "62           2 minutos \n",
       "69            2 minutos"
      ]
     },
     "execution_count": 61,
     "metadata": {},
     "output_type": "execute_result"
    }
   ],
   "source": [
    "tiempo[tiempo['Tiempo_actualizacion'].str.contains('2 min')]"
   ]
  },
  {
   "cell_type": "code",
   "execution_count": 62,
   "metadata": {},
   "outputs": [
    {
     "data": {
      "text/html": [
       "<div>\n",
       "<style scoped>\n",
       "    .dataframe tbody tr th:only-of-type {\n",
       "        vertical-align: middle;\n",
       "    }\n",
       "\n",
       "    .dataframe tbody tr th {\n",
       "        vertical-align: top;\n",
       "    }\n",
       "\n",
       "    .dataframe thead th {\n",
       "        text-align: right;\n",
       "    }\n",
       "</style>\n",
       "<table border=\"1\" class=\"dataframe\">\n",
       "  <thead>\n",
       "    <tr style=\"text-align: right;\">\n",
       "      <th></th>\n",
       "      <th>Tiempo_actualizacion</th>\n",
       "    </tr>\n",
       "  </thead>\n",
       "  <tbody>\n",
       "    <tr>\n",
       "      <th>8</th>\n",
       "      <td>10 min</td>\n",
       "    </tr>\n",
       "    <tr>\n",
       "      <th>9</th>\n",
       "      <td>10 minutos</td>\n",
       "    </tr>\n",
       "    <tr>\n",
       "      <th>50</th>\n",
       "      <td>10 minutos</td>\n",
       "    </tr>\n",
       "    <tr>\n",
       "      <th>54</th>\n",
       "      <td>10 min</td>\n",
       "    </tr>\n",
       "  </tbody>\n",
       "</table>\n",
       "</div>"
      ],
      "text/plain": [
       "   Tiempo_actualizacion\n",
       "8                10 min\n",
       "9           10 minutos \n",
       "50          10 minutos \n",
       "54               10 min"
      ]
     },
     "execution_count": 62,
     "metadata": {},
     "output_type": "execute_result"
    }
   ],
   "source": [
    "tiempo[tiempo['Tiempo_actualizacion'].str.contains('10 min')]"
   ]
  },
  {
   "cell_type": "code",
   "execution_count": 63,
   "metadata": {},
   "outputs": [
    {
     "data": {
      "text/html": [
       "<div>\n",
       "<style scoped>\n",
       "    .dataframe tbody tr th:only-of-type {\n",
       "        vertical-align: middle;\n",
       "    }\n",
       "\n",
       "    .dataframe tbody tr th {\n",
       "        vertical-align: top;\n",
       "    }\n",
       "\n",
       "    .dataframe thead th {\n",
       "        text-align: right;\n",
       "    }\n",
       "</style>\n",
       "<table border=\"1\" class=\"dataframe\">\n",
       "  <thead>\n",
       "    <tr style=\"text-align: right;\">\n",
       "      <th></th>\n",
       "      <th>Tiempo_actualizacion</th>\n",
       "    </tr>\n",
       "  </thead>\n",
       "  <tbody>\n",
       "    <tr>\n",
       "      <th>22</th>\n",
       "      <td>15 minutos</td>\n",
       "    </tr>\n",
       "    <tr>\n",
       "      <th>66</th>\n",
       "      <td>15 min</td>\n",
       "    </tr>\n",
       "  </tbody>\n",
       "</table>\n",
       "</div>"
      ],
      "text/plain": [
       "   Tiempo_actualizacion\n",
       "22          15 minutos \n",
       "66               15 min"
      ]
     },
     "execution_count": 63,
     "metadata": {},
     "output_type": "execute_result"
    }
   ],
   "source": [
    "tiempo[tiempo['Tiempo_actualizacion'].str.contains('15 min')]"
   ]
  },
  {
   "cell_type": "code",
   "execution_count": 64,
   "metadata": {},
   "outputs": [
    {
     "data": {
      "text/html": [
       "<div>\n",
       "<style scoped>\n",
       "    .dataframe tbody tr th:only-of-type {\n",
       "        vertical-align: middle;\n",
       "    }\n",
       "\n",
       "    .dataframe tbody tr th {\n",
       "        vertical-align: top;\n",
       "    }\n",
       "\n",
       "    .dataframe thead th {\n",
       "        text-align: right;\n",
       "    }\n",
       "</style>\n",
       "<table border=\"1\" class=\"dataframe\">\n",
       "  <thead>\n",
       "    <tr style=\"text-align: right;\">\n",
       "      <th></th>\n",
       "      <th>Tiempo_actualizacion</th>\n",
       "    </tr>\n",
       "  </thead>\n",
       "  <tbody>\n",
       "    <tr>\n",
       "      <th>21</th>\n",
       "      <td>20 minutos</td>\n",
       "    </tr>\n",
       "    <tr>\n",
       "      <th>30</th>\n",
       "      <td>20 minutos</td>\n",
       "    </tr>\n",
       "    <tr>\n",
       "      <th>37</th>\n",
       "      <td>20 minutos</td>\n",
       "    </tr>\n",
       "    <tr>\n",
       "      <th>38</th>\n",
       "      <td>120 min.</td>\n",
       "    </tr>\n",
       "    <tr>\n",
       "      <th>59</th>\n",
       "      <td>20 minutos</td>\n",
       "    </tr>\n",
       "    <tr>\n",
       "      <th>60</th>\n",
       "      <td>20 min</td>\n",
       "    </tr>\n",
       "  </tbody>\n",
       "</table>\n",
       "</div>"
      ],
      "text/plain": [
       "   Tiempo_actualizacion\n",
       "21           20 minutos\n",
       "30           20 minutos\n",
       "37          20 minutos \n",
       "38             120 min.\n",
       "59           20 minutos\n",
       "60               20 min"
      ]
     },
     "execution_count": 64,
     "metadata": {},
     "output_type": "execute_result"
    }
   ],
   "source": [
    "tiempo[tiempo['Tiempo_actualizacion'].str.contains('20 min')]"
   ]
  },
  {
   "cell_type": "code",
   "execution_count": 65,
   "metadata": {},
   "outputs": [
    {
     "data": {
      "text/html": [
       "<div>\n",
       "<style scoped>\n",
       "    .dataframe tbody tr th:only-of-type {\n",
       "        vertical-align: middle;\n",
       "    }\n",
       "\n",
       "    .dataframe tbody tr th {\n",
       "        vertical-align: top;\n",
       "    }\n",
       "\n",
       "    .dataframe thead th {\n",
       "        text-align: right;\n",
       "    }\n",
       "</style>\n",
       "<table border=\"1\" class=\"dataframe\">\n",
       "  <thead>\n",
       "    <tr style=\"text-align: right;\">\n",
       "      <th></th>\n",
       "      <th>Tiempo_actualizacion</th>\n",
       "    </tr>\n",
       "  </thead>\n",
       "  <tbody>\n",
       "    <tr>\n",
       "      <th>13</th>\n",
       "      <td>30 minutos, dependería de la cantidad de alumn...</td>\n",
       "    </tr>\n",
       "    <tr>\n",
       "      <th>18</th>\n",
       "      <td>30 minutos</td>\n",
       "    </tr>\n",
       "    <tr>\n",
       "      <th>24</th>\n",
       "      <td>30 min</td>\n",
       "    </tr>\n",
       "    <tr>\n",
       "      <th>25</th>\n",
       "      <td>30 minutos</td>\n",
       "    </tr>\n",
       "    <tr>\n",
       "      <th>31</th>\n",
       "      <td>30 minutos</td>\n",
       "    </tr>\n",
       "    <tr>\n",
       "      <th>34</th>\n",
       "      <td>30 min</td>\n",
       "    </tr>\n",
       "    <tr>\n",
       "      <th>39</th>\n",
       "      <td>30 minutos</td>\n",
       "    </tr>\n",
       "    <tr>\n",
       "      <th>42</th>\n",
       "      <td>30 minutos</td>\n",
       "    </tr>\n",
       "    <tr>\n",
       "      <th>49</th>\n",
       "      <td>30 minutos</td>\n",
       "    </tr>\n",
       "    <tr>\n",
       "      <th>58</th>\n",
       "      <td>30 minutos</td>\n",
       "    </tr>\n",
       "    <tr>\n",
       "      <th>67</th>\n",
       "      <td>30 min</td>\n",
       "    </tr>\n",
       "    <tr>\n",
       "      <th>70</th>\n",
       "      <td>30 minutos</td>\n",
       "    </tr>\n",
       "  </tbody>\n",
       "</table>\n",
       "</div>"
      ],
      "text/plain": [
       "                                 Tiempo_actualizacion\n",
       "13  30 minutos, dependería de la cantidad de alumn...\n",
       "18                                        30 minutos \n",
       "24                                             30 min\n",
       "25                                         30 minutos\n",
       "31                                         30 minutos\n",
       "34                                             30 min\n",
       "39                                         30 minutos\n",
       "42                                         30 minutos\n",
       "49                                         30 minutos\n",
       "58                                         30 minutos\n",
       "67                                             30 min\n",
       "70                                         30 minutos"
      ]
     },
     "execution_count": 65,
     "metadata": {},
     "output_type": "execute_result"
    }
   ],
   "source": [
    "tiempo[tiempo['Tiempo_actualizacion'].str.contains('30 min')]"
   ]
  },
  {
   "cell_type": "code",
   "execution_count": 66,
   "metadata": {},
   "outputs": [
    {
     "data": {
      "text/html": [
       "<div>\n",
       "<style scoped>\n",
       "    .dataframe tbody tr th:only-of-type {\n",
       "        vertical-align: middle;\n",
       "    }\n",
       "\n",
       "    .dataframe tbody tr th {\n",
       "        vertical-align: top;\n",
       "    }\n",
       "\n",
       "    .dataframe thead th {\n",
       "        text-align: right;\n",
       "    }\n",
       "</style>\n",
       "<table border=\"1\" class=\"dataframe\">\n",
       "  <thead>\n",
       "    <tr style=\"text-align: right;\">\n",
       "      <th></th>\n",
       "      <th>Tiempo_actualizacion</th>\n",
       "    </tr>\n",
       "  </thead>\n",
       "  <tbody>\n",
       "    <tr>\n",
       "      <th>4</th>\n",
       "      <td>1 minuto</td>\n",
       "    </tr>\n",
       "    <tr>\n",
       "      <th>26</th>\n",
       "      <td>1 minuto</td>\n",
       "    </tr>\n",
       "    <tr>\n",
       "      <th>27</th>\n",
       "      <td>1 minuto</td>\n",
       "    </tr>\n",
       "    <tr>\n",
       "      <th>48</th>\n",
       "      <td>1 minuto</td>\n",
       "    </tr>\n",
       "    <tr>\n",
       "      <th>52</th>\n",
       "      <td>1 minuto</td>\n",
       "    </tr>\n",
       "  </tbody>\n",
       "</table>\n",
       "</div>"
      ],
      "text/plain": [
       "   Tiempo_actualizacion\n",
       "4              1 minuto\n",
       "26             1 minuto\n",
       "27            1 minuto \n",
       "48             1 minuto\n",
       "52            1 minuto "
      ]
     },
     "execution_count": 66,
     "metadata": {},
     "output_type": "execute_result"
    }
   ],
   "source": [
    "tiempo[tiempo['Tiempo_actualizacion'].str.contains('1 min')]"
   ]
  },
  {
   "cell_type": "code",
   "execution_count": 67,
   "metadata": {},
   "outputs": [
    {
     "data": {
      "text/html": [
       "<div>\n",
       "<style scoped>\n",
       "    .dataframe tbody tr th:only-of-type {\n",
       "        vertical-align: middle;\n",
       "    }\n",
       "\n",
       "    .dataframe tbody tr th {\n",
       "        vertical-align: top;\n",
       "    }\n",
       "\n",
       "    .dataframe thead th {\n",
       "        text-align: right;\n",
       "    }\n",
       "</style>\n",
       "<table border=\"1\" class=\"dataframe\">\n",
       "  <thead>\n",
       "    <tr style=\"text-align: right;\">\n",
       "      <th></th>\n",
       "      <th>Tiempo_actualizacion</th>\n",
       "    </tr>\n",
       "  </thead>\n",
       "  <tbody>\n",
       "    <tr>\n",
       "      <th>19</th>\n",
       "      <td>Cada hora</td>\n",
       "    </tr>\n",
       "    <tr>\n",
       "      <th>20</th>\n",
       "      <td>Cada hora</td>\n",
       "    </tr>\n",
       "    <tr>\n",
       "      <th>23</th>\n",
       "      <td>Cada 24 horas</td>\n",
       "    </tr>\n",
       "    <tr>\n",
       "      <th>45</th>\n",
       "      <td>Cada minuto</td>\n",
       "    </tr>\n",
       "  </tbody>\n",
       "</table>\n",
       "</div>"
      ],
      "text/plain": [
       "   Tiempo_actualizacion\n",
       "19            Cada hora\n",
       "20            Cada hora\n",
       "23        Cada 24 horas\n",
       "45          Cada minuto"
      ]
     },
     "execution_count": 67,
     "metadata": {},
     "output_type": "execute_result"
    }
   ],
   "source": [
    "tiempo[tiempo['Tiempo_actualizacion'].str.contains('Cada')]"
   ]
  },
  {
   "cell_type": "code",
   "execution_count": 68,
   "metadata": {},
   "outputs": [
    {
     "data": {
      "text/html": [
       "<div>\n",
       "<style scoped>\n",
       "    .dataframe tbody tr th:only-of-type {\n",
       "        vertical-align: middle;\n",
       "    }\n",
       "\n",
       "    .dataframe tbody tr th {\n",
       "        vertical-align: top;\n",
       "    }\n",
       "\n",
       "    .dataframe thead th {\n",
       "        text-align: right;\n",
       "    }\n",
       "</style>\n",
       "<table border=\"1\" class=\"dataframe\">\n",
       "  <thead>\n",
       "    <tr style=\"text-align: right;\">\n",
       "      <th></th>\n",
       "      <th>Tiempo_actualizacion</th>\n",
       "    </tr>\n",
       "  </thead>\n",
       "  <tbody>\n",
       "    <tr>\n",
       "      <th>32</th>\n",
       "      <td>60 minutos</td>\n",
       "    </tr>\n",
       "    <tr>\n",
       "      <th>68</th>\n",
       "      <td>60 min</td>\n",
       "    </tr>\n",
       "  </tbody>\n",
       "</table>\n",
       "</div>"
      ],
      "text/plain": [
       "   Tiempo_actualizacion\n",
       "32          60 minutos \n",
       "68               60 min"
      ]
     },
     "execution_count": 68,
     "metadata": {},
     "output_type": "execute_result"
    }
   ],
   "source": [
    "tiempo[tiempo['Tiempo_actualizacion'].str.contains('60 min')]"
   ]
  },
  {
   "cell_type": "code",
   "execution_count": 69,
   "metadata": {},
   "outputs": [
    {
     "data": {
      "text/html": [
       "<div>\n",
       "<style scoped>\n",
       "    .dataframe tbody tr th:only-of-type {\n",
       "        vertical-align: middle;\n",
       "    }\n",
       "\n",
       "    .dataframe tbody tr th {\n",
       "        vertical-align: top;\n",
       "    }\n",
       "\n",
       "    .dataframe thead th {\n",
       "        text-align: right;\n",
       "    }\n",
       "</style>\n",
       "<table border=\"1\" class=\"dataframe\">\n",
       "  <thead>\n",
       "    <tr style=\"text-align: right;\">\n",
       "      <th></th>\n",
       "      <th>Tiempo_actualizacion</th>\n",
       "    </tr>\n",
       "  </thead>\n",
       "  <tbody>\n",
       "    <tr>\n",
       "      <th>3</th>\n",
       "      <td>1 hora</td>\n",
       "    </tr>\n",
       "    <tr>\n",
       "      <th>7</th>\n",
       "      <td>1 hora</td>\n",
       "    </tr>\n",
       "    <tr>\n",
       "      <th>33</th>\n",
       "      <td>1 hora</td>\n",
       "    </tr>\n",
       "    <tr>\n",
       "      <th>35</th>\n",
       "      <td>1 hora</td>\n",
       "    </tr>\n",
       "    <tr>\n",
       "      <th>41</th>\n",
       "      <td>1 hora</td>\n",
       "    </tr>\n",
       "    <tr>\n",
       "      <th>64</th>\n",
       "      <td>1 hora</td>\n",
       "    </tr>\n",
       "  </tbody>\n",
       "</table>\n",
       "</div>"
      ],
      "text/plain": [
       "   Tiempo_actualizacion\n",
       "3                1 hora\n",
       "7                1 hora\n",
       "33               1 hora\n",
       "35               1 hora\n",
       "41               1 hora\n",
       "64               1 hora"
      ]
     },
     "execution_count": 69,
     "metadata": {},
     "output_type": "execute_result"
    }
   ],
   "source": [
    "tiempo[tiempo['Tiempo_actualizacion'].str.contains('1 hor')]"
   ]
  },
  {
   "cell_type": "code",
   "execution_count": 70,
   "metadata": {},
   "outputs": [
    {
     "data": {
      "text/html": [
       "<div>\n",
       "<style scoped>\n",
       "    .dataframe tbody tr th:only-of-type {\n",
       "        vertical-align: middle;\n",
       "    }\n",
       "\n",
       "    .dataframe tbody tr th {\n",
       "        vertical-align: top;\n",
       "    }\n",
       "\n",
       "    .dataframe thead th {\n",
       "        text-align: right;\n",
       "    }\n",
       "</style>\n",
       "<table border=\"1\" class=\"dataframe\">\n",
       "  <thead>\n",
       "    <tr style=\"text-align: right;\">\n",
       "      <th></th>\n",
       "      <th>Tiempo_actualizacion</th>\n",
       "    </tr>\n",
       "  </thead>\n",
       "  <tbody>\n",
       "    <tr>\n",
       "      <th>1</th>\n",
       "      <td>Una hora aprox</td>\n",
       "    </tr>\n",
       "  </tbody>\n",
       "</table>\n",
       "</div>"
      ],
      "text/plain": [
       "  Tiempo_actualizacion\n",
       "1       Una hora aprox"
      ]
     },
     "execution_count": 70,
     "metadata": {},
     "output_type": "execute_result"
    }
   ],
   "source": [
    "tiempo[tiempo['Tiempo_actualizacion'].str.contains('Una')]"
   ]
  },
  {
   "cell_type": "code",
   "execution_count": 71,
   "metadata": {},
   "outputs": [
    {
     "data": {
      "text/html": [
       "<div>\n",
       "<style scoped>\n",
       "    .dataframe tbody tr th:only-of-type {\n",
       "        vertical-align: middle;\n",
       "    }\n",
       "\n",
       "    .dataframe tbody tr th {\n",
       "        vertical-align: top;\n",
       "    }\n",
       "\n",
       "    .dataframe thead th {\n",
       "        text-align: right;\n",
       "    }\n",
       "</style>\n",
       "<table border=\"1\" class=\"dataframe\">\n",
       "  <thead>\n",
       "    <tr style=\"text-align: right;\">\n",
       "      <th></th>\n",
       "      <th>Tiempo_actualizacion</th>\n",
       "    </tr>\n",
       "  </thead>\n",
       "  <tbody>\n",
       "    <tr>\n",
       "      <th>29</th>\n",
       "      <td>cada 12 horas</td>\n",
       "    </tr>\n",
       "    <tr>\n",
       "      <th>46</th>\n",
       "      <td>2 horas</td>\n",
       "    </tr>\n",
       "  </tbody>\n",
       "</table>\n",
       "</div>"
      ],
      "text/plain": [
       "   Tiempo_actualizacion\n",
       "29        cada 12 horas\n",
       "46              2 horas"
      ]
     },
     "execution_count": 71,
     "metadata": {},
     "output_type": "execute_result"
    }
   ],
   "source": [
    "tiempo[tiempo['Tiempo_actualizacion'].str.contains('2 hor')]"
   ]
  },
  {
   "cell_type": "code",
   "execution_count": 72,
   "metadata": {},
   "outputs": [
    {
     "data": {
      "text/html": [
       "<div>\n",
       "<style scoped>\n",
       "    .dataframe tbody tr th:only-of-type {\n",
       "        vertical-align: middle;\n",
       "    }\n",
       "\n",
       "    .dataframe tbody tr th {\n",
       "        vertical-align: top;\n",
       "    }\n",
       "\n",
       "    .dataframe thead th {\n",
       "        text-align: right;\n",
       "    }\n",
       "</style>\n",
       "<table border=\"1\" class=\"dataframe\">\n",
       "  <thead>\n",
       "    <tr style=\"text-align: right;\">\n",
       "      <th></th>\n",
       "      <th>Tiempo_actualizacion</th>\n",
       "    </tr>\n",
       "  </thead>\n",
       "  <tbody>\n",
       "    <tr>\n",
       "      <th>65</th>\n",
       "      <td>3 horas</td>\n",
       "    </tr>\n",
       "  </tbody>\n",
       "</table>\n",
       "</div>"
      ],
      "text/plain": [
       "   Tiempo_actualizacion\n",
       "65             3 horas "
      ]
     },
     "execution_count": 72,
     "metadata": {},
     "output_type": "execute_result"
    }
   ],
   "source": [
    "tiempo[tiempo['Tiempo_actualizacion'].str.contains('3 hor')]"
   ]
  },
  {
   "cell_type": "code",
   "execution_count": 73,
   "metadata": {},
   "outputs": [
    {
     "data": {
      "text/html": [
       "<div>\n",
       "<style scoped>\n",
       "    .dataframe tbody tr th:only-of-type {\n",
       "        vertical-align: middle;\n",
       "    }\n",
       "\n",
       "    .dataframe tbody tr th {\n",
       "        vertical-align: top;\n",
       "    }\n",
       "\n",
       "    .dataframe thead th {\n",
       "        text-align: right;\n",
       "    }\n",
       "</style>\n",
       "<table border=\"1\" class=\"dataframe\">\n",
       "  <thead>\n",
       "    <tr style=\"text-align: right;\">\n",
       "      <th></th>\n",
       "      <th>Tiempo_actualizacion</th>\n",
       "    </tr>\n",
       "  </thead>\n",
       "  <tbody>\n",
       "    <tr>\n",
       "      <th>10</th>\n",
       "      <td>4 horas</td>\n",
       "    </tr>\n",
       "    <tr>\n",
       "      <th>17</th>\n",
       "      <td>24 horas</td>\n",
       "    </tr>\n",
       "    <tr>\n",
       "      <th>23</th>\n",
       "      <td>Cada 24 horas</td>\n",
       "    </tr>\n",
       "    <tr>\n",
       "      <th>36</th>\n",
       "      <td>24 horas</td>\n",
       "    </tr>\n",
       "  </tbody>\n",
       "</table>\n",
       "</div>"
      ],
      "text/plain": [
       "   Tiempo_actualizacion\n",
       "10              4 horas\n",
       "17             24 horas\n",
       "23        Cada 24 horas\n",
       "36             24 horas"
      ]
     },
     "execution_count": 73,
     "metadata": {},
     "output_type": "execute_result"
    }
   ],
   "source": [
    "tiempo[tiempo['Tiempo_actualizacion'].str.contains('4 hor')]"
   ]
  },
  {
   "cell_type": "code",
   "execution_count": 74,
   "metadata": {},
   "outputs": [
    {
     "data": {
      "text/html": [
       "<div>\n",
       "<style scoped>\n",
       "    .dataframe tbody tr th:only-of-type {\n",
       "        vertical-align: middle;\n",
       "    }\n",
       "\n",
       "    .dataframe tbody tr th {\n",
       "        vertical-align: top;\n",
       "    }\n",
       "\n",
       "    .dataframe thead th {\n",
       "        text-align: right;\n",
       "    }\n",
       "</style>\n",
       "<table border=\"1\" class=\"dataframe\">\n",
       "  <thead>\n",
       "    <tr style=\"text-align: right;\">\n",
       "      <th></th>\n",
       "      <th>Tiempo_actualizacion</th>\n",
       "    </tr>\n",
       "  </thead>\n",
       "  <tbody>\n",
       "    <tr>\n",
       "      <th>11</th>\n",
       "      <td>6 horas</td>\n",
       "    </tr>\n",
       "    <tr>\n",
       "      <th>14</th>\n",
       "      <td>6 horas, en la noche (madrugada)preferentemente</td>\n",
       "    </tr>\n",
       "  </tbody>\n",
       "</table>\n",
       "</div>"
      ],
      "text/plain": [
       "                                Tiempo_actualizacion\n",
       "11                                           6 horas\n",
       "14  6 horas, en la noche (madrugada)preferentemente "
      ]
     },
     "execution_count": 74,
     "metadata": {},
     "output_type": "execute_result"
    }
   ],
   "source": [
    "tiempo[tiempo['Tiempo_actualizacion'].str.contains('6 hor')]"
   ]
  },
  {
   "cell_type": "code",
   "execution_count": 75,
   "metadata": {},
   "outputs": [
    {
     "data": {
      "text/html": [
       "<div>\n",
       "<style scoped>\n",
       "    .dataframe tbody tr th:only-of-type {\n",
       "        vertical-align: middle;\n",
       "    }\n",
       "\n",
       "    .dataframe tbody tr th {\n",
       "        vertical-align: top;\n",
       "    }\n",
       "\n",
       "    .dataframe thead th {\n",
       "        text-align: right;\n",
       "    }\n",
       "</style>\n",
       "<table border=\"1\" class=\"dataframe\">\n",
       "  <thead>\n",
       "    <tr style=\"text-align: right;\">\n",
       "      <th></th>\n",
       "      <th>Tiempo_actualizacion</th>\n",
       "    </tr>\n",
       "  </thead>\n",
       "  <tbody>\n",
       "    <tr>\n",
       "      <th>29</th>\n",
       "      <td>cada 12 horas</td>\n",
       "    </tr>\n",
       "  </tbody>\n",
       "</table>\n",
       "</div>"
      ],
      "text/plain": [
       "   Tiempo_actualizacion\n",
       "29        cada 12 horas"
      ]
     },
     "execution_count": 75,
     "metadata": {},
     "output_type": "execute_result"
    }
   ],
   "source": [
    "tiempo[tiempo['Tiempo_actualizacion'].str.contains('12 hor')]"
   ]
  },
  {
   "cell_type": "code",
   "execution_count": 76,
   "metadata": {},
   "outputs": [
    {
     "data": {
      "text/html": [
       "<div>\n",
       "<style scoped>\n",
       "    .dataframe tbody tr th:only-of-type {\n",
       "        vertical-align: middle;\n",
       "    }\n",
       "\n",
       "    .dataframe tbody tr th {\n",
       "        vertical-align: top;\n",
       "    }\n",
       "\n",
       "    .dataframe thead th {\n",
       "        text-align: right;\n",
       "    }\n",
       "</style>\n",
       "<table border=\"1\" class=\"dataframe\">\n",
       "  <thead>\n",
       "    <tr style=\"text-align: right;\">\n",
       "      <th></th>\n",
       "      <th>Tiempo_actualizacion</th>\n",
       "    </tr>\n",
       "  </thead>\n",
       "  <tbody>\n",
       "    <tr>\n",
       "      <th>17</th>\n",
       "      <td>24 horas</td>\n",
       "    </tr>\n",
       "    <tr>\n",
       "      <th>23</th>\n",
       "      <td>Cada 24 horas</td>\n",
       "    </tr>\n",
       "    <tr>\n",
       "      <th>36</th>\n",
       "      <td>24 horas</td>\n",
       "    </tr>\n",
       "  </tbody>\n",
       "</table>\n",
       "</div>"
      ],
      "text/plain": [
       "   Tiempo_actualizacion\n",
       "17             24 horas\n",
       "23        Cada 24 horas\n",
       "36             24 horas"
      ]
     },
     "execution_count": 76,
     "metadata": {},
     "output_type": "execute_result"
    }
   ],
   "source": [
    "tiempo[tiempo['Tiempo_actualizacion'].str.contains('24 hor')]"
   ]
  },
  {
   "cell_type": "code",
   "execution_count": 77,
   "metadata": {},
   "outputs": [
    {
     "data": {
      "text/html": [
       "<div>\n",
       "<style scoped>\n",
       "    .dataframe tbody tr th:only-of-type {\n",
       "        vertical-align: middle;\n",
       "    }\n",
       "\n",
       "    .dataframe tbody tr th {\n",
       "        vertical-align: top;\n",
       "    }\n",
       "\n",
       "    .dataframe thead th {\n",
       "        text-align: right;\n",
       "    }\n",
       "</style>\n",
       "<table border=\"1\" class=\"dataframe\">\n",
       "  <thead>\n",
       "    <tr style=\"text-align: right;\">\n",
       "      <th></th>\n",
       "      <th>Tiempo_actualizacion</th>\n",
       "    </tr>\n",
       "  </thead>\n",
       "  <tbody>\n",
       "    <tr>\n",
       "      <th>72</th>\n",
       "      <td>25 horas</td>\n",
       "    </tr>\n",
       "  </tbody>\n",
       "</table>\n",
       "</div>"
      ],
      "text/plain": [
       "   Tiempo_actualizacion\n",
       "72            25 horas "
      ]
     },
     "execution_count": 77,
     "metadata": {},
     "output_type": "execute_result"
    }
   ],
   "source": [
    "tiempo[tiempo['Tiempo_actualizacion'].str.contains('25 hor')]"
   ]
  },
  {
   "cell_type": "code",
   "execution_count": 78,
   "metadata": {},
   "outputs": [
    {
     "data": {
      "text/html": [
       "<div>\n",
       "<style scoped>\n",
       "    .dataframe tbody tr th:only-of-type {\n",
       "        vertical-align: middle;\n",
       "    }\n",
       "\n",
       "    .dataframe tbody tr th {\n",
       "        vertical-align: top;\n",
       "    }\n",
       "\n",
       "    .dataframe thead th {\n",
       "        text-align: right;\n",
       "    }\n",
       "</style>\n",
       "<table border=\"1\" class=\"dataframe\">\n",
       "  <thead>\n",
       "    <tr style=\"text-align: right;\">\n",
       "      <th></th>\n",
       "      <th>Tiempo_actualizacion</th>\n",
       "    </tr>\n",
       "  </thead>\n",
       "  <tbody>\n",
       "    <tr>\n",
       "      <th>57</th>\n",
       "      <td>48 horas</td>\n",
       "    </tr>\n",
       "  </tbody>\n",
       "</table>\n",
       "</div>"
      ],
      "text/plain": [
       "   Tiempo_actualizacion\n",
       "57             48 horas"
      ]
     },
     "execution_count": 78,
     "metadata": {},
     "output_type": "execute_result"
    }
   ],
   "source": [
    "tiempo[tiempo['Tiempo_actualizacion'].str.contains('48 hor')]"
   ]
  },
  {
   "cell_type": "code",
   "execution_count": 79,
   "metadata": {},
   "outputs": [
    {
     "data": {
      "text/html": [
       "<div>\n",
       "<style scoped>\n",
       "    .dataframe tbody tr th:only-of-type {\n",
       "        vertical-align: middle;\n",
       "    }\n",
       "\n",
       "    .dataframe tbody tr th {\n",
       "        vertical-align: top;\n",
       "    }\n",
       "\n",
       "    .dataframe thead th {\n",
       "        text-align: right;\n",
       "    }\n",
       "</style>\n",
       "<table border=\"1\" class=\"dataframe\">\n",
       "  <thead>\n",
       "    <tr style=\"text-align: right;\">\n",
       "      <th></th>\n",
       "      <th>Periodo</th>\n",
       "      <th>Conteo</th>\n",
       "    </tr>\n",
       "  </thead>\n",
       "  <tbody>\n",
       "    <tr>\n",
       "      <th>0</th>\n",
       "      <td>1 min</td>\n",
       "      <td>6</td>\n",
       "    </tr>\n",
       "    <tr>\n",
       "      <th>1</th>\n",
       "      <td>2 min</td>\n",
       "      <td>2</td>\n",
       "    </tr>\n",
       "    <tr>\n",
       "      <th>2</th>\n",
       "      <td>5 min</td>\n",
       "      <td>8</td>\n",
       "    </tr>\n",
       "    <tr>\n",
       "      <th>3</th>\n",
       "      <td>10 min</td>\n",
       "      <td>4</td>\n",
       "    </tr>\n",
       "    <tr>\n",
       "      <th>4</th>\n",
       "      <td>15 min</td>\n",
       "      <td>2</td>\n",
       "    </tr>\n",
       "    <tr>\n",
       "      <th>5</th>\n",
       "      <td>20 min</td>\n",
       "      <td>5</td>\n",
       "    </tr>\n",
       "    <tr>\n",
       "      <th>6</th>\n",
       "      <td>30 min</td>\n",
       "      <td>12</td>\n",
       "    </tr>\n",
       "    <tr>\n",
       "      <th>7</th>\n",
       "      <td>1 hor</td>\n",
       "      <td>11</td>\n",
       "    </tr>\n",
       "    <tr>\n",
       "      <th>8</th>\n",
       "      <td>2 hor</td>\n",
       "      <td>2</td>\n",
       "    </tr>\n",
       "    <tr>\n",
       "      <th>9</th>\n",
       "      <td>3 hor</td>\n",
       "      <td>1</td>\n",
       "    </tr>\n",
       "    <tr>\n",
       "      <th>10</th>\n",
       "      <td>4 hor</td>\n",
       "      <td>1</td>\n",
       "    </tr>\n",
       "    <tr>\n",
       "      <th>11</th>\n",
       "      <td>6 hor</td>\n",
       "      <td>2</td>\n",
       "    </tr>\n",
       "    <tr>\n",
       "      <th>12</th>\n",
       "      <td>12 hor</td>\n",
       "      <td>1</td>\n",
       "    </tr>\n",
       "    <tr>\n",
       "      <th>13</th>\n",
       "      <td>1 dia</td>\n",
       "      <td>7</td>\n",
       "    </tr>\n",
       "    <tr>\n",
       "      <th>14</th>\n",
       "      <td>25 hor</td>\n",
       "      <td>1</td>\n",
       "    </tr>\n",
       "    <tr>\n",
       "      <th>15</th>\n",
       "      <td>2 dias</td>\n",
       "      <td>1</td>\n",
       "    </tr>\n",
       "  </tbody>\n",
       "</table>\n",
       "</div>"
      ],
      "text/plain": [
       "   Periodo  Conteo\n",
       "0    1 min       6\n",
       "1    2 min       2\n",
       "2    5 min       8\n",
       "3   10 min       4\n",
       "4   15 min       2\n",
       "5   20 min       5\n",
       "6   30 min      12\n",
       "7    1 hor      11\n",
       "8    2 hor       2\n",
       "9    3 hor       1\n",
       "10   4 hor       1\n",
       "11   6 hor       2\n",
       "12  12 hor       1\n",
       "13   1 dia       7\n",
       "14  25 hor       1\n",
       "15  2 dias       1"
      ]
     },
     "execution_count": 79,
     "metadata": {},
     "output_type": "execute_result"
    }
   ],
   "source": [
    "tiempo2 = pd.DataFrame({\n",
    "    'Periodo': ['1 min', '2 min', '5 min', '10 min', '15 min', '20 min', '30 min', '1 hor', '2 hor', '3 hor', '4 hor', '6 hor', '12 hor', '1 dia',\n",
    "                '25 hor', '2 dias'],\n",
    "    'Conteo': [6, 2, 8, 4, 2, 5, 12, 11, 2, 1, 1, 2, 1, 7, 1, 1]\n",
    "})\n",
    "\n",
    "tiempo2"
   ]
  },
  {
   "cell_type": "code",
   "execution_count": 126,
   "metadata": {},
   "outputs": [
    {
     "data": {
      "text/plain": [
       "<Axes: xlabel='Conteo', ylabel='Periodo'>"
      ]
     },
     "execution_count": 126,
     "metadata": {},
     "output_type": "execute_result"
    },
    {
     "data": {
      "image/png": "[encoded data removed]",
      "text/plain": [
       "<Figure size 640x480 with 1 Axes>"
      ]
     },
     "metadata": {},
     "output_type": "display_data"
    }
   ],
   "source": [
    "sb.barplot(data=tiempo2, y='Periodo', x='Conteo')"
   ]
  },
  {
   "cell_type": "markdown",
   "metadata": {},
   "source": [
    "Los encuestados sugieren la generación continua de reportes (cada 30 minutos)"
   ]
  },
  {
   "cell_type": "code",
   "execution_count": 80,
   "metadata": {},
   "outputs": [
    {
     "data": {
      "text/plain": [
       "Index(['Fecha', 'Inclusion_autentificacion', 'Funciones_estudiante',\n",
       "       'Funciones_docente', 'Funciones_psicopedagogo', 'Reporte_estudiante',\n",
       "       'Reporte_docente', 'Funcionalidades_generales', 'Tiempo_actualizacion',\n",
       "       'SO_ejecucion', 'Navegadores_ejecucion', 'Dispositivos_ejecucion',\n",
       "       'Importancia_seguridad', 'Frecuencia_reportes', 'Aspectos_importantes'],\n",
       "      dtype='object')"
      ]
     },
     "execution_count": 80,
     "metadata": {},
     "output_type": "execute_result"
    }
   ],
   "source": [
    "dataset2.columns"
   ]
  },
  {
   "cell_type": "markdown",
   "metadata": {},
   "source": [
    "# SO para ejecución"
   ]
  },
  {
   "cell_type": "code",
   "execution_count": 81,
   "metadata": {},
   "outputs": [
    {
     "data": {
      "text/plain": [
       "SO_ejecucion\n",
       "Android                                              2\n",
       "Windows                                             12\n",
       "Windows, Android                                    11\n",
       "Windows, Android, iOS                                6\n",
       "Windows, Linux                                       3\n",
       "Windows, Linux, Android, iOS                         3\n",
       "Windows, iOS                                         1\n",
       "Windows, macOS                                       1\n",
       "Windows, macOS, Android                              1\n",
       "Windows, macOS, Android, iOS                        15\n",
       "Windows, macOS, Linux                                1\n",
       "Windows, macOS, Linux, Android                       2\n",
       "Windows, macOS, Linux, Android, iOS                 13\n",
       "Windows, macOS, Linux, Android, iOS, HarmonyOS 2     1\n",
       "iOS                                                  1\n",
       "Name: SO_ejecucion, dtype: int64"
      ]
     },
     "execution_count": 81,
     "metadata": {},
     "output_type": "execute_result"
    }
   ],
   "source": [
    "dataset2.groupby('SO_ejecucion')['SO_ejecucion'].count()"
   ]
  },
  {
   "cell_type": "code",
   "execution_count": 82,
   "metadata": {},
   "outputs": [],
   "source": [
    "SO = dataset2[['SO_ejecucion']]"
   ]
  },
  {
   "cell_type": "code",
   "execution_count": 83,
   "metadata": {},
   "outputs": [
    {
     "data": {
      "text/html": [
       "<div>\n",
       "<style scoped>\n",
       "    .dataframe tbody tr th:only-of-type {\n",
       "        vertical-align: middle;\n",
       "    }\n",
       "\n",
       "    .dataframe tbody tr th {\n",
       "        vertical-align: top;\n",
       "    }\n",
       "\n",
       "    .dataframe thead th {\n",
       "        text-align: right;\n",
       "    }\n",
       "</style>\n",
       "<table border=\"1\" class=\"dataframe\">\n",
       "  <thead>\n",
       "    <tr style=\"text-align: right;\">\n",
       "      <th></th>\n",
       "      <th>SO_ejecucion</th>\n",
       "    </tr>\n",
       "  </thead>\n",
       "  <tbody>\n",
       "    <tr>\n",
       "      <th>0</th>\n",
       "      <td>Windows, iOS</td>\n",
       "    </tr>\n",
       "    <tr>\n",
       "      <th>1</th>\n",
       "      <td>Windows, Android</td>\n",
       "    </tr>\n",
       "    <tr>\n",
       "      <th>2</th>\n",
       "      <td>Windows, macOS, Android, iOS</td>\n",
       "    </tr>\n",
       "    <tr>\n",
       "      <th>3</th>\n",
       "      <td>Windows, Linux</td>\n",
       "    </tr>\n",
       "    <tr>\n",
       "      <th>4</th>\n",
       "      <td>Windows</td>\n",
       "    </tr>\n",
       "  </tbody>\n",
       "</table>\n",
       "</div>"
      ],
      "text/plain": [
       "                   SO_ejecucion\n",
       "0                  Windows, iOS\n",
       "1              Windows, Android\n",
       "2  Windows, macOS, Android, iOS\n",
       "3                Windows, Linux\n",
       "4                       Windows"
      ]
     },
     "execution_count": 83,
     "metadata": {},
     "output_type": "execute_result"
    }
   ],
   "source": [
    "SO.head()"
   ]
  },
  {
   "cell_type": "code",
   "execution_count": 84,
   "metadata": {},
   "outputs": [],
   "source": [
    "SO = SO['SO_ejecucion'].str.split(',', expand=True)"
   ]
  },
  {
   "cell_type": "code",
   "execution_count": 85,
   "metadata": {},
   "outputs": [
    {
     "name": "stdout",
     "output_type": "stream",
     "text": [
      "0\n",
      "Android     2\n",
      "Windows    70\n",
      "iOS         1\n",
      "Name: 0, dtype: int64\n",
      "1\n",
      " Android    17\n",
      " Linux       6\n",
      " iOS         1\n",
      " macOS      34\n",
      "Name: 1, dtype: int64\n",
      "2\n",
      " Android    19\n",
      " Linux      17\n",
      " iOS         6\n",
      "Name: 2, dtype: int64\n",
      "3\n",
      " Android    16\n",
      " iOS        18\n",
      "Name: 3, dtype: int64\n",
      "4\n",
      " iOS    14\n",
      "Name: 4, dtype: int64\n",
      "5\n",
      " HarmonyOS 2    1\n",
      "Name: 5, dtype: int64\n"
     ]
    }
   ],
   "source": [
    "colum = SO.columns\n",
    "\n",
    "for col in colum:\n",
    "    a = SO.groupby(col)[col].count()\n",
    "    print(a)"
   ]
  },
  {
   "cell_type": "code",
   "execution_count": 86,
   "metadata": {},
   "outputs": [
    {
     "data": {
      "text/html": [
       "<div>\n",
       "<style scoped>\n",
       "    .dataframe tbody tr th:only-of-type {\n",
       "        vertical-align: middle;\n",
       "    }\n",
       "\n",
       "    .dataframe tbody tr th {\n",
       "        vertical-align: top;\n",
       "    }\n",
       "\n",
       "    .dataframe thead th {\n",
       "        text-align: right;\n",
       "    }\n",
       "</style>\n",
       "<table border=\"1\" class=\"dataframe\">\n",
       "  <thead>\n",
       "    <tr style=\"text-align: right;\">\n",
       "      <th></th>\n",
       "      <th>Funcion</th>\n",
       "      <th>Voto</th>\n",
       "    </tr>\n",
       "  </thead>\n",
       "  <tbody>\n",
       "    <tr>\n",
       "      <th>0</th>\n",
       "      <td>Android</td>\n",
       "      <td>54</td>\n",
       "    </tr>\n",
       "    <tr>\n",
       "      <th>1</th>\n",
       "      <td>Windows</td>\n",
       "      <td>70</td>\n",
       "    </tr>\n",
       "    <tr>\n",
       "      <th>2</th>\n",
       "      <td>iOS</td>\n",
       "      <td>40</td>\n",
       "    </tr>\n",
       "    <tr>\n",
       "      <th>3</th>\n",
       "      <td>Linux</td>\n",
       "      <td>23</td>\n",
       "    </tr>\n",
       "    <tr>\n",
       "      <th>4</th>\n",
       "      <td>macOS</td>\n",
       "      <td>34</td>\n",
       "    </tr>\n",
       "    <tr>\n",
       "      <th>5</th>\n",
       "      <td>HarmonyOS</td>\n",
       "      <td>1</td>\n",
       "    </tr>\n",
       "  </tbody>\n",
       "</table>\n",
       "</div>"
      ],
      "text/plain": [
       "     Funcion  Voto\n",
       "0    Android    54\n",
       "1    Windows    70\n",
       "2        iOS    40\n",
       "3      Linux    23\n",
       "4      macOS    34\n",
       "5  HarmonyOS     1"
      ]
     },
     "execution_count": 86,
     "metadata": {},
     "output_type": "execute_result"
    }
   ],
   "source": [
    "SO2 = pd.DataFrame({\n",
    "    'Funcion': ['Android', 'Windows', 'iOS', 'Linux', 'macOS', 'HarmonyOS'],\n",
    "    'Voto': [54, 70, 40, 23, 34, 1]\n",
    "})\n",
    "\n",
    "SO2"
   ]
  },
  {
   "cell_type": "code",
   "execution_count": 87,
   "metadata": {},
   "outputs": [
    {
     "data": {
      "text/plain": [
       "<Axes: xlabel='Voto', ylabel='Funcion'>"
      ]
     },
     "execution_count": 87,
     "metadata": {},
     "output_type": "execute_result"
    },
    {
     "data": {
      "image/png": "[encoded data removed]",
      "text/plain": [
       "<Figure size 640x480 with 1 Axes>"
      ]
     },
     "metadata": {},
     "output_type": "display_data"
    }
   ],
   "source": [
    "sb.barplot(data=SO2, y='Funcion', x='Voto')"
   ]
  },
  {
   "cell_type": "code",
   "execution_count": 88,
   "metadata": {},
   "outputs": [],
   "source": [
    "SO3 = SO2"
   ]
  },
  {
   "cell_type": "code",
   "execution_count": 89,
   "metadata": {},
   "outputs": [
    {
     "data": {
      "text/html": [
       "<div>\n",
       "<style scoped>\n",
       "    .dataframe tbody tr th:only-of-type {\n",
       "        vertical-align: middle;\n",
       "    }\n",
       "\n",
       "    .dataframe tbody tr th {\n",
       "        vertical-align: top;\n",
       "    }\n",
       "\n",
       "    .dataframe thead th {\n",
       "        text-align: right;\n",
       "    }\n",
       "</style>\n",
       "<table border=\"1\" class=\"dataframe\">\n",
       "  <thead>\n",
       "    <tr style=\"text-align: right;\">\n",
       "      <th></th>\n",
       "      <th>Funcion</th>\n",
       "      <th>Voto</th>\n",
       "    </tr>\n",
       "  </thead>\n",
       "  <tbody>\n",
       "    <tr>\n",
       "      <th>0</th>\n",
       "      <td>Android</td>\n",
       "      <td>54</td>\n",
       "    </tr>\n",
       "    <tr>\n",
       "      <th>1</th>\n",
       "      <td>Windows</td>\n",
       "      <td>70</td>\n",
       "    </tr>\n",
       "    <tr>\n",
       "      <th>2</th>\n",
       "      <td>iOS</td>\n",
       "      <td>40</td>\n",
       "    </tr>\n",
       "    <tr>\n",
       "      <th>3</th>\n",
       "      <td>Linux</td>\n",
       "      <td>23</td>\n",
       "    </tr>\n",
       "    <tr>\n",
       "      <th>4</th>\n",
       "      <td>macOS</td>\n",
       "      <td>34</td>\n",
       "    </tr>\n",
       "  </tbody>\n",
       "</table>\n",
       "</div>"
      ],
      "text/plain": [
       "   Funcion  Voto\n",
       "0  Android    54\n",
       "1  Windows    70\n",
       "2      iOS    40\n",
       "3    Linux    23\n",
       "4    macOS    34"
      ]
     },
     "execution_count": 89,
     "metadata": {},
     "output_type": "execute_result"
    }
   ],
   "source": [
    "SO3.head()"
   ]
  },
  {
   "cell_type": "code",
   "execution_count": 90,
   "metadata": {},
   "outputs": [],
   "source": [
    "SO3_PC = SO3.loc[[1, 3, 4]]"
   ]
  },
  {
   "cell_type": "code",
   "execution_count": 91,
   "metadata": {},
   "outputs": [
    {
     "data": {
      "text/html": [
       "<div>\n",
       "<style scoped>\n",
       "    .dataframe tbody tr th:only-of-type {\n",
       "        vertical-align: middle;\n",
       "    }\n",
       "\n",
       "    .dataframe tbody tr th {\n",
       "        vertical-align: top;\n",
       "    }\n",
       "\n",
       "    .dataframe thead th {\n",
       "        text-align: right;\n",
       "    }\n",
       "</style>\n",
       "<table border=\"1\" class=\"dataframe\">\n",
       "  <thead>\n",
       "    <tr style=\"text-align: right;\">\n",
       "      <th></th>\n",
       "      <th>Funcion</th>\n",
       "      <th>Voto</th>\n",
       "    </tr>\n",
       "  </thead>\n",
       "  <tbody>\n",
       "    <tr>\n",
       "      <th>1</th>\n",
       "      <td>Windows</td>\n",
       "      <td>70</td>\n",
       "    </tr>\n",
       "    <tr>\n",
       "      <th>3</th>\n",
       "      <td>Linux</td>\n",
       "      <td>23</td>\n",
       "    </tr>\n",
       "    <tr>\n",
       "      <th>4</th>\n",
       "      <td>macOS</td>\n",
       "      <td>34</td>\n",
       "    </tr>\n",
       "  </tbody>\n",
       "</table>\n",
       "</div>"
      ],
      "text/plain": [
       "   Funcion  Voto\n",
       "1  Windows    70\n",
       "3    Linux    23\n",
       "4    macOS    34"
      ]
     },
     "execution_count": 91,
     "metadata": {},
     "output_type": "execute_result"
    }
   ],
   "source": [
    "SO3_PC.head()"
   ]
  },
  {
   "cell_type": "code",
   "execution_count": 92,
   "metadata": {},
   "outputs": [
    {
     "data": {
      "text/plain": [
       "<Axes: xlabel='Voto', ylabel='Funcion'>"
      ]
     },
     "execution_count": 92,
     "metadata": {},
     "output_type": "execute_result"
    },
    {
     "data": {
      "image/png": "[encoded data removed]",
      "text/plain": [
       "<Figure size 640x480 with 1 Axes>"
      ]
     },
     "metadata": {},
     "output_type": "display_data"
    }
   ],
   "source": [
    "sb.barplot(data=SO3_PC, y='Funcion', x='Voto')"
   ]
  },
  {
   "cell_type": "markdown",
   "metadata": {},
   "source": [
    "La mayoría de encuestados maneja el sistema operativo Windows en el caso de computadoras"
   ]
  },
  {
   "cell_type": "code",
   "execution_count": 93,
   "metadata": {},
   "outputs": [],
   "source": [
    "SO3_celular = SO3.loc[[0, 2]]"
   ]
  },
  {
   "cell_type": "code",
   "execution_count": 94,
   "metadata": {},
   "outputs": [
    {
     "data": {
      "text/html": [
       "<div>\n",
       "<style scoped>\n",
       "    .dataframe tbody tr th:only-of-type {\n",
       "        vertical-align: middle;\n",
       "    }\n",
       "\n",
       "    .dataframe tbody tr th {\n",
       "        vertical-align: top;\n",
       "    }\n",
       "\n",
       "    .dataframe thead th {\n",
       "        text-align: right;\n",
       "    }\n",
       "</style>\n",
       "<table border=\"1\" class=\"dataframe\">\n",
       "  <thead>\n",
       "    <tr style=\"text-align: right;\">\n",
       "      <th></th>\n",
       "      <th>Funcion</th>\n",
       "      <th>Voto</th>\n",
       "    </tr>\n",
       "  </thead>\n",
       "  <tbody>\n",
       "    <tr>\n",
       "      <th>0</th>\n",
       "      <td>Android</td>\n",
       "      <td>54</td>\n",
       "    </tr>\n",
       "    <tr>\n",
       "      <th>2</th>\n",
       "      <td>iOS</td>\n",
       "      <td>40</td>\n",
       "    </tr>\n",
       "  </tbody>\n",
       "</table>\n",
       "</div>"
      ],
      "text/plain": [
       "   Funcion  Voto\n",
       "0  Android    54\n",
       "2      iOS    40"
      ]
     },
     "execution_count": 94,
     "metadata": {},
     "output_type": "execute_result"
    }
   ],
   "source": [
    "SO3_celular.head()"
   ]
  },
  {
   "cell_type": "code",
   "execution_count": 95,
   "metadata": {},
   "outputs": [
    {
     "data": {
      "text/plain": [
       "<Axes: xlabel='Voto', ylabel='Funcion'>"
      ]
     },
     "execution_count": 95,
     "metadata": {},
     "output_type": "execute_result"
    },
    {
     "data": {
      "image/png": "[encoded data removed]",
      "text/plain": [
       "<Figure size 640x480 with 1 Axes>"
      ]
     },
     "metadata": {},
     "output_type": "display_data"
    }
   ],
   "source": [
    "sb.barplot(data=SO3_celular, y='Funcion', x='Voto')"
   ]
  },
  {
   "cell_type": "markdown",
   "metadata": {},
   "source": [
    "La mayoría de encuestados maneja el sistema operativo Android en el caso de celulares"
   ]
  },
  {
   "cell_type": "markdown",
   "metadata": {},
   "source": [
    "# Navegadores para ejecución"
   ]
  },
  {
   "cell_type": "code",
   "execution_count": 96,
   "metadata": {},
   "outputs": [
    {
     "data": {
      "text/plain": [
       "Navegadores_ejecucion\n",
       "Brave                                                                           1\n",
       "Google Chrome                                                                  19\n",
       "Google Chrome, Brave                                                            1\n",
       "Google Chrome, Microsoft Edge                                                   8\n",
       "Google Chrome, Microsoft Edge, Brave                                            1\n",
       "Google Chrome, Microsoft Edge, Opera                                            5\n",
       "Google Chrome, Microsoft Edge, Safari                                           1\n",
       "Google Chrome, Mozilla Firefox                                                  4\n",
       "Google Chrome, Mozilla Firefox, Microsoft Edge, Opera                           2\n",
       "Google Chrome, Mozilla Firefox, Microsoft Edge, Safari                          2\n",
       "Google Chrome, Mozilla Firefox, Microsoft Edge, Safari, Opera                  10\n",
       "Google Chrome, Mozilla Firefox, Microsoft Edge, Safari, Opera, Duck Duck Go     1\n",
       "Google Chrome, Mozilla Firefox, Opera                                           4\n",
       "Google Chrome, Mozilla Firefox, Safari                                          1\n",
       "Google Chrome, Mozilla Firefox, Safari, Opera                                   2\n",
       "Google Chrome, Opera                                                            5\n",
       "Google Chrome, Safari                                                           3\n",
       "Microsoft Edge                                                                  1\n",
       "Microsoft Edge, Opera                                                           1\n",
       "Opera                                                                           1\n",
       "Name: Navegadores_ejecucion, dtype: int64"
      ]
     },
     "execution_count": 96,
     "metadata": {},
     "output_type": "execute_result"
    }
   ],
   "source": [
    "dataset2.groupby('Navegadores_ejecucion')['Navegadores_ejecucion'].count()"
   ]
  },
  {
   "cell_type": "code",
   "execution_count": 97,
   "metadata": {},
   "outputs": [],
   "source": [
    "Navegadores = dataset2[['Navegadores_ejecucion']]"
   ]
  },
  {
   "cell_type": "code",
   "execution_count": 98,
   "metadata": {},
   "outputs": [
    {
     "data": {
      "text/html": [
       "<div>\n",
       "<style scoped>\n",
       "    .dataframe tbody tr th:only-of-type {\n",
       "        vertical-align: middle;\n",
       "    }\n",
       "\n",
       "    .dataframe tbody tr th {\n",
       "        vertical-align: top;\n",
       "    }\n",
       "\n",
       "    .dataframe thead th {\n",
       "        text-align: right;\n",
       "    }\n",
       "</style>\n",
       "<table border=\"1\" class=\"dataframe\">\n",
       "  <thead>\n",
       "    <tr style=\"text-align: right;\">\n",
       "      <th></th>\n",
       "      <th>Navegadores_ejecucion</th>\n",
       "    </tr>\n",
       "  </thead>\n",
       "  <tbody>\n",
       "    <tr>\n",
       "      <th>0</th>\n",
       "      <td>Google Chrome, Microsoft Edge</td>\n",
       "    </tr>\n",
       "    <tr>\n",
       "      <th>1</th>\n",
       "      <td>Opera</td>\n",
       "    </tr>\n",
       "    <tr>\n",
       "      <th>2</th>\n",
       "      <td>Google Chrome, Mozilla Firefox, Opera</td>\n",
       "    </tr>\n",
       "    <tr>\n",
       "      <th>3</th>\n",
       "      <td>Google Chrome, Microsoft Edge</td>\n",
       "    </tr>\n",
       "    <tr>\n",
       "      <th>4</th>\n",
       "      <td>Google Chrome, Microsoft Edge</td>\n",
       "    </tr>\n",
       "  </tbody>\n",
       "</table>\n",
       "</div>"
      ],
      "text/plain": [
       "                   Navegadores_ejecucion\n",
       "0          Google Chrome, Microsoft Edge\n",
       "1                                  Opera\n",
       "2  Google Chrome, Mozilla Firefox, Opera\n",
       "3          Google Chrome, Microsoft Edge\n",
       "4          Google Chrome, Microsoft Edge"
      ]
     },
     "execution_count": 98,
     "metadata": {},
     "output_type": "execute_result"
    }
   ],
   "source": [
    "Navegadores.head()"
   ]
  },
  {
   "cell_type": "code",
   "execution_count": 99,
   "metadata": {},
   "outputs": [],
   "source": [
    "Navegadores = Navegadores['Navegadores_ejecucion'].str.split(',', expand=True)"
   ]
  },
  {
   "cell_type": "code",
   "execution_count": 100,
   "metadata": {},
   "outputs": [
    {
     "name": "stdout",
     "output_type": "stream",
     "text": [
      "0\n",
      "Brave              1\n",
      "Google Chrome     69\n",
      "Microsoft Edge     2\n",
      "Opera              1\n",
      "Name: 0, dtype: int64\n",
      "1\n",
      " Brave               1\n",
      " Microsoft Edge     15\n",
      " Mozilla Firefox    26\n",
      " Opera               6\n",
      " Safari              3\n",
      "Name: 1, dtype: int64\n",
      "2\n",
      " Brave              1\n",
      " Microsoft Edge    15\n",
      " Opera              9\n",
      " Safari             4\n",
      "Name: 2, dtype: int64\n",
      "3\n",
      " Opera      4\n",
      " Safari    13\n",
      "Name: 3, dtype: int64\n",
      "4\n",
      " Opera    11\n",
      "Name: 4, dtype: int64\n",
      "5\n",
      " Duck Duck Go    1\n",
      "Name: 5, dtype: int64\n"
     ]
    }
   ],
   "source": [
    "colum = Navegadores.columns\n",
    "\n",
    "for col in colum:\n",
    "    a = Navegadores.groupby(col)[col].count()\n",
    "    print(a)"
   ]
  },
  {
   "cell_type": "code",
   "execution_count": 101,
   "metadata": {},
   "outputs": [
    {
     "data": {
      "text/html": [
       "<div>\n",
       "<style scoped>\n",
       "    .dataframe tbody tr th:only-of-type {\n",
       "        vertical-align: middle;\n",
       "    }\n",
       "\n",
       "    .dataframe tbody tr th {\n",
       "        vertical-align: top;\n",
       "    }\n",
       "\n",
       "    .dataframe thead th {\n",
       "        text-align: right;\n",
       "    }\n",
       "</style>\n",
       "<table border=\"1\" class=\"dataframe\">\n",
       "  <thead>\n",
       "    <tr style=\"text-align: right;\">\n",
       "      <th></th>\n",
       "      <th>Funcion</th>\n",
       "      <th>Voto</th>\n",
       "    </tr>\n",
       "  </thead>\n",
       "  <tbody>\n",
       "    <tr>\n",
       "      <th>0</th>\n",
       "      <td>Brave</td>\n",
       "      <td>3</td>\n",
       "    </tr>\n",
       "    <tr>\n",
       "      <th>1</th>\n",
       "      <td>Google Chrome</td>\n",
       "      <td>69</td>\n",
       "    </tr>\n",
       "    <tr>\n",
       "      <th>2</th>\n",
       "      <td>Microsoft Edge</td>\n",
       "      <td>32</td>\n",
       "    </tr>\n",
       "    <tr>\n",
       "      <th>3</th>\n",
       "      <td>Opera</td>\n",
       "      <td>31</td>\n",
       "    </tr>\n",
       "    <tr>\n",
       "      <th>4</th>\n",
       "      <td>Mozilla Firefox</td>\n",
       "      <td>26</td>\n",
       "    </tr>\n",
       "    <tr>\n",
       "      <th>5</th>\n",
       "      <td>Safari</td>\n",
       "      <td>20</td>\n",
       "    </tr>\n",
       "    <tr>\n",
       "      <th>6</th>\n",
       "      <td>Duck Duck Go</td>\n",
       "      <td>1</td>\n",
       "    </tr>\n",
       "  </tbody>\n",
       "</table>\n",
       "</div>"
      ],
      "text/plain": [
       "           Funcion  Voto\n",
       "0            Brave     3\n",
       "1    Google Chrome    69\n",
       "2   Microsoft Edge    32\n",
       "3            Opera    31\n",
       "4  Mozilla Firefox    26\n",
       "5           Safari    20\n",
       "6     Duck Duck Go     1"
      ]
     },
     "execution_count": 101,
     "metadata": {},
     "output_type": "execute_result"
    }
   ],
   "source": [
    "Navegadores2 = pd.DataFrame({\n",
    "    'Funcion': ['Brave', 'Google Chrome', 'Microsoft Edge', 'Opera', 'Mozilla Firefox', 'Safari', 'Duck Duck Go'],\n",
    "    'Voto': [3, 69, 32, 31, 26, 20, 1]\n",
    "})\n",
    "\n",
    "Navegadores2"
   ]
  },
  {
   "cell_type": "code",
   "execution_count": 102,
   "metadata": {},
   "outputs": [
    {
     "data": {
      "text/plain": [
       "<Axes: xlabel='Voto', ylabel='Funcion'>"
      ]
     },
     "execution_count": 102,
     "metadata": {},
     "output_type": "execute_result"
    },
    {
     "data": {
      "image/png": "[encoded data removed]",
      "text/plain": [
       "<Figure size 640x480 with 1 Axes>"
      ]
     },
     "metadata": {},
     "output_type": "display_data"
    }
   ],
   "source": [
    "sb.barplot(data=Navegadores2, y='Funcion', x='Voto')"
   ]
  },
  {
   "cell_type": "markdown",
   "metadata": {},
   "source": [
    "La mayoría de encuestados utiliza el navegadores Google Chrome"
   ]
  },
  {
   "cell_type": "code",
   "execution_count": 103,
   "metadata": {},
   "outputs": [
    {
     "data": {
      "text/plain": [
       "Index(['Fecha', 'Inclusion_autentificacion', 'Funciones_estudiante',\n",
       "       'Funciones_docente', 'Funciones_psicopedagogo', 'Reporte_estudiante',\n",
       "       'Reporte_docente', 'Funcionalidades_generales', 'Tiempo_actualizacion',\n",
       "       'SO_ejecucion', 'Navegadores_ejecucion', 'Dispositivos_ejecucion',\n",
       "       'Importancia_seguridad', 'Frecuencia_reportes', 'Aspectos_importantes'],\n",
       "      dtype='object')"
      ]
     },
     "execution_count": 103,
     "metadata": {},
     "output_type": "execute_result"
    }
   ],
   "source": [
    "dataset2.columns"
   ]
  },
  {
   "cell_type": "code",
   "execution_count": 104,
   "metadata": {},
   "outputs": [
    {
     "data": {
      "text/plain": [
       "Dispositivos_ejecucion\n",
       "Celular                          6\n",
       "Computadora                      7\n",
       "Computadora, Celular            15\n",
       "Computadora, Tablet              2\n",
       "Computadora, Tablet, Celular    42\n",
       "Tablet                           1\n",
       "Name: Dispositivos_ejecucion, dtype: int64"
      ]
     },
     "execution_count": 104,
     "metadata": {},
     "output_type": "execute_result"
    }
   ],
   "source": [
    "dataset2.groupby('Dispositivos_ejecucion')['Dispositivos_ejecucion'].count()"
   ]
  },
  {
   "cell_type": "code",
   "execution_count": 105,
   "metadata": {},
   "outputs": [],
   "source": [
    "Dispo = dataset2[['Dispositivos_ejecucion']]"
   ]
  },
  {
   "cell_type": "code",
   "execution_count": 106,
   "metadata": {},
   "outputs": [
    {
     "data": {
      "text/html": [
       "<div>\n",
       "<style scoped>\n",
       "    .dataframe tbody tr th:only-of-type {\n",
       "        vertical-align: middle;\n",
       "    }\n",
       "\n",
       "    .dataframe tbody tr th {\n",
       "        vertical-align: top;\n",
       "    }\n",
       "\n",
       "    .dataframe thead th {\n",
       "        text-align: right;\n",
       "    }\n",
       "</style>\n",
       "<table border=\"1\" class=\"dataframe\">\n",
       "  <thead>\n",
       "    <tr style=\"text-align: right;\">\n",
       "      <th></th>\n",
       "      <th>Dispositivos_ejecucion</th>\n",
       "    </tr>\n",
       "  </thead>\n",
       "  <tbody>\n",
       "    <tr>\n",
       "      <th>0</th>\n",
       "      <td>Computadora, Tablet, Celular</td>\n",
       "    </tr>\n",
       "    <tr>\n",
       "      <th>1</th>\n",
       "      <td>Computadora, Celular</td>\n",
       "    </tr>\n",
       "    <tr>\n",
       "      <th>2</th>\n",
       "      <td>Computadora, Tablet, Celular</td>\n",
       "    </tr>\n",
       "    <tr>\n",
       "      <th>3</th>\n",
       "      <td>Computadora</td>\n",
       "    </tr>\n",
       "    <tr>\n",
       "      <th>4</th>\n",
       "      <td>Computadora</td>\n",
       "    </tr>\n",
       "  </tbody>\n",
       "</table>\n",
       "</div>"
      ],
      "text/plain": [
       "         Dispositivos_ejecucion\n",
       "0  Computadora, Tablet, Celular\n",
       "1          Computadora, Celular\n",
       "2  Computadora, Tablet, Celular\n",
       "3                   Computadora\n",
       "4                   Computadora"
      ]
     },
     "execution_count": 106,
     "metadata": {},
     "output_type": "execute_result"
    }
   ],
   "source": [
    "Dispo.head()"
   ]
  },
  {
   "cell_type": "code",
   "execution_count": 107,
   "metadata": {},
   "outputs": [],
   "source": [
    "Dispo = Dispo['Dispositivos_ejecucion'].str.split(',', expand=True)"
   ]
  },
  {
   "cell_type": "code",
   "execution_count": 108,
   "metadata": {},
   "outputs": [
    {
     "name": "stdout",
     "output_type": "stream",
     "text": [
      "0\n",
      "Celular         6\n",
      "Computadora    66\n",
      "Tablet          1\n",
      "Name: 0, dtype: int64\n",
      "1\n",
      " Celular    15\n",
      " Tablet     44\n",
      "Name: 1, dtype: int64\n",
      "2\n",
      " Celular    42\n",
      "Name: 2, dtype: int64\n"
     ]
    }
   ],
   "source": [
    "colum = Dispo.columns\n",
    "\n",
    "for col in colum:\n",
    "    a = Dispo.groupby(col)[col].count()\n",
    "    print(a)"
   ]
  },
  {
   "cell_type": "code",
   "execution_count": 109,
   "metadata": {},
   "outputs": [
    {
     "data": {
      "text/html": [
       "<div>\n",
       "<style scoped>\n",
       "    .dataframe tbody tr th:only-of-type {\n",
       "        vertical-align: middle;\n",
       "    }\n",
       "\n",
       "    .dataframe tbody tr th {\n",
       "        vertical-align: top;\n",
       "    }\n",
       "\n",
       "    .dataframe thead th {\n",
       "        text-align: right;\n",
       "    }\n",
       "</style>\n",
       "<table border=\"1\" class=\"dataframe\">\n",
       "  <thead>\n",
       "    <tr style=\"text-align: right;\">\n",
       "      <th></th>\n",
       "      <th>Funcion</th>\n",
       "      <th>Voto</th>\n",
       "    </tr>\n",
       "  </thead>\n",
       "  <tbody>\n",
       "    <tr>\n",
       "      <th>0</th>\n",
       "      <td>Celular</td>\n",
       "      <td>63</td>\n",
       "    </tr>\n",
       "    <tr>\n",
       "      <th>1</th>\n",
       "      <td>Computadora</td>\n",
       "      <td>66</td>\n",
       "    </tr>\n",
       "    <tr>\n",
       "      <th>2</th>\n",
       "      <td>Tablet</td>\n",
       "      <td>45</td>\n",
       "    </tr>\n",
       "  </tbody>\n",
       "</table>\n",
       "</div>"
      ],
      "text/plain": [
       "       Funcion  Voto\n",
       "0      Celular    63\n",
       "1  Computadora    66\n",
       "2       Tablet    45"
      ]
     },
     "execution_count": 109,
     "metadata": {},
     "output_type": "execute_result"
    }
   ],
   "source": [
    "Dispo2 = pd.DataFrame({\n",
    "    'Funcion': ['Celular', 'Computadora', 'Tablet'],\n",
    "    'Voto': [63, 66, 45]\n",
    "})\n",
    "\n",
    "Dispo2"
   ]
  },
  {
   "cell_type": "code",
   "execution_count": 110,
   "metadata": {},
   "outputs": [
    {
     "data": {
      "text/plain": [
       "<Axes: xlabel='Voto', ylabel='Funcion'>"
      ]
     },
     "execution_count": 110,
     "metadata": {},
     "output_type": "execute_result"
    },
    {
     "data": {
      "image/png": "[encoded data removed]",
      "text/plain": [
       "<Figure size 640x480 with 1 Axes>"
      ]
     },
     "metadata": {},
     "output_type": "display_data"
    }
   ],
   "source": [
    "sb.barplot(data=Dispo2, y='Funcion', x='Voto')"
   ]
  },
  {
   "cell_type": "markdown",
   "metadata": {},
   "source": [
    "La mayoría de usuarios emplea una computadora o un celular"
   ]
  },
  {
   "cell_type": "markdown",
   "metadata": {},
   "source": [
    "# Importancia de la implementación de un nivel de seguridad"
   ]
  },
  {
   "cell_type": "code",
   "execution_count": 111,
   "metadata": {},
   "outputs": [
    {
     "data": {
      "text/plain": [
       "Index(['Fecha', 'Inclusion_autentificacion', 'Funciones_estudiante',\n",
       "       'Funciones_docente', 'Funciones_psicopedagogo', 'Reporte_estudiante',\n",
       "       'Reporte_docente', 'Funcionalidades_generales', 'Tiempo_actualizacion',\n",
       "       'SO_ejecucion', 'Navegadores_ejecucion', 'Dispositivos_ejecucion',\n",
       "       'Importancia_seguridad', 'Frecuencia_reportes', 'Aspectos_importantes'],\n",
       "      dtype='object')"
      ]
     },
     "execution_count": 111,
     "metadata": {},
     "output_type": "execute_result"
    }
   ],
   "source": [
    "dataset2.columns"
   ]
  },
  {
   "cell_type": "code",
   "execution_count": 112,
   "metadata": {},
   "outputs": [
    {
     "data": {
      "text/plain": [
       "Importancia_seguridad\n",
       "Sí         71\n",
       "Tal vez     2\n",
       "Name: Importancia_seguridad, dtype: int64"
      ]
     },
     "execution_count": 112,
     "metadata": {},
     "output_type": "execute_result"
    }
   ],
   "source": [
    "dataset2.groupby('Importancia_seguridad')['Importancia_seguridad'].count()"
   ]
  },
  {
   "cell_type": "code",
   "execution_count": 113,
   "metadata": {},
   "outputs": [
    {
     "data": {
      "text/plain": [
       "<Axes: xlabel='Importancia_seguridad', ylabel='count'>"
      ]
     },
     "execution_count": 113,
     "metadata": {},
     "output_type": "execute_result"
    },
    {
     "data": {
      "image/png": "[encoded data removed]",
      "text/plain": [
       "<Figure size 640x480 with 1 Axes>"
      ]
     },
     "metadata": {},
     "output_type": "display_data"
    }
   ],
   "source": [
    "sb.countplot(x=dataset2['Importancia_seguridad'])"
   ]
  },
  {
   "cell_type": "markdown",
   "metadata": {},
   "source": [
    "Garantizar la seguridad del sistema es un punto de importancia para los usuarios de aplicaciones"
   ]
  },
  {
   "cell_type": "markdown",
   "metadata": {},
   "source": [
    "## Frecuencia de generación de reportes"
   ]
  },
  {
   "cell_type": "code",
   "execution_count": 114,
   "metadata": {},
   "outputs": [
    {
     "data": {
      "text/plain": [
       "Frecuencia_reportes\n",
       "Diariamente                         10\n",
       "En el momento en que se solicite     6\n",
       "Mensualmente                        19\n",
       "Semanalmente                        38\n",
       "Name: Frecuencia_reportes, dtype: int64"
      ]
     },
     "execution_count": 114,
     "metadata": {},
     "output_type": "execute_result"
    }
   ],
   "source": [
    "dataset2.groupby('Frecuencia_reportes')['Frecuencia_reportes'].count()"
   ]
  },
  {
   "cell_type": "code",
   "execution_count": 115,
   "metadata": {},
   "outputs": [
    {
     "data": {
      "text/plain": [
       "<Axes: xlabel='Frecuencia_reportes', ylabel='count'>"
      ]
     },
     "execution_count": 115,
     "metadata": {},
     "output_type": "execute_result"
    },
    {
     "data": {
      "image/png": "[encoded data removed]",
      "text/plain": [
       "<Figure size 640x480 with 1 Axes>"
      ]
     },
     "metadata": {},
     "output_type": "display_data"
    }
   ],
   "source": [
    "sb.countplot(x=dataset2['Frecuencia_reportes'])"
   ]
  },
  {
   "cell_type": "code",
   "execution_count": 116,
   "metadata": {},
   "outputs": [],
   "source": [
    "reporte = dataset2['Frecuencia_reportes'].to_frame()"
   ]
  },
  {
   "cell_type": "code",
   "execution_count": 117,
   "metadata": {},
   "outputs": [
    {
     "data": {
      "text/html": [
       "<div>\n",
       "<style scoped>\n",
       "    .dataframe tbody tr th:only-of-type {\n",
       "        vertical-align: middle;\n",
       "    }\n",
       "\n",
       "    .dataframe tbody tr th {\n",
       "        vertical-align: top;\n",
       "    }\n",
       "\n",
       "    .dataframe thead th {\n",
       "        text-align: right;\n",
       "    }\n",
       "</style>\n",
       "<table border=\"1\" class=\"dataframe\">\n",
       "  <thead>\n",
       "    <tr style=\"text-align: right;\">\n",
       "      <th></th>\n",
       "      <th>Frecuencia_reportes</th>\n",
       "    </tr>\n",
       "  </thead>\n",
       "  <tbody>\n",
       "    <tr>\n",
       "      <th>0</th>\n",
       "      <td>Semanalmente</td>\n",
       "    </tr>\n",
       "    <tr>\n",
       "      <th>1</th>\n",
       "      <td>Semanalmente</td>\n",
       "    </tr>\n",
       "    <tr>\n",
       "      <th>2</th>\n",
       "      <td>Semanalmente</td>\n",
       "    </tr>\n",
       "    <tr>\n",
       "      <th>3</th>\n",
       "      <td>Semanalmente</td>\n",
       "    </tr>\n",
       "    <tr>\n",
       "      <th>4</th>\n",
       "      <td>Diariamente</td>\n",
       "    </tr>\n",
       "    <tr>\n",
       "      <th>...</th>\n",
       "      <td>...</td>\n",
       "    </tr>\n",
       "    <tr>\n",
       "      <th>68</th>\n",
       "      <td>Semanalmente</td>\n",
       "    </tr>\n",
       "    <tr>\n",
       "      <th>69</th>\n",
       "      <td>Diariamente</td>\n",
       "    </tr>\n",
       "    <tr>\n",
       "      <th>70</th>\n",
       "      <td>Semanalmente</td>\n",
       "    </tr>\n",
       "    <tr>\n",
       "      <th>71</th>\n",
       "      <td>Mensualmente</td>\n",
       "    </tr>\n",
       "    <tr>\n",
       "      <th>72</th>\n",
       "      <td>Diariamente</td>\n",
       "    </tr>\n",
       "  </tbody>\n",
       "</table>\n",
       "<p>73 rows × 1 columns</p>\n",
       "</div>"
      ],
      "text/plain": [
       "   Frecuencia_reportes\n",
       "0         Semanalmente\n",
       "1         Semanalmente\n",
       "2         Semanalmente\n",
       "3         Semanalmente\n",
       "4          Diariamente\n",
       "..                 ...\n",
       "68        Semanalmente\n",
       "69         Diariamente\n",
       "70        Semanalmente\n",
       "71        Mensualmente\n",
       "72         Diariamente\n",
       "\n",
       "[73 rows x 1 columns]"
      ]
     },
     "execution_count": 117,
     "metadata": {},
     "output_type": "execute_result"
    }
   ],
   "source": [
    "reporte"
   ]
  },
  {
   "cell_type": "code",
   "execution_count": 118,
   "metadata": {},
   "outputs": [
    {
     "data": {
      "text/html": [
       "<div>\n",
       "<style scoped>\n",
       "    .dataframe tbody tr th:only-of-type {\n",
       "        vertical-align: middle;\n",
       "    }\n",
       "\n",
       "    .dataframe tbody tr th {\n",
       "        vertical-align: top;\n",
       "    }\n",
       "\n",
       "    .dataframe thead th {\n",
       "        text-align: right;\n",
       "    }\n",
       "</style>\n",
       "<table border=\"1\" class=\"dataframe\">\n",
       "  <thead>\n",
       "    <tr style=\"text-align: right;\">\n",
       "      <th></th>\n",
       "      <th>Frecuencia_reportes</th>\n",
       "    </tr>\n",
       "  </thead>\n",
       "  <tbody>\n",
       "    <tr>\n",
       "      <th>0</th>\n",
       "      <td>Semanalmente</td>\n",
       "    </tr>\n",
       "    <tr>\n",
       "      <th>1</th>\n",
       "      <td>Semanalmente</td>\n",
       "    </tr>\n",
       "    <tr>\n",
       "      <th>2</th>\n",
       "      <td>Semanalmente</td>\n",
       "    </tr>\n",
       "    <tr>\n",
       "      <th>3</th>\n",
       "      <td>Semanalmente</td>\n",
       "    </tr>\n",
       "    <tr>\n",
       "      <th>4</th>\n",
       "      <td>Diariamente</td>\n",
       "    </tr>\n",
       "    <tr>\n",
       "      <th>...</th>\n",
       "      <td>...</td>\n",
       "    </tr>\n",
       "    <tr>\n",
       "      <th>68</th>\n",
       "      <td>Semanalmente</td>\n",
       "    </tr>\n",
       "    <tr>\n",
       "      <th>69</th>\n",
       "      <td>Diariamente</td>\n",
       "    </tr>\n",
       "    <tr>\n",
       "      <th>70</th>\n",
       "      <td>Semanalmente</td>\n",
       "    </tr>\n",
       "    <tr>\n",
       "      <th>71</th>\n",
       "      <td>Mensualmente</td>\n",
       "    </tr>\n",
       "    <tr>\n",
       "      <th>72</th>\n",
       "      <td>Diariamente</td>\n",
       "    </tr>\n",
       "  </tbody>\n",
       "</table>\n",
       "<p>73 rows × 1 columns</p>\n",
       "</div>"
      ],
      "text/plain": [
       "   Frecuencia_reportes\n",
       "0         Semanalmente\n",
       "1         Semanalmente\n",
       "2         Semanalmente\n",
       "3         Semanalmente\n",
       "4          Diariamente\n",
       "..                 ...\n",
       "68        Semanalmente\n",
       "69         Diariamente\n",
       "70        Semanalmente\n",
       "71        Mensualmente\n",
       "72         Diariamente\n",
       "\n",
       "[73 rows x 1 columns]"
      ]
     },
     "execution_count": 118,
     "metadata": {},
     "output_type": "execute_result"
    }
   ],
   "source": [
    "reporte.loc[reporte['Frecuencia_reportes']=='En el momento en que se solicite'] = 'Momento solicitado'\n",
    "reporte"
   ]
  },
  {
   "cell_type": "code",
   "execution_count": 119,
   "metadata": {},
   "outputs": [
    {
     "data": {
      "text/plain": [
       "Frecuencia_reportes\n",
       "Diariamente           10\n",
       "Mensualmente          19\n",
       "Momento solicitado     6\n",
       "Semanalmente          38\n",
       "Name: Frecuencia_reportes, dtype: int64"
      ]
     },
     "execution_count": 119,
     "metadata": {},
     "output_type": "execute_result"
    }
   ],
   "source": [
    "reporte.groupby('Frecuencia_reportes')['Frecuencia_reportes'].count()"
   ]
  },
  {
   "cell_type": "code",
   "execution_count": 120,
   "metadata": {},
   "outputs": [
    {
     "data": {
      "text/plain": [
       "<Axes: xlabel='Frecuencia_reportes', ylabel='count'>"
      ]
     },
     "execution_count": 120,
     "metadata": {},
     "output_type": "execute_result"
    },
    {
     "data": {
      "image/png": "[encoded data removed]",
      "text/plain": [
       "<Figure size 640x480 with 1 Axes>"
      ]
     },
     "metadata": {},
     "output_type": "display_data"
    }
   ],
   "source": [
    "sb.countplot(x=reporte['Frecuencia_reportes'])"
   ]
  },
  {
   "cell_type": "markdown",
   "metadata": {},
   "source": [
    "Los encuestados manifiestan que la frecuencia de emisión de reportes debería ser periodizada, en específico cada semana"
   ]
  },
  {
   "cell_type": "markdown",
   "metadata": {},
   "source": [
    "## Aspectos importantes a considerar"
   ]
  },
  {
   "cell_type": "code",
   "execution_count": 121,
   "metadata": {},
   "outputs": [
    {
     "data": {
      "text/plain": [
       "Aspectos_importantes\n",
       "                                                                                       1\n",
       ".                                                                                      1\n",
       "..                                                                                     1\n",
       "Actualizaciones constantes                                                             2\n",
       "Actualizaciones periódicas que puedan corregir posibles errores                        1\n",
       "                                                                                      ..\n",
       "estar anexado a una base de datos que mantenga un respaldo de los datos ingresados     1\n",
       "la Interfaz uwu                                                                        1\n",
       "la gestión                                                                             1\n",
       "la optimizacion, que no se demore mucho en cargar la pagina o aplicación.              1\n",
       "que haya una estabilidad en la conexion                                                1\n",
       "Name: Aspectos_importantes, Length: 72, dtype: int64"
      ]
     },
     "execution_count": 121,
     "metadata": {},
     "output_type": "execute_result"
    }
   ],
   "source": [
    "dataset2.groupby('Aspectos_importantes')['Aspectos_importantes'].count()"
   ]
  },
  {
   "cell_type": "code",
   "execution_count": 122,
   "metadata": {},
   "outputs": [],
   "source": [
    "aspectos = dataset2['Aspectos_importantes'].to_frame()"
   ]
  },
  {
   "cell_type": "code",
   "execution_count": 123,
   "metadata": {},
   "outputs": [
    {
     "data": {
      "text/html": [
       "<div>\n",
       "<style scoped>\n",
       "    .dataframe tbody tr th:only-of-type {\n",
       "        vertical-align: middle;\n",
       "    }\n",
       "\n",
       "    .dataframe tbody tr th {\n",
       "        vertical-align: top;\n",
       "    }\n",
       "\n",
       "    .dataframe thead th {\n",
       "        text-align: right;\n",
       "    }\n",
       "</style>\n",
       "<table border=\"1\" class=\"dataframe\">\n",
       "  <thead>\n",
       "    <tr style=\"text-align: right;\">\n",
       "      <th></th>\n",
       "      <th>Aspectos_importantes</th>\n",
       "    </tr>\n",
       "  </thead>\n",
       "  <tbody>\n",
       "    <tr>\n",
       "      <th>0</th>\n",
       "      <td>Que no ocupe mucho espacio de almacenamiento</td>\n",
       "    </tr>\n",
       "    <tr>\n",
       "      <th>1</th>\n",
       "      <td>Consideren el inicio a la aplicación en un dis...</td>\n",
       "    </tr>\n",
       "    <tr>\n",
       "      <th>2</th>\n",
       "      <td>Interfaz de fácil manejo y entendible para el ...</td>\n",
       "    </tr>\n",
       "    <tr>\n",
       "      <th>3</th>\n",
       "      <td>Que no tenga bugs</td>\n",
       "    </tr>\n",
       "    <tr>\n",
       "      <th>4</th>\n",
       "      <td>Adaptacion a diversos sistemas operativos</td>\n",
       "    </tr>\n",
       "    <tr>\n",
       "      <th>...</th>\n",
       "      <td>...</td>\n",
       "    </tr>\n",
       "    <tr>\n",
       "      <th>68</th>\n",
       "      <td>La velocidad con la que se ejecuta</td>\n",
       "    </tr>\n",
       "    <tr>\n",
       "      <th>69</th>\n",
       "      <td>La interfaz grafica</td>\n",
       "    </tr>\n",
       "    <tr>\n",
       "      <th>70</th>\n",
       "      <td>La facilidad de uso</td>\n",
       "    </tr>\n",
       "    <tr>\n",
       "      <th>71</th>\n",
       "      <td>La eficiencia, debido que es necesaria para cu...</td>\n",
       "    </tr>\n",
       "    <tr>\n",
       "      <th>72</th>\n",
       "      <td>Técnicos</td>\n",
       "    </tr>\n",
       "  </tbody>\n",
       "</table>\n",
       "<p>73 rows × 1 columns</p>\n",
       "</div>"
      ],
      "text/plain": [
       "                                 Aspectos_importantes\n",
       "0        Que no ocupe mucho espacio de almacenamiento\n",
       "1   Consideren el inicio a la aplicación en un dis...\n",
       "2   Interfaz de fácil manejo y entendible para el ...\n",
       "3                                   Que no tenga bugs\n",
       "4           Adaptacion a diversos sistemas operativos\n",
       "..                                                ...\n",
       "68                La velocidad con la que se ejecuta \n",
       "69                               La interfaz grafica \n",
       "70                               La facilidad de uso \n",
       "71  La eficiencia, debido que es necesaria para cu...\n",
       "72                                           Técnicos\n",
       "\n",
       "[73 rows x 1 columns]"
      ]
     },
     "execution_count": 123,
     "metadata": {},
     "output_type": "execute_result"
    }
   ],
   "source": [
    "aspectos.head(73)"
   ]
  },
  {
   "cell_type": "code",
   "execution_count": 128,
   "metadata": {},
   "outputs": [],
   "source": [
    "aspectos2 = aspectos['Aspectos_importantes'].str.split()"
   ]
  },
  {
   "cell_type": "code",
   "execution_count": 136,
   "metadata": {},
   "outputs": [
    {
     "data": {
      "text/plain": [
       "0     [Que, no, ocupe, mucho, espacio, de, almacenam...\n",
       "1     [Consideren, el, inicio, a, la, aplicación, en...\n",
       "2     [Interfaz, de, fácil, manejo, y, entendible, p...\n",
       "3                                [Que, no, tenga, bugs]\n",
       "4       [Adaptacion, a, diversos, sistemas, operativos]\n",
       "                            ...                        \n",
       "68           [La, velocidad, con, la, que, se, ejecuta]\n",
       "69                              [La, interfaz, grafica]\n",
       "70                             [La, facilidad, de, uso]\n",
       "71    [La, eficiencia,, debido, que, es, necesaria, ...\n",
       "72                                           [Técnicos]\n",
       "Name: Aspectos_importantes, Length: 73, dtype: object"
      ]
     },
     "execution_count": 136,
     "metadata": {},
     "output_type": "execute_result"
    }
   ],
   "source": [
    "aspectos2"
   ]
  },
  {
   "cell_type": "code",
   "execution_count": 138,
   "metadata": {},
   "outputs": [
    {
     "name": "stdout",
     "output_type": "stream",
     "text": [
      "['Que', 'no', 'ocupe', 'mucho', 'espacio', 'de', 'almacenamiento', 'Consideren', 'el', 'inicio', 'a', 'la', 'aplicación', 'en', 'un', 'dispositivo', 'a', 'la', 'vez,', 'como', 'la', 'hace', 'el', 'SUM', 'Interfaz', 'de', 'fácil', 'manejo', 'y', 'entendible', 'para', 'el', 'usuario', 'Que', 'no', 'tenga', 'bugs', 'Adaptacion', 'a', 'diversos', 'sistemas', 'operativos', 'Su', 'interfaz', 'Actualizaciones', 'constantes', 'Interfaz', 'llamativa', 'Que', 'pueda', 'haber', 'interacción', 'entre', 'usuarios', 'Considero', 'que', 'con', 'los', 'propuestos', 'está', 'completa', 'Interfaz', 'fácil', 'y', 'amigable.', 'Menos', 'funciones.', 'Restricciones', 'de', 'usuario', 'Se', 'puede', 'tomar', 'en', 'cuenta', 'que', 'el', 'usuario', 'puede', 'tener', 'un', 'chat', 'de', 'consulta', ',', 'en', 'el', 'cual', 'puede', 'establecer', 'sus', 'dudas', 'directamente', 'al', 'docente', 'Agregar', 'recordatorios', 'de', 'actividades', 'del', 'estudiante', 'El', 'acceso', 'por', 'parte', 'de', 'los', 'tutores,', 'para', 'supervizar', 'el', 'rendimiento', 'de', 'los', 'estudiantes', 'la', 'optimizacion,', 'que', 'no', 'se', 'demore', 'mucho', 'en', 'cargar', 'la', 'pagina', 'o', 'aplicación.', 'la', 'gestión', 'estar', 'anexado', 'a', 'una', 'base', 'de', 'datos', 'que', 'mantenga', 'un', 'respaldo', 'de', 'los', 'datos', 'ingresados', 'que', 'haya', 'una', 'estabilidad', 'en', 'la', 'conexion', 'Corrección', 'de', 'datos', 'Que', 'tenga', 'seguridad', 'Una', 'interfaz', 'bonita', 'la', 'Interfaz', 'uwu', 'Que', 'maneje', 'una', 'sencilla', 'terminología', 'Optimización,', 'rendimiento', 'dependiendo', 'el', 'tipo', 'de', 'dispositivo.', 'Facilidad', 'de', 'uso', 'para', 'cualquier', 'tipo', 'de', 'usuario', 'El', 'reporte', 'de', 'rendimiento', 'del', 'estudiante', 'puede', 'ser', 'enviado', 'al', 'correo', 'de', 'este.', 'Los', 'niveles', 'de', 'seguridad', '.', 'Actualizaciones', 'constantes', 'La', 'velocidad', 'del', 'procesamiento', 'de', 'información.', 'Que', 'se', 'pueda', 'fácilmente', 'acceder', 'a', 'todas', 'sus', 'opciones', 'La', 'rapides', 'Sus', 'contenidos', 'Windows', 'Que', 'sean', 'entendible', 'para', 'el', 'usuario', 'para', 'que', 'así', 'no', 'presente', 'complicaciones', 'al', 'momento', 'de', 'ejecutar', 'o', 'visualizar', 'los', 'datos', 'o', 'información', 'Recordatorios', 'y', 'notificaciones', 'de', 'lo', 'progresado,', 'algo', 'así', 'como', 'el', 'progreso', 'en', 'Duolingo.', 'El', 'diseño,', 'son', 'muy', 'llamativos', 'en', 'el', 'ojo', 'del', 'usuario', 'Funcionamiento', 'offline', 'de', 'la', 'APP', 'No', 'se', 'por', 'el', 'momento', 'Proporcionarle', 'una', 'buena', 'experiencia', 'al', 'usuario,', 'con', 'una', 'buena', 'funcionalidad', 'y', 'rendimiento,', 'que', 'ofrezca', 'una', 'seguridad', 'de', 'con', 'la', 'información', 'brindada', 'y', 'que', 'reciba', 'constantes', 'mantenimientos', 'y', 'actualizaciones', 'Ninguna', 'La', 'seguridad', 'confidencialudad', 'Fluidez', 'y', 'rapidez', 'del', 'programa', 'Creo', 'que', 'ya', 'mencionaron', 'los', 'más', 'importantes', 'Que', 'automáticamente', 'se', 'guarden', 'algunos', 'cambios', 'q', 'se', 'realizan.', 'Promediar', 'notas', 'Que', 'pueda', 'ser', 'sencillo', 'instalarlo', 'en', 'los', 'dispositivos.', 'Pasos', 'a', 'seguir', 'correctamente', 'Rendimiento', 'en', 'el', 'sistema', 'Actualizaciones', 'periódicas', 'que', 'puedan', 'corregir', 'posibles', 'errores', 'Otros', 'Adaptabilidad', 'Rapidez', '..', 'Facilidad', 'de', 'uso', 'del', 'usuario', 'Generación', 'de', 'reportes', 'interactivos', 'por', 'el', 'usuario', 'La', 'interfaz', 'grafica,', 'el', 'modo', 'y', 'la', 'facilidad', 'de', 'acceso.', 'Optimización', 'del', 'sistema.', 'Que', 'la', 'información', 'sea', 'clara', 'y', 'precisa', 'acerca', 'de', 'los', 'diferentes', 'reportes', 'que', 'genere;', 'a', 'su', 'vez', 'que', 'independientemente', 'de', 'la', 'opción', 'escogida', 'en', 'la', 'frecuencia', 'de', 'reportes,', 'estos', 'también', 'deberían', 'generarse', 'cuando', 'se', 'les', 'solicite.', 'Ninguno', 'Que', 'posea', 'una', 'interfaz', 'interactiva,', 'multifuncional,', 'sistema', 'de', 'búsqueda', 'versátil', '(evitar', 'lo', 'complejo).', 'Tal', 'vez', 'Facilidad', 'de', 'uso', 'La', 'actualización', 'que', 'no', 'demore', 'mucho', 'Que', 'los', 'análisis', 'hechos', 'para', 'los', 'estudiantes', 'y', 'profesores', 'tambien', 'vaya', 'para', 'el', 'director.', 'Xd', 'Eficiencia,', 'accesible,', 'entre', 'otros', 'La', 'velocidad', 'con', 'la', 'que', 'se', 'ejecuta', 'La', 'interfaz', 'grafica', 'La', 'facilidad', 'de', 'uso', 'La', 'eficiencia,', 'debido', 'que', 'es', 'necesaria', 'para', 'cumplir', 'los', 'objetivos', 'que', 'se', 'plantea']\n"
     ]
    }
   ],
   "source": [
    "##grupo =[]\n",
    "\n",
    "###for i in range(72):\n",
    "   ### subgrupo = []\n",
    "   ### for m in range(len(aspectos2[i])):\n",
    "      ###  subgrupo.append(aspectos2[i])\n",
    "   ### grupo+=subgrupo\n",
    "\n",
    "### grupo\n",
    "\n",
    "grupo = []\n",
    "\n",
    "for i in range(72):\n",
    "    subgrupo = aspectos2[i]\n",
    "    grupo += subgrupo\n",
    "\n",
    "print(grupo)\n"
   ]
  },
  {
   "cell_type": "code",
   "execution_count": 142,
   "metadata": {},
   "outputs": [
    {
     "data": {
      "image/png": "[encoded data removed]",
      "text/plain": [
       "<Figure size 640x480 with 1 Axes>"
      ]
     },
     "metadata": {},
     "output_type": "display_data"
    }
   ],
   "source": [
    "from wordcloud import WordCloud\n",
    "import matplotlib.pyplot as plt\n",
    "\n",
    "grupo_texto = \" \".join(grupo)\n",
    "\n",
    "nube = WordCloud().generate(grupo_texto)\n",
    "\n",
    "plt.imshow(nube, interpolation='bilinear')\n",
    "plt.axis(\"off\")\n",
    "plt.show()"
   ]
  },
  {
   "cell_type": "code",
   "execution_count": 153,
   "metadata": {},
   "outputs": [
    {
     "data": {
      "image/png": "[encoded data removed]",
      "text/plain": [
       "<Figure size 640x480 with 1 Axes>"
      ]
     },
     "metadata": {},
     "output_type": "display_data"
    }
   ],
   "source": [
    "from wordcloud import WordCloud\n",
    "import matplotlib.pyplot as plt\n",
    "\n",
    "stop_words = ['y', 'para', 'en', 'su', 'en', 'con', 'puede', 'el', 'una', 'del', 'que', 'lo', 'que', 'de', 'la', 'los', 'se', 'a', 'no', 'al']\n",
    "\n",
    "# Unir la lista `grupo` en una cadena de texto\n",
    "grupo_texto = \" \".join(grupo)\n",
    "\n",
    "# Generar la nube de palabras\n",
    "nube = WordCloud(stopwords=stop_words).generate(grupo_texto)\n",
    "\n",
    "# Mostrar la nube de palabras\n",
    "plt.imshow(nube, interpolation='bilinear')\n",
    "plt.axis(\"off\")\n",
    "plt.show()\n"
   ]
  },
  {
   "cell_type": "markdown",
   "metadata": {},
   "source": [
    "Los encuestados consideran importante el rendimiento del sistema, la orientación al usuario, la interactividad de la interfaz,\n",
    "la constancia de las actualizaciones, la seguridad de la aplicación y la facilidad de uso."
   ]
  }
 ],
 "metadata": {
  "kernelspec": {
   "display_name": "Python 3",
   "language": "python",
   "name": "python3"
  },
  "language_info": {
   "codemirror_mode": {
    "name": "ipython",
    "version": 3
   },
   "file_extension": ".py",
   "mimetype": "text/x-python",
   "name": "python",
   "nbconvert_exporter": "python",
   "pygments_lexer": "ipython3",
   "version": "3.11.3"
  }
 },
 "nbformat": 4,
 "nbformat_minor": 2
}
